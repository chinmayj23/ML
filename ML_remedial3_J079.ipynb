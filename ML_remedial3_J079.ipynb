{
  "nbformat": 4,
  "nbformat_minor": 0,
  "metadata": {
    "colab": {
      "name": "ML_remedial3_J079.ipynb",
      "provenance": [],
      "mount_file_id": "1MOI5eUVyxBj6p8PiOt8VMSlBQn06YBgP",
      "authorship_tag": "ABX9TyMbv+NVIvatM/xcQHvpW0g6",
      "include_colab_link": true
    },
    "kernelspec": {
      "name": "python3",
      "display_name": "Python 3"
    }
  },
  "cells": [
    {
      "cell_type": "markdown",
      "metadata": {
        "id": "view-in-github",
        "colab_type": "text"
      },
      "source": [
        "<a href=\"https://colab.research.google.com/github/chinmayj23/ML/blob/master/ML_remedial3_J079.ipynb\" target=\"_parent\"><img src=\"https://colab.research.google.com/assets/colab-badge.svg\" alt=\"Open In Colab\"/></a>"
      ]
    },
    {
      "cell_type": "markdown",
      "metadata": {
        "id": "Pz9Fk42EsDcQ"
      },
      "source": [
        "teaching assistant"
      ]
    },
    {
      "cell_type": "code",
      "metadata": {
        "id": "8IojOK5Cqw9P",
        "outputId": "a44c1e05-5c7e-4e21-b7df-b665fa074402",
        "colab": {
          "base_uri": "https://localhost:8080/",
          "height": 17
        }
      },
      "source": [
        "import numpy as np\n",
        "import pandas as pd\n",
        "import re\n",
        "import xgboost as xgb\n",
        "import seaborn as sns\n",
        "import matplotlib.pyplot as plt\n",
        "%matplotlib inline\n",
        "\n",
        "import plotly.offline as py\n",
        "py.init_notebook_mode(connected=True)\n",
        "import plotly.graph_objs as go\n",
        "import plotly.tools as tls\n",
        "\n",
        "from sklearn import tree\n",
        "from sklearn.metrics import accuracy_score\n",
        "from sklearn.model_selection import KFold\n",
        "from sklearn.model_selection import cross_val_score\n",
        "\n",
        "np.random.seed(27)"
      ],
      "execution_count": 33,
      "outputs": [
        {
          "output_type": "display_data",
          "data": {
            "text/html": [
              "        <script type=\"text/javascript\">\n",
              "        window.PlotlyConfig = {MathJaxConfig: 'local'};\n",
              "        if (window.MathJax) {MathJax.Hub.Config({SVG: {font: \"STIX-Web\"}});}\n",
              "        if (typeof require !== 'undefined') {\n",
              "        require.undef(\"plotly\");\n",
              "        requirejs.config({\n",
              "            paths: {\n",
              "                'plotly': ['https://cdn.plot.ly/plotly-latest.min']\n",
              "            }\n",
              "        });\n",
              "        require(['plotly'], function(Plotly) {\n",
              "            window._Plotly = Plotly;\n",
              "        });\n",
              "        }\n",
              "        </script>\n",
              "        "
            ]
          },
          "metadata": {
            "tags": []
          }
        }
      ]
    },
    {
      "cell_type": "code",
      "metadata": {
        "id": "JWPzcCGBsE_5"
      },
      "source": [
        "data=pd.read_csv(\"/content/drive/My Drive/teachingAssistant.csv\")"
      ],
      "execution_count": 34,
      "outputs": []
    },
    {
      "cell_type": "code",
      "metadata": {
        "id": "4NXeiUPnsNGd",
        "outputId": "7232ce09-7f2a-4c0b-f5f2-063455ffc131",
        "colab": {
          "base_uri": "https://localhost:8080/",
          "height": 195
        }
      },
      "source": [
        "data.head()"
      ],
      "execution_count": 35,
      "outputs": [
        {
          "output_type": "execute_result",
          "data": {
            "text/html": [
              "<div>\n",
              "<style scoped>\n",
              "    .dataframe tbody tr th:only-of-type {\n",
              "        vertical-align: middle;\n",
              "    }\n",
              "\n",
              "    .dataframe tbody tr th {\n",
              "        vertical-align: top;\n",
              "    }\n",
              "\n",
              "    .dataframe thead th {\n",
              "        text-align: right;\n",
              "    }\n",
              "</style>\n",
              "<table border=\"1\" class=\"dataframe\">\n",
              "  <thead>\n",
              "    <tr style=\"text-align: right;\">\n",
              "      <th></th>\n",
              "      <th>ID</th>\n",
              "      <th>EnglishSepaker</th>\n",
              "      <th>courseInstructor</th>\n",
              "      <th>course</th>\n",
              "      <th>summer</th>\n",
              "      <th>classSize</th>\n",
              "      <th>class</th>\n",
              "    </tr>\n",
              "  </thead>\n",
              "  <tbody>\n",
              "    <tr>\n",
              "      <th>0</th>\n",
              "      <td>1</td>\n",
              "      <td>1</td>\n",
              "      <td>23</td>\n",
              "      <td>3</td>\n",
              "      <td>1</td>\n",
              "      <td>19</td>\n",
              "      <td>3</td>\n",
              "    </tr>\n",
              "    <tr>\n",
              "      <th>1</th>\n",
              "      <td>2</td>\n",
              "      <td>2</td>\n",
              "      <td>15</td>\n",
              "      <td>3</td>\n",
              "      <td>1</td>\n",
              "      <td>17</td>\n",
              "      <td>3</td>\n",
              "    </tr>\n",
              "    <tr>\n",
              "      <th>2</th>\n",
              "      <td>3</td>\n",
              "      <td>1</td>\n",
              "      <td>23</td>\n",
              "      <td>3</td>\n",
              "      <td>2</td>\n",
              "      <td>49</td>\n",
              "      <td>3</td>\n",
              "    </tr>\n",
              "    <tr>\n",
              "      <th>3</th>\n",
              "      <td>4</td>\n",
              "      <td>1</td>\n",
              "      <td>5</td>\n",
              "      <td>2</td>\n",
              "      <td>2</td>\n",
              "      <td>33</td>\n",
              "      <td>3</td>\n",
              "    </tr>\n",
              "    <tr>\n",
              "      <th>4</th>\n",
              "      <td>5</td>\n",
              "      <td>2</td>\n",
              "      <td>7</td>\n",
              "      <td>11</td>\n",
              "      <td>2</td>\n",
              "      <td>55</td>\n",
              "      <td>3</td>\n",
              "    </tr>\n",
              "  </tbody>\n",
              "</table>\n",
              "</div>"
            ],
            "text/plain": [
              "   ID  EnglishSepaker  courseInstructor  course  summer  classSize  class\n",
              "0   1               1                23       3       1         19      3\n",
              "1   2               2                15       3       1         17      3\n",
              "2   3               1                23       3       2         49      3\n",
              "3   4               1                 5       2       2         33      3\n",
              "4   5               2                 7      11       2         55      3"
            ]
          },
          "metadata": {
            "tags": []
          },
          "execution_count": 35
        }
      ]
    },
    {
      "cell_type": "code",
      "metadata": {
        "id": "jYixELmL03_H"
      },
      "source": [
        "df=data.drop(columns=['ID','class'],axis=1)"
      ],
      "execution_count": 36,
      "outputs": []
    },
    {
      "cell_type": "code",
      "metadata": {
        "id": "C1EBBEq0sPUE",
        "outputId": "8bca1db0-9fe0-4d35-8d42-799d3fb61e40",
        "colab": {
          "base_uri": "https://localhost:8080/"
        }
      },
      "source": [
        "data.info()"
      ],
      "execution_count": 37,
      "outputs": [
        {
          "output_type": "stream",
          "text": [
            "<class 'pandas.core.frame.DataFrame'>\n",
            "RangeIndex: 151 entries, 0 to 150\n",
            "Data columns (total 7 columns):\n",
            " #   Column            Non-Null Count  Dtype\n",
            "---  ------            --------------  -----\n",
            " 0   ID                151 non-null    int64\n",
            " 1   EnglishSepaker    151 non-null    int64\n",
            " 2   courseInstructor  151 non-null    int64\n",
            " 3   course            151 non-null    int64\n",
            " 4   summer            151 non-null    int64\n",
            " 5   classSize         151 non-null    int64\n",
            " 6   class             151 non-null    int64\n",
            "dtypes: int64(7)\n",
            "memory usage: 8.4 KB\n"
          ],
          "name": "stdout"
        }
      ]
    },
    {
      "cell_type": "code",
      "metadata": {
        "id": "OoEqun59uivP"
      },
      "source": [
        "y=data['class']"
      ],
      "execution_count": 19,
      "outputs": []
    },
    {
      "cell_type": "code",
      "metadata": {
        "id": "nBpkI_iQupQs"
      },
      "source": [
        "from sklearn import preprocessing\n",
        "le = preprocessing.LabelEncoder()\n",
        "le.fit(y.unique())\n",
        "y = le.transform(y)"
      ],
      "execution_count": 20,
      "outputs": []
    },
    {
      "cell_type": "code",
      "metadata": {
        "id": "X_HX1PdIuqPi"
      },
      "source": [
        "seed = 8\n",
        "test_size = 0.2\n",
        "X_train, X_test, y_train, y_test = train_test_split(df, y, test_size=test_size, random_state=seed)"
      ],
      "execution_count": 21,
      "outputs": []
    },
    {
      "cell_type": "code",
      "metadata": {
        "id": "Vew0_FPouz_f"
      },
      "source": [
        "logistic = linear_model.LogisticRegression(solver='liblinear')\n",
        "sgd = linear_model.SGDClassifier()"
      ],
      "execution_count": 25,
      "outputs": []
    },
    {
      "cell_type": "code",
      "metadata": {
        "id": "3CB_Ocv716AR"
      },
      "source": [
        "models = [logistic, sgd]"
      ],
      "execution_count": 26,
      "outputs": []
    },
    {
      "cell_type": "code",
      "metadata": {
        "id": "tDB88pn518D7",
        "outputId": "bc83c474-12a6-42b9-ebd2-3baac6d8fade",
        "colab": {
          "base_uri": "https://localhost:8080/"
        }
      },
      "source": [
        "penalty = ['l1', 'l2']\n",
        "C = [0.0001, 0.001, 0.01]\n",
        "class_weight = [{1:0.5, 0:0.5}, {1:0.4, 0:0.6}]\n",
        "solver = ['liblinear', 'saga']\n",
        "\n",
        "param_grid = dict(penalty=penalty,\n",
        "                  C=C,\n",
        "                  class_weight=class_weight,\n",
        "                  solver=solver)\n",
        "\n",
        "grid = GridSearchCV(estimator=logistic, param_grid=param_grid, scoring='accuracy', verbose=1, n_jobs=-1)\n",
        "grid_result = grid.fit(X_train, y_train)\n",
        "\n",
        "print('Best Score: ', grid_result.best_score_)\n",
        "print('Best Params: ', grid_result.best_params_)"
      ],
      "execution_count": 27,
      "outputs": [
        {
          "output_type": "stream",
          "text": [
            "Fitting 5 folds for each of 24 candidates, totalling 120 fits\n"
          ],
          "name": "stdout"
        },
        {
          "output_type": "stream",
          "text": [
            "[Parallel(n_jobs=-1)]: Using backend LokyBackend with 2 concurrent workers.\n"
          ],
          "name": "stderr"
        },
        {
          "output_type": "stream",
          "text": [
            "Best Score:  0.4\n",
            "Best Params:  {'C': 0.01, 'class_weight': {1: 0.5, 0: 0.5}, 'penalty': 'l2', 'solver': 'liblinear'}\n"
          ],
          "name": "stdout"
        },
        {
          "output_type": "stream",
          "text": [
            "[Parallel(n_jobs=-1)]: Done 120 out of 120 | elapsed:    1.9s finished\n"
          ],
          "name": "stderr"
        }
      ]
    },
    {
      "cell_type": "code",
      "metadata": {
        "id": "r097usM92Nv8"
      },
      "source": [
        "def get_cv_scores(model):\n",
        "    scores = cross_val_score(model, X_train, y_train, cv=3, scoring='accuracy')\n",
        "    print('CV Mean: ', np.mean(scores))\n",
        "    print('STD: ', np.std(scores))\n",
        "    print('\\n')"
      ],
      "execution_count": 28,
      "outputs": []
    },
    {
      "cell_type": "code",
      "metadata": {
        "id": "fgAp73x42W0d",
        "outputId": "f5f33e21-7b43-4851-a9a8-1cfac885c6d3",
        "colab": {
          "base_uri": "https://localhost:8080/"
        }
      },
      "source": [
        "logistic = linear_model.LogisticRegression(C=0.0001, class_weight={1:0.5, 0:0.5}, penalty='l2', solver='liblinear')\n",
        "get_cv_scores(logistic)"
      ],
      "execution_count": 29,
      "outputs": [
        {
          "output_type": "stream",
          "text": [
            "CV Mean:  0.35833333333333334\n",
            "STD:  0.011785113019775804\n",
            "\n",
            "\n"
          ],
          "name": "stdout"
        }
      ]
    },
    {
      "cell_type": "code",
      "metadata": {
        "id": "2Vd7cZvT2bzh",
        "outputId": "a101fc08-45f1-4cbe-eea6-ea42528b081b",
        "colab": {
          "base_uri": "https://localhost:8080/"
        }
      },
      "source": [
        "from sklearn.metrics import accuracy_score\n",
        "\n",
        "logistic.fit(X_train, y_train)\n",
        "\n",
        "y_train_pred = logistic.predict(X_train)\n",
        "accuracy_train = accuracy_score(y_train, y_train_pred)\n",
        "print(\"Accuracy: %.2f%%\" % (accuracy_train))\n",
        "\n",
        "\n",
        "y_test_pred = logistic.predict(X_test)\n",
        "accuracy_test = accuracy_score(y_test, y_test_pred)\n",
        "print(\"Accuracy: %.2f%%\" % (accuracy_test))"
      ],
      "execution_count": 30,
      "outputs": [
        {
          "output_type": "stream",
          "text": [
            "Accuracy: 0.36%\n",
            "Accuracy: 0.29%\n"
          ],
          "name": "stdout"
        }
      ]
    },
    {
      "cell_type": "code",
      "metadata": {
        "id": "IaKv6B402pwB"
      },
      "source": [
        "from sklearn import ensemble\n",
        "\n",
        "obj1 = ensemble.AdaBoostClassifier()\n",
        "obj2 = ensemble.BaggingClassifier()\n",
        "obj3 = ensemble.GradientBoostingClassifier()\n",
        "obj4 = ensemble.RandomForestClassifier()\n",
        "estimators = [obj1, obj2, obj3, obj4]\n",
        "obj5 = ensemble.StackingClassifier(estimators=estimators)\n",
        "obj6 = ensemble.VotingClassifier(estimators=estimators)\n"
      ],
      "execution_count": 40,
      "outputs": []
    },
    {
      "cell_type": "code",
      "metadata": {
        "id": "bW6AuUOk4kqJ",
        "outputId": "5e5aa897-a197-4cfc-f520-dfc67662b3d9",
        "colab": {
          "base_uri": "https://localhost:8080/"
        }
      },
      "source": [
        "models = [obj1, obj2, obj3, obj4,obj5,obj6]\n",
        "for model in models:\n",
        "    print(model)\n",
        "    get_cv_scores(model)"
      ],
      "execution_count": 41,
      "outputs": [
        {
          "output_type": "stream",
          "text": [
            "AdaBoostClassifier(algorithm='SAMME.R', base_estimator=None, learning_rate=1.0,\n",
            "                   n_estimators=50, random_state=None)\n",
            "CV Mean:  0.40833333333333327\n",
            "STD:  0.042491829279939886\n",
            "\n",
            "\n",
            "BaggingClassifier(base_estimator=None, bootstrap=True, bootstrap_features=False,\n",
            "                  max_features=1.0, max_samples=1.0, n_estimators=10,\n",
            "                  n_jobs=None, oob_score=False, random_state=None, verbose=0,\n",
            "                  warm_start=False)\n",
            "CV Mean:  0.5249999999999999\n",
            "STD:  0.04082482904638629\n",
            "\n",
            "\n",
            "GradientBoostingClassifier(ccp_alpha=0.0, criterion='friedman_mse', init=None,\n",
            "                           learning_rate=0.1, loss='deviance', max_depth=3,\n",
            "                           max_features=None, max_leaf_nodes=None,\n",
            "                           min_impurity_decrease=0.0, min_impurity_split=None,\n",
            "                           min_samples_leaf=1, min_samples_split=2,\n",
            "                           min_weight_fraction_leaf=0.0, n_estimators=100,\n",
            "                           n_iter_no_change=None, presort='deprecated',\n",
            "                           random_state=None, subsample=1.0, tol=0.0001,\n",
            "                           validation_fraction=0.1, verbose=0,\n",
            "                           warm_start=False)\n",
            "CV Mean:  0.5416666666666666\n",
            "STD:  0.05137011669140814\n",
            "\n",
            "\n",
            "RandomForestClassifier(bootstrap=True, ccp_alpha=0.0, class_weight=None,\n",
            "                       criterion='gini', max_depth=None, max_features='auto',\n",
            "                       max_leaf_nodes=None, max_samples=None,\n",
            "                       min_impurity_decrease=0.0, min_impurity_split=None,\n",
            "                       min_samples_leaf=1, min_samples_split=2,\n",
            "                       min_weight_fraction_leaf=0.0, n_estimators=100,\n",
            "                       n_jobs=None, oob_score=False, random_state=None,\n",
            "                       verbose=0, warm_start=False)\n",
            "CV Mean:  0.5833333333333334\n",
            "STD:  0.023570226039551553\n",
            "\n",
            "\n",
            "StackingClassifier(cv=None,\n",
            "                   estimators=[AdaBoostClassifier(algorithm='SAMME.R',\n",
            "                                                  base_estimator=None,\n",
            "                                                  learning_rate=1.0,\n",
            "                                                  n_estimators=50,\n",
            "                                                  random_state=None),\n",
            "                               BaggingClassifier(base_estimator=None,\n",
            "                                                 bootstrap=True,\n",
            "                                                 bootstrap_features=False,\n",
            "                                                 max_features=1.0,\n",
            "                                                 max_samples=1.0,\n",
            "                                                 n_estimators=10, n_jobs=None,\n",
            "                                                 oob_score=False,\n",
            "                                                 random_state=None, verbose=0,\n",
            "                                                 warm_start=False...\n",
            "                                                      max_depth=None,\n",
            "                                                      max_features='auto',\n",
            "                                                      max_leaf_nodes=None,\n",
            "                                                      max_samples=None,\n",
            "                                                      min_impurity_decrease=0.0,\n",
            "                                                      min_impurity_split=None,\n",
            "                                                      min_samples_leaf=1,\n",
            "                                                      min_samples_split=2,\n",
            "                                                      min_weight_fraction_leaf=0.0,\n",
            "                                                      n_estimators=100,\n",
            "                                                      n_jobs=None,\n",
            "                                                      oob_score=False,\n",
            "                                                      random_state=None,\n",
            "                                                      verbose=0,\n",
            "                                                      warm_start=False)],\n",
            "                   final_estimator=None, n_jobs=None, passthrough=False,\n",
            "                   stack_method='auto', verbose=0)\n",
            "CV Mean:  nan\n",
            "STD:  nan\n",
            "\n",
            "\n",
            "VotingClassifier(estimators=[AdaBoostClassifier(algorithm='SAMME.R',\n",
            "                                                base_estimator=None,\n",
            "                                                learning_rate=1.0,\n",
            "                                                n_estimators=50,\n",
            "                                                random_state=None),\n",
            "                             BaggingClassifier(base_estimator=None,\n",
            "                                               bootstrap=True,\n",
            "                                               bootstrap_features=False,\n",
            "                                               max_features=1.0,\n",
            "                                               max_samples=1.0, n_estimators=10,\n",
            "                                               n_jobs=None, oob_score=False,\n",
            "                                               random_state=None, verbose=0,\n",
            "                                               warm_start=False),\n",
            "                             Gradient...\n",
            "                                                    criterion='gini',\n",
            "                                                    max_depth=None,\n",
            "                                                    max_features='auto',\n",
            "                                                    max_leaf_nodes=None,\n",
            "                                                    max_samples=None,\n",
            "                                                    min_impurity_decrease=0.0,\n",
            "                                                    min_impurity_split=None,\n",
            "                                                    min_samples_leaf=1,\n",
            "                                                    min_samples_split=2,\n",
            "                                                    min_weight_fraction_leaf=0.0,\n",
            "                                                    n_estimators=100,\n",
            "                                                    n_jobs=None,\n",
            "                                                    oob_score=False,\n",
            "                                                    random_state=None,\n",
            "                                                    verbose=0,\n",
            "                                                    warm_start=False)],\n",
            "                 flatten_transform=True, n_jobs=None, voting='hard',\n",
            "                 weights=None)\n",
            "CV Mean:  nan\n",
            "STD:  nan\n",
            "\n",
            "\n"
          ],
          "name": "stdout"
        },
        {
          "output_type": "stream",
          "text": [
            "/usr/local/lib/python3.6/dist-packages/sklearn/model_selection/_validation.py:536: FitFailedWarning:\n",
            "\n",
            "Estimator fit failed. The score on this train-test partition for these parameters will be set to nan. Details: \n",
            "AttributeError: 'AdaBoostClassifier' object has no attribute 'estimators_'\n",
            "\n",
            "\n",
            "/usr/local/lib/python3.6/dist-packages/sklearn/model_selection/_validation.py:536: FitFailedWarning:\n",
            "\n",
            "Estimator fit failed. The score on this train-test partition for these parameters will be set to nan. Details: \n",
            "AttributeError: 'AdaBoostClassifier' object has no attribute 'estimators_'\n",
            "\n",
            "\n"
          ],
          "name": "stderr"
        }
      ]
    },
    {
      "cell_type": "code",
      "metadata": {
        "id": "7g-LQVU54wDz",
        "outputId": "0a26fb3b-5073-4a2d-f4d4-fff066bebef4",
        "colab": {
          "base_uri": "https://localhost:8080/"
        }
      },
      "source": [
        "base_estimator = [obj1, obj2, obj3, obj4, None]\n",
        "n_estimators = [40,50,60]\n",
        "learning_rate = [0.5,1,1.5]\n",
        "algorithm = ['SAMME', 'SAMME.R']\n",
        "random_state = [1, None]\n",
        "\n",
        "param_grid = dict(base_estimator=base_estimator,n_estimators=n_estimators,learning_rate=learning_rate,algorithm =algorithm,random_state=random_state)\n",
        "\n",
        "\n",
        "grid = GridSearchCV(estimator=obj1, param_grid=param_grid, scoring='accuracy', verbose=1, n_jobs=-1)\n",
        "grid_result = grid.fit(X_train, y_train)\n",
        "\n",
        "print('Best Score: ', grid_result.best_score_)\n",
        "print('Best Params: ', grid_result.best_params_)"
      ],
      "execution_count": 42,
      "outputs": [
        {
          "output_type": "stream",
          "text": [
            "Fitting 5 folds for each of 180 candidates, totalling 900 fits\n"
          ],
          "name": "stdout"
        },
        {
          "output_type": "stream",
          "text": [
            "[Parallel(n_jobs=-1)]: Using backend LokyBackend with 2 concurrent workers.\n",
            "[Parallel(n_jobs=-1)]: Done  46 tasks      | elapsed:  2.4min\n",
            "[Parallel(n_jobs=-1)]: Done 196 tasks      | elapsed:  7.3min\n",
            "[Parallel(n_jobs=-1)]: Done 446 tasks      | elapsed: 26.2min\n",
            "[Parallel(n_jobs=-1)]: Done 796 tasks      | elapsed: 52.2min\n",
            "[Parallel(n_jobs=-1)]: Done 900 out of 900 | elapsed: 54.0min finished\n"
          ],
          "name": "stderr"
        },
        {
          "output_type": "stream",
          "text": [
            "Best Score:  0.5833333333333334\n",
            "Best Params:  {'algorithm': 'SAMME', 'base_estimator': RandomForestClassifier(bootstrap=True, ccp_alpha=0.0, class_weight=None,\n",
            "                       criterion='gini', max_depth=None, max_features='auto',\n",
            "                       max_leaf_nodes=None, max_samples=None,\n",
            "                       min_impurity_decrease=0.0, min_impurity_split=None,\n",
            "                       min_samples_leaf=1, min_samples_split=2,\n",
            "                       min_weight_fraction_leaf=0.0, n_estimators=100,\n",
            "                       n_jobs=None, oob_score=False, random_state=None,\n",
            "                       verbose=0, warm_start=False), 'learning_rate': 1, 'n_estimators': 60, 'random_state': 1}\n"
          ],
          "name": "stdout"
        }
      ]
    },
    {
      "cell_type": "code",
      "metadata": {
        "id": "cymHROsW4wn5",
        "outputId": "cde6ecb9-3db9-44b7-da87-532cd75d7209",
        "colab": {
          "base_uri": "https://localhost:8080/"
        }
      },
      "source": [
        "from sklearn.metrics import accuracy_score\n",
        "\n",
        "y_train_pred = grid.predict(X_train)\n",
        "accuracy_train = accuracy_score(y_train, y_train_pred)\n",
        "print(\"Accuracy: %.2f%%\" % (accuracy_train))\n",
        "\n",
        "\n",
        "y_test_pred = grid.predict(X_test)\n",
        "accuracy_test = accuracy_score(y_test, y_test_pred)\n",
        "print(\"Accuracy: %.2f%%\" % (accuracy_test))"
      ],
      "execution_count": 43,
      "outputs": [
        {
          "output_type": "stream",
          "text": [
            "Accuracy: 0.97%\n",
            "Accuracy: 0.74%\n"
          ],
          "name": "stdout"
        }
      ]
    }
  ]
}