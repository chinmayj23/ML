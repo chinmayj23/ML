{
  "nbformat": 4,
  "nbformat_minor": 0,
  "metadata": {
    "colab": {
      "name": "J079_lab6_ML.ipynb",
      "provenance": [],
      "authorship_tag": "ABX9TyOuUjhv/t/MABejttuG/UPq",
      "include_colab_link": true
    },
    "kernelspec": {
      "name": "python3",
      "display_name": "Python 3"
    }
  },
  "cells": [
    {
      "cell_type": "markdown",
      "metadata": {
        "id": "view-in-github",
        "colab_type": "text"
      },
      "source": [
        "<a href=\"https://colab.research.google.com/github/chinmayj23/ML/blob/master/J079_lab6_ML.ipynb\" target=\"_parent\"><img src=\"https://colab.research.google.com/assets/colab-badge.svg\" alt=\"Open In Colab\"/></a>"
      ]
    },
    {
      "cell_type": "code",
      "metadata": {
        "id": "dX6E2k39i3Ds",
        "colab_type": "code",
        "colab": {
          "base_uri": "https://localhost:8080/",
          "height": 70
        },
        "outputId": "6b8dd504-ea1a-44ed-bb0d-f5db6611cea8"
      },
      "source": [
        "import pandas as pd\n",
        "import numpy as np\n",
        "\n",
        "import matplotlib.pyplot as plt\n",
        "import seaborn as sb\n",
        "\n",
        "import keras"
      ],
      "execution_count": 1,
      "outputs": [
        {
          "output_type": "stream",
          "text": [
            "/usr/local/lib/python3.6/dist-packages/statsmodels/tools/_testing.py:19: FutureWarning: pandas.util.testing is deprecated. Use the functions in the public API at pandas.testing instead.\n",
            "  import pandas.util.testing as tm\n"
          ],
          "name": "stderr"
        }
      ]
    },
    {
      "cell_type": "code",
      "metadata": {
        "id": "smS1B3W5ZcaP",
        "colab_type": "code",
        "colab": {
          "base_uri": "https://localhost:8080/",
          "height": 571
        },
        "outputId": "9fa2904a-5d0d-4b54-d87e-32afd24e10d5"
      },
      "source": [
        "!wget -O 2011gcn.csv https://raw.githubusercontent.com/pranavn91/blockchain/master/2011gcn.csv\n",
        "!wget -O tx2011partvertices_new.csv https://raw.githubusercontent.com/pranavn91/blockchain/master/tx2011partvertices_new.csv\n",
        "!wget -O tx2011partvertices.csv https://raw.githubusercontent.com/pranavn91/blockchain/master/tx2011partvertices.csv\n",
        " \n",
        "train1 = pd.read_csv('2011gcn.csv')\n",
        "train2 = pd.read_csv('tx2011partvertices_new.csv')\n",
        "train3 = pd.read_csv('tx2011partvertices.csv')"
      ],
      "execution_count": 2,
      "outputs": [
        {
          "output_type": "stream",
          "text": [
            "--2020-08-31 02:43:44--  https://raw.githubusercontent.com/pranavn91/blockchain/master/2011gcn.csv\n",
            "Resolving raw.githubusercontent.com (raw.githubusercontent.com)... 151.101.0.133, 151.101.64.133, 151.101.128.133, ...\n",
            "Connecting to raw.githubusercontent.com (raw.githubusercontent.com)|151.101.0.133|:443... connected.\n",
            "HTTP request sent, awaiting response... 200 OK\n",
            "Length: 12563086 (12M) [text/plain]\n",
            "Saving to: ‘2011gcn.csv’\n",
            "\n",
            "2011gcn.csv         100%[===================>]  11.98M  20.8MB/s    in 0.6s    \n",
            "\n",
            "2020-08-31 02:43:45 (20.8 MB/s) - ‘2011gcn.csv’ saved [12563086/12563086]\n",
            "\n",
            "--2020-08-31 02:43:45--  https://raw.githubusercontent.com/pranavn91/blockchain/master/tx2011partvertices_new.csv\n",
            "Resolving raw.githubusercontent.com (raw.githubusercontent.com)... 151.101.0.133, 151.101.64.133, 151.101.128.133, ...\n",
            "Connecting to raw.githubusercontent.com (raw.githubusercontent.com)|151.101.0.133|:443... connected.\n",
            "HTTP request sent, awaiting response... 200 OK\n",
            "Length: 12501458 (12M) [text/plain]\n",
            "Saving to: ‘tx2011partvertices_new.csv’\n",
            "\n",
            "tx2011partvertices_ 100%[===================>]  11.92M  28.1MB/s    in 0.4s    \n",
            "\n",
            "2020-08-31 02:43:45 (28.1 MB/s) - ‘tx2011partvertices_new.csv’ saved [12501458/12501458]\n",
            "\n",
            "--2020-08-31 02:43:46--  https://raw.githubusercontent.com/pranavn91/blockchain/master/tx2011partvertices.csv\n",
            "Resolving raw.githubusercontent.com (raw.githubusercontent.com)... 151.101.0.133, 151.101.64.133, 151.101.128.133, ...\n",
            "Connecting to raw.githubusercontent.com (raw.githubusercontent.com)|151.101.0.133|:443... connected.\n",
            "HTTP request sent, awaiting response... 200 OK\n",
            "Length: 1934257 (1.8M) [text/plain]\n",
            "Saving to: ‘tx2011partvertices.csv’\n",
            "\n",
            "tx2011partvertices. 100%[===================>]   1.84M  9.24MB/s    in 0.2s    \n",
            "\n",
            "2020-08-31 02:43:46 (9.24 MB/s) - ‘tx2011partvertices.csv’ saved [1934257/1934257]\n",
            "\n"
          ],
          "name": "stdout"
        }
      ]
    },
    {
      "cell_type": "code",
      "metadata": {
        "id": "Gs-l5ra0ZpPF",
        "colab_type": "code",
        "colab": {
          "base_uri": "https://localhost:8080/",
          "height": 195
        },
        "outputId": "929e79cb-b46b-4ea4-fcf2-9fbf493eb1bf"
      },
      "source": [
        "train1.head()"
      ],
      "execution_count": 3,
      "outputs": [
        {
          "output_type": "execute_result",
          "data": {
            "text/html": [
              "<div>\n",
              "<style scoped>\n",
              "    .dataframe tbody tr th:only-of-type {\n",
              "        vertical-align: middle;\n",
              "    }\n",
              "\n",
              "    .dataframe tbody tr th {\n",
              "        vertical-align: top;\n",
              "    }\n",
              "\n",
              "    .dataframe thead th {\n",
              "        text-align: right;\n",
              "    }\n",
              "</style>\n",
              "<table border=\"1\" class=\"dataframe\">\n",
              "  <thead>\n",
              "    <tr style=\"text-align: right;\">\n",
              "      <th></th>\n",
              "      <th>Unnamed: 0</th>\n",
              "      <th>0</th>\n",
              "      <th>1</th>\n",
              "      <th>2</th>\n",
              "      <th>3</th>\n",
              "      <th>4</th>\n",
              "      <th>5</th>\n",
              "      <th>6</th>\n",
              "      <th>7</th>\n",
              "      <th>8</th>\n",
              "      <th>9</th>\n",
              "      <th>10</th>\n",
              "      <th>11</th>\n",
              "      <th>12</th>\n",
              "      <th>13</th>\n",
              "      <th>14</th>\n",
              "      <th>15</th>\n",
              "    </tr>\n",
              "  </thead>\n",
              "  <tbody>\n",
              "    <tr>\n",
              "      <th>0</th>\n",
              "      <td>0</td>\n",
              "      <td>0.0</td>\n",
              "      <td>4.811244e+07</td>\n",
              "      <td>0.0</td>\n",
              "      <td>0.0</td>\n",
              "      <td>5.298934e+07</td>\n",
              "      <td>0.0</td>\n",
              "      <td>5.215435e+07</td>\n",
              "      <td>0.0</td>\n",
              "      <td>0.0</td>\n",
              "      <td>4.293262e+05</td>\n",
              "      <td>3.994267e+07</td>\n",
              "      <td>6.251989e+07</td>\n",
              "      <td>0.0</td>\n",
              "      <td>0.0</td>\n",
              "      <td>2.670458e+07</td>\n",
              "      <td>8.313858e+07</td>\n",
              "    </tr>\n",
              "    <tr>\n",
              "      <th>1</th>\n",
              "      <td>1</td>\n",
              "      <td>0.0</td>\n",
              "      <td>3.477977e+05</td>\n",
              "      <td>0.0</td>\n",
              "      <td>0.0</td>\n",
              "      <td>3.777575e+05</td>\n",
              "      <td>0.0</td>\n",
              "      <td>3.757520e+05</td>\n",
              "      <td>0.0</td>\n",
              "      <td>0.0</td>\n",
              "      <td>6.889133e+03</td>\n",
              "      <td>3.001618e+05</td>\n",
              "      <td>4.527358e+05</td>\n",
              "      <td>0.0</td>\n",
              "      <td>0.0</td>\n",
              "      <td>1.915057e+05</td>\n",
              "      <td>6.009039e+05</td>\n",
              "    </tr>\n",
              "    <tr>\n",
              "      <th>2</th>\n",
              "      <td>2</td>\n",
              "      <td>0.0</td>\n",
              "      <td>6.455196e+07</td>\n",
              "      <td>0.0</td>\n",
              "      <td>0.0</td>\n",
              "      <td>7.110790e+07</td>\n",
              "      <td>0.0</td>\n",
              "      <td>6.997804e+07</td>\n",
              "      <td>0.0</td>\n",
              "      <td>0.0</td>\n",
              "      <td>5.670157e+05</td>\n",
              "      <td>5.356332e+07</td>\n",
              "      <td>8.388026e+07</td>\n",
              "      <td>0.0</td>\n",
              "      <td>0.0</td>\n",
              "      <td>3.583296e+07</td>\n",
              "      <td>1.115463e+08</td>\n",
              "    </tr>\n",
              "    <tr>\n",
              "      <th>3</th>\n",
              "      <td>3</td>\n",
              "      <td>0.0</td>\n",
              "      <td>2.009876e+08</td>\n",
              "      <td>0.0</td>\n",
              "      <td>0.0</td>\n",
              "      <td>2.214679e+08</td>\n",
              "      <td>0.0</td>\n",
              "      <td>2.174101e+08</td>\n",
              "      <td>0.0</td>\n",
              "      <td>0.0</td>\n",
              "      <td>1.342720e+06</td>\n",
              "      <td>1.665389e+08</td>\n",
              "      <td>2.614420e+08</td>\n",
              "      <td>0.0</td>\n",
              "      <td>0.0</td>\n",
              "      <td>1.116514e+08</td>\n",
              "      <td>3.472892e+08</td>\n",
              "    </tr>\n",
              "    <tr>\n",
              "      <th>4</th>\n",
              "      <td>4</td>\n",
              "      <td>0.0</td>\n",
              "      <td>2.384675e+05</td>\n",
              "      <td>0.0</td>\n",
              "      <td>0.0</td>\n",
              "      <td>2.597246e+05</td>\n",
              "      <td>0.0</td>\n",
              "      <td>2.577884e+05</td>\n",
              "      <td>0.0</td>\n",
              "      <td>0.0</td>\n",
              "      <td>4.202993e+03</td>\n",
              "      <td>2.042845e+05</td>\n",
              "      <td>3.103489e+05</td>\n",
              "      <td>0.0</td>\n",
              "      <td>0.0</td>\n",
              "      <td>1.315073e+05</td>\n",
              "      <td>4.120424e+05</td>\n",
              "    </tr>\n",
              "  </tbody>\n",
              "</table>\n",
              "</div>"
            ],
            "text/plain": [
              "   Unnamed: 0    0             1    2  ...   12   13            14            15\n",
              "0           0  0.0  4.811244e+07  0.0  ...  0.0  0.0  2.670458e+07  8.313858e+07\n",
              "1           1  0.0  3.477977e+05  0.0  ...  0.0  0.0  1.915057e+05  6.009039e+05\n",
              "2           2  0.0  6.455196e+07  0.0  ...  0.0  0.0  3.583296e+07  1.115463e+08\n",
              "3           3  0.0  2.009876e+08  0.0  ...  0.0  0.0  1.116514e+08  3.472892e+08\n",
              "4           4  0.0  2.384675e+05  0.0  ...  0.0  0.0  1.315073e+05  4.120424e+05\n",
              "\n",
              "[5 rows x 17 columns]"
            ]
          },
          "metadata": {
            "tags": []
          },
          "execution_count": 3
        }
      ]
    },
    {
      "cell_type": "code",
      "metadata": {
        "id": "zZSOTpUiZ5Fj",
        "colab_type": "code",
        "colab": {
          "base_uri": "https://localhost:8080/",
          "height": 232
        },
        "outputId": "a0d6e580-23d2-4db3-ce3e-2bc3558ba368"
      },
      "source": [
        "train2.head()"
      ],
      "execution_count": 6,
      "outputs": [
        {
          "output_type": "execute_result",
          "data": {
            "text/html": [
              "<div>\n",
              "<style scoped>\n",
              "    .dataframe tbody tr th:only-of-type {\n",
              "        vertical-align: middle;\n",
              "    }\n",
              "\n",
              "    .dataframe tbody tr th {\n",
              "        vertical-align: top;\n",
              "    }\n",
              "\n",
              "    .dataframe thead th {\n",
              "        text-align: right;\n",
              "    }\n",
              "</style>\n",
              "<table border=\"1\" class=\"dataframe\">\n",
              "  <thead>\n",
              "    <tr style=\"text-align: right;\">\n",
              "      <th></th>\n",
              "      <th>Unnamed: 0</th>\n",
              "      <th>txsize</th>\n",
              "      <th>txvirtualsize</th>\n",
              "      <th>txinputs_count</th>\n",
              "      <th>txoutputs_count</th>\n",
              "      <th>txinput_val</th>\n",
              "      <th>txoutput_val</th>\n",
              "      <th>txfee</th>\n",
              "      <th>Min_received</th>\n",
              "      <th>Max_received</th>\n",
              "      <th>Avg_received</th>\n",
              "      <th>Total_received</th>\n",
              "      <th>Stdev_received</th>\n",
              "      <th>Var_received</th>\n",
              "      <th>Min_sent</th>\n",
              "      <th>Max_sent</th>\n",
              "      <th>Avg_sent</th>\n",
              "      <th>Total_sent</th>\n",
              "      <th>Stdev_sent</th>\n",
              "      <th>Var_sent</th>\n",
              "    </tr>\n",
              "  </thead>\n",
              "  <tbody>\n",
              "    <tr>\n",
              "      <th>0</th>\n",
              "      <td>1</td>\n",
              "      <td>7369</td>\n",
              "      <td>7369</td>\n",
              "      <td>5</td>\n",
              "      <td>190</td>\n",
              "      <td>215000000.0</td>\n",
              "      <td>214600000.0</td>\n",
              "      <td>400000</td>\n",
              "      <td>0.0005</td>\n",
              "      <td>1.0000</td>\n",
              "      <td>0.011295</td>\n",
              "      <td>2.1460</td>\n",
              "      <td>0.081163</td>\n",
              "      <td>0.006587</td>\n",
              "      <td>0.0005</td>\n",
              "      <td>1.6700</td>\n",
              "      <td>0.4300</td>\n",
              "      <td>2.1500</td>\n",
              "      <td>0.703445</td>\n",
              "      <td>0.494835</td>\n",
              "    </tr>\n",
              "    <tr>\n",
              "      <th>1</th>\n",
              "      <td>2</td>\n",
              "      <td>293</td>\n",
              "      <td>293</td>\n",
              "      <td>1</td>\n",
              "      <td>3</td>\n",
              "      <td>4400000.0</td>\n",
              "      <td>4350000.0</td>\n",
              "      <td>50000</td>\n",
              "      <td>0.0010</td>\n",
              "      <td>0.0415</td>\n",
              "      <td>0.014500</td>\n",
              "      <td>0.0435</td>\n",
              "      <td>0.023383</td>\n",
              "      <td>0.000547</td>\n",
              "      <td>0.0440</td>\n",
              "      <td>0.0440</td>\n",
              "      <td>0.0440</td>\n",
              "      <td>0.0440</td>\n",
              "      <td>0.000000</td>\n",
              "      <td>0.000000</td>\n",
              "    </tr>\n",
              "    <tr>\n",
              "      <th>2</th>\n",
              "      <td>3</td>\n",
              "      <td>11139</td>\n",
              "      <td>11139</td>\n",
              "      <td>1</td>\n",
              "      <td>322</td>\n",
              "      <td>125000000.0</td>\n",
              "      <td>124400000.0</td>\n",
              "      <td>600000</td>\n",
              "      <td>0.0010</td>\n",
              "      <td>0.4460</td>\n",
              "      <td>0.003863</td>\n",
              "      <td>1.2440</td>\n",
              "      <td>0.024941</td>\n",
              "      <td>0.000622</td>\n",
              "      <td>1.2500</td>\n",
              "      <td>1.2500</td>\n",
              "      <td>1.2500</td>\n",
              "      <td>1.2500</td>\n",
              "      <td>0.000000</td>\n",
              "      <td>0.000000</td>\n",
              "    </tr>\n",
              "    <tr>\n",
              "      <th>3</th>\n",
              "      <td>4</td>\n",
              "      <td>495</td>\n",
              "      <td>495</td>\n",
              "      <td>1</td>\n",
              "      <td>9</td>\n",
              "      <td>27450000.0</td>\n",
              "      <td>27400000.0</td>\n",
              "      <td>50000</td>\n",
              "      <td>0.0010</td>\n",
              "      <td>0.2660</td>\n",
              "      <td>0.030444</td>\n",
              "      <td>0.2740</td>\n",
              "      <td>0.088333</td>\n",
              "      <td>0.007803</td>\n",
              "      <td>0.2745</td>\n",
              "      <td>0.2745</td>\n",
              "      <td>0.2745</td>\n",
              "      <td>0.2745</td>\n",
              "      <td>0.000000</td>\n",
              "      <td>0.000000</td>\n",
              "    </tr>\n",
              "    <tr>\n",
              "      <th>4</th>\n",
              "      <td>5</td>\n",
              "      <td>462</td>\n",
              "      <td>462</td>\n",
              "      <td>1</td>\n",
              "      <td>8</td>\n",
              "      <td>3000000.0</td>\n",
              "      <td>2950000.0</td>\n",
              "      <td>50000</td>\n",
              "      <td>0.0010</td>\n",
              "      <td>0.0225</td>\n",
              "      <td>0.003687</td>\n",
              "      <td>0.0295</td>\n",
              "      <td>0.007601</td>\n",
              "      <td>0.000058</td>\n",
              "      <td>0.0300</td>\n",
              "      <td>0.0300</td>\n",
              "      <td>0.0300</td>\n",
              "      <td>0.0300</td>\n",
              "      <td>0.000000</td>\n",
              "      <td>0.000000</td>\n",
              "    </tr>\n",
              "  </tbody>\n",
              "</table>\n",
              "</div>"
            ],
            "text/plain": [
              "   Unnamed: 0  txsize  txvirtualsize  ...  Total_sent  Stdev_sent  Var_sent\n",
              "0           1    7369           7369  ...      2.1500    0.703445  0.494835\n",
              "1           2     293            293  ...      0.0440    0.000000  0.000000\n",
              "2           3   11139          11139  ...      1.2500    0.000000  0.000000\n",
              "3           4     495            495  ...      0.2745    0.000000  0.000000\n",
              "4           5     462            462  ...      0.0300    0.000000  0.000000\n",
              "\n",
              "[5 rows x 20 columns]"
            ]
          },
          "metadata": {
            "tags": []
          },
          "execution_count": 6
        }
      ]
    },
    {
      "cell_type": "code",
      "metadata": {
        "id": "UzCqDG-gaEN5",
        "colab_type": "code",
        "colab": {
          "base_uri": "https://localhost:8080/",
          "height": 50
        },
        "outputId": "2be6ac42-1cf1-4679-c676-d1e9ddf4295d"
      },
      "source": [
        "train3['label'].unique()"
      ],
      "execution_count": 7,
      "outputs": [
        {
          "output_type": "execute_result",
          "data": {
            "text/plain": [
              "array(['unclassified', 'donations', 'exchange', 'mixer', 'paymentgateway',\n",
              "       'wallets'], dtype=object)"
            ]
          },
          "metadata": {
            "tags": []
          },
          "execution_count": 7
        }
      ]
    },
    {
      "cell_type": "code",
      "metadata": {
        "id": "Q5p1qVqPaIsb",
        "colab_type": "code",
        "colab": {
          "base_uri": "https://localhost:8080/",
          "height": 420
        },
        "outputId": "69619d5f-cd47-4178-e8ea-53fbf2904341"
      },
      "source": [
        "\n",
        "train1.info()"
      ],
      "execution_count": 8,
      "outputs": [
        {
          "output_type": "stream",
          "text": [
            "<class 'pandas.core.frame.DataFrame'>\n",
            "RangeIndex: 96498 entries, 0 to 96497\n",
            "Data columns (total 17 columns):\n",
            " #   Column      Non-Null Count  Dtype  \n",
            "---  ------      --------------  -----  \n",
            " 0   Unnamed: 0  96498 non-null  int64  \n",
            " 1   0           96498 non-null  float64\n",
            " 2   1           96498 non-null  float64\n",
            " 3   2           96498 non-null  float64\n",
            " 4   3           96498 non-null  float64\n",
            " 5   4           96498 non-null  float64\n",
            " 6   5           96498 non-null  float64\n",
            " 7   6           96498 non-null  float64\n",
            " 8   7           96498 non-null  float64\n",
            " 9   8           96498 non-null  float64\n",
            " 10  9           96498 non-null  float64\n",
            " 11  10          96498 non-null  float64\n",
            " 12  11          96498 non-null  float64\n",
            " 13  12          96498 non-null  float64\n",
            " 14  13          96498 non-null  float64\n",
            " 15  14          96498 non-null  float64\n",
            " 16  15          96498 non-null  float64\n",
            "dtypes: float64(16), int64(1)\n",
            "memory usage: 12.5 MB\n"
          ],
          "name": "stdout"
        }
      ]
    },
    {
      "cell_type": "code",
      "metadata": {
        "id": "uuzc2JkbaN_G",
        "colab_type": "code",
        "colab": {
          "base_uri": "https://localhost:8080/",
          "height": 470
        },
        "outputId": "9e73c250-d881-4e1b-894c-44a58ca5bd49"
      },
      "source": [
        "train2.info()"
      ],
      "execution_count": 9,
      "outputs": [
        {
          "output_type": "stream",
          "text": [
            "<class 'pandas.core.frame.DataFrame'>\n",
            "RangeIndex: 96498 entries, 0 to 96497\n",
            "Data columns (total 20 columns):\n",
            " #   Column           Non-Null Count  Dtype  \n",
            "---  ------           --------------  -----  \n",
            " 0   Unnamed: 0       96498 non-null  int64  \n",
            " 1   txsize           96498 non-null  int64  \n",
            " 2   txvirtualsize    96498 non-null  int64  \n",
            " 3   txinputs_count   96498 non-null  int64  \n",
            " 4   txoutputs_count  96498 non-null  int64  \n",
            " 5   txinput_val      96498 non-null  float64\n",
            " 6   txoutput_val     96498 non-null  float64\n",
            " 7   txfee            96498 non-null  int64  \n",
            " 8   Min_received     96498 non-null  float64\n",
            " 9   Max_received     96498 non-null  float64\n",
            " 10  Avg_received     96498 non-null  float64\n",
            " 11  Total_received   96498 non-null  float64\n",
            " 12  Stdev_received   96498 non-null  float64\n",
            " 13  Var_received     96498 non-null  float64\n",
            " 14  Min_sent         96498 non-null  float64\n",
            " 15  Max_sent         96498 non-null  float64\n",
            " 16  Avg_sent         96498 non-null  float64\n",
            " 17  Total_sent       96498 non-null  float64\n",
            " 18  Stdev_sent       96498 non-null  float64\n",
            " 19  Var_sent         96498 non-null  float64\n",
            "dtypes: float64(14), int64(6)\n",
            "memory usage: 14.7 MB\n"
          ],
          "name": "stdout"
        }
      ]
    },
    {
      "cell_type": "code",
      "metadata": {
        "id": "h_2OsWBkaRA3",
        "colab_type": "code",
        "colab": {
          "base_uri": "https://localhost:8080/",
          "height": 168
        },
        "outputId": "5802e73a-6a91-47be-d2f4-aa7c119eaa14"
      },
      "source": [
        "train3.info()"
      ],
      "execution_count": 10,
      "outputs": [
        {
          "output_type": "stream",
          "text": [
            "<class 'pandas.core.frame.DataFrame'>\n",
            "RangeIndex: 96498 entries, 0 to 96497\n",
            "Data columns (total 2 columns):\n",
            " #   Column      Non-Null Count  Dtype \n",
            "---  ------      --------------  ----- \n",
            " 0   Unnamed: 0  96498 non-null  int64 \n",
            " 1   label       96498 non-null  object\n",
            "dtypes: int64(1), object(1)\n",
            "memory usage: 1.5+ MB\n"
          ],
          "name": "stdout"
        }
      ]
    },
    {
      "cell_type": "code",
      "metadata": {
        "id": "hsbFweB6aTHf",
        "colab_type": "code",
        "colab": {}
      },
      "source": [
        "results = pd.merge(train3, train1, on='Unnamed: 0', how='inner')\n",
        "\n",
        "# split data into X and y\n",
        "X = results.iloc[:,2:18]\n",
        "Y1 = pd.get_dummies(results['label'])"
      ],
      "execution_count": 11,
      "outputs": []
    },
    {
      "cell_type": "code",
      "metadata": {
        "id": "e7uersx1aZP2",
        "colab_type": "code",
        "colab": {
          "base_uri": "https://localhost:8080/",
          "height": 402
        },
        "outputId": "cdbbe1b3-6837-479e-dc3a-9eddb60ebb88"
      },
      "source": [
        "Y1"
      ],
      "execution_count": 12,
      "outputs": [
        {
          "output_type": "execute_result",
          "data": {
            "text/html": [
              "<div>\n",
              "<style scoped>\n",
              "    .dataframe tbody tr th:only-of-type {\n",
              "        vertical-align: middle;\n",
              "    }\n",
              "\n",
              "    .dataframe tbody tr th {\n",
              "        vertical-align: top;\n",
              "    }\n",
              "\n",
              "    .dataframe thead th {\n",
              "        text-align: right;\n",
              "    }\n",
              "</style>\n",
              "<table border=\"1\" class=\"dataframe\">\n",
              "  <thead>\n",
              "    <tr style=\"text-align: right;\">\n",
              "      <th></th>\n",
              "      <th>donations</th>\n",
              "      <th>exchange</th>\n",
              "      <th>mixer</th>\n",
              "      <th>paymentgateway</th>\n",
              "      <th>unclassified</th>\n",
              "      <th>wallets</th>\n",
              "    </tr>\n",
              "  </thead>\n",
              "  <tbody>\n",
              "    <tr>\n",
              "      <th>0</th>\n",
              "      <td>0</td>\n",
              "      <td>0</td>\n",
              "      <td>0</td>\n",
              "      <td>0</td>\n",
              "      <td>1</td>\n",
              "      <td>0</td>\n",
              "    </tr>\n",
              "    <tr>\n",
              "      <th>1</th>\n",
              "      <td>1</td>\n",
              "      <td>0</td>\n",
              "      <td>0</td>\n",
              "      <td>0</td>\n",
              "      <td>0</td>\n",
              "      <td>0</td>\n",
              "    </tr>\n",
              "    <tr>\n",
              "      <th>2</th>\n",
              "      <td>0</td>\n",
              "      <td>0</td>\n",
              "      <td>0</td>\n",
              "      <td>0</td>\n",
              "      <td>1</td>\n",
              "      <td>0</td>\n",
              "    </tr>\n",
              "    <tr>\n",
              "      <th>3</th>\n",
              "      <td>1</td>\n",
              "      <td>0</td>\n",
              "      <td>0</td>\n",
              "      <td>0</td>\n",
              "      <td>0</td>\n",
              "      <td>0</td>\n",
              "    </tr>\n",
              "    <tr>\n",
              "      <th>4</th>\n",
              "      <td>1</td>\n",
              "      <td>0</td>\n",
              "      <td>0</td>\n",
              "      <td>0</td>\n",
              "      <td>0</td>\n",
              "      <td>0</td>\n",
              "    </tr>\n",
              "    <tr>\n",
              "      <th>...</th>\n",
              "      <td>...</td>\n",
              "      <td>...</td>\n",
              "      <td>...</td>\n",
              "      <td>...</td>\n",
              "      <td>...</td>\n",
              "      <td>...</td>\n",
              "    </tr>\n",
              "    <tr>\n",
              "      <th>96492</th>\n",
              "      <td>1</td>\n",
              "      <td>0</td>\n",
              "      <td>0</td>\n",
              "      <td>0</td>\n",
              "      <td>0</td>\n",
              "      <td>0</td>\n",
              "    </tr>\n",
              "    <tr>\n",
              "      <th>96493</th>\n",
              "      <td>1</td>\n",
              "      <td>0</td>\n",
              "      <td>0</td>\n",
              "      <td>0</td>\n",
              "      <td>0</td>\n",
              "      <td>0</td>\n",
              "    </tr>\n",
              "    <tr>\n",
              "      <th>96494</th>\n",
              "      <td>1</td>\n",
              "      <td>0</td>\n",
              "      <td>0</td>\n",
              "      <td>0</td>\n",
              "      <td>0</td>\n",
              "      <td>0</td>\n",
              "    </tr>\n",
              "    <tr>\n",
              "      <th>96495</th>\n",
              "      <td>1</td>\n",
              "      <td>0</td>\n",
              "      <td>0</td>\n",
              "      <td>0</td>\n",
              "      <td>0</td>\n",
              "      <td>0</td>\n",
              "    </tr>\n",
              "    <tr>\n",
              "      <th>96496</th>\n",
              "      <td>0</td>\n",
              "      <td>1</td>\n",
              "      <td>0</td>\n",
              "      <td>0</td>\n",
              "      <td>0</td>\n",
              "      <td>0</td>\n",
              "    </tr>\n",
              "  </tbody>\n",
              "</table>\n",
              "<p>96497 rows × 6 columns</p>\n",
              "</div>"
            ],
            "text/plain": [
              "       donations  exchange  mixer  paymentgateway  unclassified  wallets\n",
              "0              0         0      0               0             1        0\n",
              "1              1         0      0               0             0        0\n",
              "2              0         0      0               0             1        0\n",
              "3              1         0      0               0             0        0\n",
              "4              1         0      0               0             0        0\n",
              "...          ...       ...    ...             ...           ...      ...\n",
              "96492          1         0      0               0             0        0\n",
              "96493          1         0      0               0             0        0\n",
              "96494          1         0      0               0             0        0\n",
              "96495          1         0      0               0             0        0\n",
              "96496          0         1      0               0             0        0\n",
              "\n",
              "[96497 rows x 6 columns]"
            ]
          },
          "metadata": {
            "tags": []
          },
          "execution_count": 12
        }
      ]
    },
    {
      "cell_type": "code",
      "metadata": {
        "id": "i9qt5_jaacWe",
        "colab_type": "code",
        "colab": {}
      },
      "source": [
        "from sklearn.model_selection import train_test_split\n",
        "seed = 7\n",
        "\n",
        "X_train, X_test, y_train, y_test = train_test_split(X, Y1, test_size= 0.2, random_state=seed)"
      ],
      "execution_count": 13,
      "outputs": []
    },
    {
      "cell_type": "code",
      "metadata": {
        "id": "qOmm05N4ak2o",
        "colab_type": "code",
        "colab": {
          "base_uri": "https://localhost:8080/",
          "height": 84
        },
        "outputId": "88119be5-d90f-4013-9c69-e036b196dd93"
      },
      "source": [
        "print('X_train shape:',X_train.shape)\n",
        "print('Y_train shape:',y_train.shape)\n",
        "print('X_test shape:',X_test.shape)\n",
        "print('Y_test shape:',y_test.shape)"
      ],
      "execution_count": 14,
      "outputs": [
        {
          "output_type": "stream",
          "text": [
            "X_train shape: (77197, 16)\n",
            "Y_train shape: (77197, 6)\n",
            "X_test shape: (19300, 16)\n",
            "Y_test shape: (19300, 6)\n"
          ],
          "name": "stdout"
        }
      ]
    },
    {
      "cell_type": "code",
      "metadata": {
        "id": "utLGaWi3aqvH",
        "colab_type": "code",
        "colab": {}
      },
      "source": [
        "X_train = X_train.drop(['0'], axis=1)\n",
        "X_test = X_test.drop(['0'], axis=1)"
      ],
      "execution_count": 15,
      "outputs": []
    },
    {
      "cell_type": "code",
      "metadata": {
        "id": "nf8PoNQFavVY",
        "colab_type": "code",
        "colab": {}
      },
      "source": [
        "\n",
        "import keras\n",
        "from keras import models\n",
        "from keras import layers"
      ],
      "execution_count": 16,
      "outputs": []
    },
    {
      "cell_type": "code",
      "metadata": {
        "id": "VuTAPgbxa2Kn",
        "colab_type": "code",
        "colab": {}
      },
      "source": [
        "nn = models.Sequential()\n",
        "nn.add(layers.Dense(216, activation= 'tanh', input_dim=(15)))\n",
        "nn.add(layers.Dense(36, activation= 'relu'))\n",
        "nn.add(layers.Dense(6, activation= 'softmax'))"
      ],
      "execution_count": 17,
      "outputs": []
    },
    {
      "cell_type": "code",
      "metadata": {
        "id": "miIKOxFSa5Vc",
        "colab_type": "code",
        "colab": {
          "base_uri": "https://localhost:8080/",
          "height": 252
        },
        "outputId": "6efa0ba5-2e84-46d9-8bca-77c5fd75938c"
      },
      "source": [
        "nn.summary()"
      ],
      "execution_count": 18,
      "outputs": [
        {
          "output_type": "stream",
          "text": [
            "Model: \"sequential\"\n",
            "_________________________________________________________________\n",
            "Layer (type)                 Output Shape              Param #   \n",
            "=================================================================\n",
            "dense (Dense)                (None, 216)               3456      \n",
            "_________________________________________________________________\n",
            "dense_1 (Dense)              (None, 36)                7812      \n",
            "_________________________________________________________________\n",
            "dense_2 (Dense)              (None, 6)                 222       \n",
            "=================================================================\n",
            "Total params: 11,490\n",
            "Trainable params: 11,490\n",
            "Non-trainable params: 0\n",
            "_________________________________________________________________\n"
          ],
          "name": "stdout"
        }
      ]
    },
    {
      "cell_type": "code",
      "metadata": {
        "id": "p051p93Da9pw",
        "colab_type": "code",
        "colab": {}
      },
      "source": [
        "nn.compile(optimizer= 'sgd', loss= ['categorical_crossentropy'], metrics= 'accuracy')"
      ],
      "execution_count": 19,
      "outputs": []
    },
    {
      "cell_type": "code",
      "metadata": {
        "id": "Xf6eaA4AbAZ-",
        "colab_type": "code",
        "colab": {
          "base_uri": "https://localhost:8080/",
          "height": 1000
        },
        "outputId": "5642adf7-9f93-492c-dd5b-dfc063ade6fe"
      },
      "source": [
        "hist = nn.fit(x = X_train, y= y_train, epochs = 128, validation_split= 0.25)"
      ],
      "execution_count": 20,
      "outputs": [
        {
          "output_type": "stream",
          "text": [
            "Epoch 1/128\n",
            "1810/1810 [==============================] - 3s 1ms/step - loss: 0.5831 - accuracy: 0.8550 - val_loss: 0.5816 - val_accuracy: 0.8568\n",
            "Epoch 2/128\n",
            "1810/1810 [==============================] - 2s 1ms/step - loss: 0.5735 - accuracy: 0.8580 - val_loss: 0.5705 - val_accuracy: 0.8566\n",
            "Epoch 3/128\n",
            "1810/1810 [==============================] - 2s 1ms/step - loss: 0.5718 - accuracy: 0.8583 - val_loss: 0.5704 - val_accuracy: 0.8566\n",
            "Epoch 4/128\n",
            "1810/1810 [==============================] - 2s 1ms/step - loss: 0.5709 - accuracy: 0.8584 - val_loss: 0.5695 - val_accuracy: 0.8565\n",
            "Epoch 5/128\n",
            "1810/1810 [==============================] - 2s 1ms/step - loss: 0.5704 - accuracy: 0.8584 - val_loss: 0.5792 - val_accuracy: 0.8567\n",
            "Epoch 6/128\n",
            "1810/1810 [==============================] - 2s 1ms/step - loss: 0.5696 - accuracy: 0.8583 - val_loss: 0.5782 - val_accuracy: 0.8568\n",
            "Epoch 7/128\n",
            "1810/1810 [==============================] - 2s 1ms/step - loss: 0.5694 - accuracy: 0.8585 - val_loss: 0.5759 - val_accuracy: 0.8566\n",
            "Epoch 8/128\n",
            "1810/1810 [==============================] - 2s 1ms/step - loss: 0.5691 - accuracy: 0.8584 - val_loss: 0.5725 - val_accuracy: 0.8564\n",
            "Epoch 9/128\n",
            "1810/1810 [==============================] - 2s 1ms/step - loss: 0.5690 - accuracy: 0.8585 - val_loss: 0.5701 - val_accuracy: 0.8571\n",
            "Epoch 10/128\n",
            "1810/1810 [==============================] - 2s 1ms/step - loss: 0.5684 - accuracy: 0.8585 - val_loss: 0.5741 - val_accuracy: 0.8573\n",
            "Epoch 11/128\n",
            "1810/1810 [==============================] - 2s 1ms/step - loss: 0.5683 - accuracy: 0.8586 - val_loss: 0.5796 - val_accuracy: 0.8568\n",
            "Epoch 12/128\n",
            "1810/1810 [==============================] - 2s 1ms/step - loss: 0.5682 - accuracy: 0.8586 - val_loss: 0.6045 - val_accuracy: 0.8561\n",
            "Epoch 13/128\n",
            "1810/1810 [==============================] - 2s 1ms/step - loss: 0.5680 - accuracy: 0.8587 - val_loss: 0.5715 - val_accuracy: 0.8573\n",
            "Epoch 14/128\n",
            "1810/1810 [==============================] - 2s 1ms/step - loss: 0.5679 - accuracy: 0.8586 - val_loss: 0.5733 - val_accuracy: 0.8572\n",
            "Epoch 15/128\n",
            "1810/1810 [==============================] - 2s 1ms/step - loss: 0.5679 - accuracy: 0.8588 - val_loss: 0.5722 - val_accuracy: 0.8573\n",
            "Epoch 16/128\n",
            "1810/1810 [==============================] - 3s 1ms/step - loss: 0.5678 - accuracy: 0.8588 - val_loss: 0.5746 - val_accuracy: 0.8564\n",
            "Epoch 17/128\n",
            "1810/1810 [==============================] - 3s 2ms/step - loss: 0.5678 - accuracy: 0.8587 - val_loss: 0.5693 - val_accuracy: 0.8573\n",
            "Epoch 18/128\n",
            "1810/1810 [==============================] - 3s 2ms/step - loss: 0.5677 - accuracy: 0.8587 - val_loss: 0.5743 - val_accuracy: 0.8569\n",
            "Epoch 19/128\n",
            "1810/1810 [==============================] - 3s 2ms/step - loss: 0.5674 - accuracy: 0.8589 - val_loss: 0.5697 - val_accuracy: 0.8568\n",
            "Epoch 20/128\n",
            "1810/1810 [==============================] - 3s 1ms/step - loss: 0.5670 - accuracy: 0.8589 - val_loss: 0.5763 - val_accuracy: 0.8569\n",
            "Epoch 21/128\n",
            "1810/1810 [==============================] - 3s 1ms/step - loss: 0.5674 - accuracy: 0.8590 - val_loss: 0.5706 - val_accuracy: 0.8571\n",
            "Epoch 22/128\n",
            "1810/1810 [==============================] - 3s 2ms/step - loss: 0.5674 - accuracy: 0.8588 - val_loss: 0.5747 - val_accuracy: 0.8569\n",
            "Epoch 23/128\n",
            "1810/1810 [==============================] - 3s 2ms/step - loss: 0.5672 - accuracy: 0.8587 - val_loss: 0.5774 - val_accuracy: 0.8569\n",
            "Epoch 24/128\n",
            "1810/1810 [==============================] - 3s 1ms/step - loss: 0.5671 - accuracy: 0.8589 - val_loss: 0.5718 - val_accuracy: 0.8569\n",
            "Epoch 25/128\n",
            "1810/1810 [==============================] - 2s 1ms/step - loss: 0.5670 - accuracy: 0.8591 - val_loss: 0.5686 - val_accuracy: 0.8568\n",
            "Epoch 26/128\n",
            "1810/1810 [==============================] - 3s 2ms/step - loss: 0.5667 - accuracy: 0.8590 - val_loss: 0.5735 - val_accuracy: 0.8569\n",
            "Epoch 27/128\n",
            "1810/1810 [==============================] - 3s 2ms/step - loss: 0.5667 - accuracy: 0.8589 - val_loss: 0.5707 - val_accuracy: 0.8572\n",
            "Epoch 28/128\n",
            "1810/1810 [==============================] - 2s 1ms/step - loss: 0.5665 - accuracy: 0.8589 - val_loss: 0.5710 - val_accuracy: 0.8570\n",
            "Epoch 29/128\n",
            "1810/1810 [==============================] - 2s 1ms/step - loss: 0.5665 - accuracy: 0.8588 - val_loss: 0.5711 - val_accuracy: 0.8570\n",
            "Epoch 30/128\n",
            "1810/1810 [==============================] - 2s 1ms/step - loss: 0.5664 - accuracy: 0.8590 - val_loss: 0.5706 - val_accuracy: 0.8569\n",
            "Epoch 31/128\n",
            "1810/1810 [==============================] - 2s 1ms/step - loss: 0.5667 - accuracy: 0.8589 - val_loss: 0.5722 - val_accuracy: 0.8568\n",
            "Epoch 32/128\n",
            "1810/1810 [==============================] - 2s 1ms/step - loss: 0.5665 - accuracy: 0.8588 - val_loss: 0.5685 - val_accuracy: 0.8572\n",
            "Epoch 33/128\n",
            "1810/1810 [==============================] - 2s 1ms/step - loss: 0.5665 - accuracy: 0.8589 - val_loss: 0.5743 - val_accuracy: 0.8569\n",
            "Epoch 34/128\n",
            "1810/1810 [==============================] - 2s 1ms/step - loss: 0.5664 - accuracy: 0.8589 - val_loss: 0.5693 - val_accuracy: 0.8572\n",
            "Epoch 35/128\n",
            "1810/1810 [==============================] - 2s 1ms/step - loss: 0.5661 - accuracy: 0.8592 - val_loss: 0.5791 - val_accuracy: 0.8568\n",
            "Epoch 36/128\n",
            "1810/1810 [==============================] - 2s 1ms/step - loss: 0.5665 - accuracy: 0.8590 - val_loss: 0.5724 - val_accuracy: 0.8572\n",
            "Epoch 37/128\n",
            "1810/1810 [==============================] - 2s 1ms/step - loss: 0.5662 - accuracy: 0.8590 - val_loss: 0.5773 - val_accuracy: 0.8569\n",
            "Epoch 38/128\n",
            "1810/1810 [==============================] - 2s 1ms/step - loss: 0.5664 - accuracy: 0.8589 - val_loss: 0.5716 - val_accuracy: 0.8569\n",
            "Epoch 39/128\n",
            "1810/1810 [==============================] - 2s 1ms/step - loss: 0.5661 - accuracy: 0.8590 - val_loss: 0.5736 - val_accuracy: 0.8565\n",
            "Epoch 40/128\n",
            "1810/1810 [==============================] - 2s 1ms/step - loss: 0.5665 - accuracy: 0.8589 - val_loss: 0.5690 - val_accuracy: 0.8569\n",
            "Epoch 41/128\n",
            "1810/1810 [==============================] - 2s 1ms/step - loss: 0.5663 - accuracy: 0.8590 - val_loss: 0.5701 - val_accuracy: 0.8569\n",
            "Epoch 42/128\n",
            "1810/1810 [==============================] - 2s 1ms/step - loss: 0.5662 - accuracy: 0.8589 - val_loss: 0.5685 - val_accuracy: 0.8569\n",
            "Epoch 43/128\n",
            "1810/1810 [==============================] - 2s 1ms/step - loss: 0.5662 - accuracy: 0.8590 - val_loss: 0.5690 - val_accuracy: 0.8572\n",
            "Epoch 44/128\n",
            "1810/1810 [==============================] - 2s 1ms/step - loss: 0.5661 - accuracy: 0.8590 - val_loss: 0.5693 - val_accuracy: 0.8573\n",
            "Epoch 45/128\n",
            "1810/1810 [==============================] - 2s 1ms/step - loss: 0.5658 - accuracy: 0.8590 - val_loss: 0.5697 - val_accuracy: 0.8572\n",
            "Epoch 46/128\n",
            "1810/1810 [==============================] - 2s 1ms/step - loss: 0.5663 - accuracy: 0.8590 - val_loss: 0.5692 - val_accuracy: 0.8569\n",
            "Epoch 47/128\n",
            "1810/1810 [==============================] - 2s 1ms/step - loss: 0.5658 - accuracy: 0.8590 - val_loss: 0.5693 - val_accuracy: 0.8573\n",
            "Epoch 48/128\n",
            "1810/1810 [==============================] - 2s 1ms/step - loss: 0.5661 - accuracy: 0.8589 - val_loss: 0.5706 - val_accuracy: 0.8569\n",
            "Epoch 49/128\n",
            "1810/1810 [==============================] - 2s 1ms/step - loss: 0.5660 - accuracy: 0.8588 - val_loss: 0.5745 - val_accuracy: 0.8569\n",
            "Epoch 50/128\n",
            "1810/1810 [==============================] - 2s 1ms/step - loss: 0.5660 - accuracy: 0.8590 - val_loss: 0.5736 - val_accuracy: 0.8572\n",
            "Epoch 51/128\n",
            "1810/1810 [==============================] - 2s 1ms/step - loss: 0.5660 - accuracy: 0.8590 - val_loss: 0.5690 - val_accuracy: 0.8572\n",
            "Epoch 52/128\n",
            "1810/1810 [==============================] - 2s 1ms/step - loss: 0.5661 - accuracy: 0.8591 - val_loss: 0.5706 - val_accuracy: 0.8572\n",
            "Epoch 53/128\n",
            "1810/1810 [==============================] - 2s 1ms/step - loss: 0.5657 - accuracy: 0.8589 - val_loss: 0.5690 - val_accuracy: 0.8569\n",
            "Epoch 54/128\n",
            "1810/1810 [==============================] - 2s 1ms/step - loss: 0.5658 - accuracy: 0.8589 - val_loss: 0.5689 - val_accuracy: 0.8569\n",
            "Epoch 55/128\n",
            "1810/1810 [==============================] - 2s 1ms/step - loss: 0.5657 - accuracy: 0.8591 - val_loss: 0.5693 - val_accuracy: 0.8573\n",
            "Epoch 56/128\n",
            "1810/1810 [==============================] - 2s 1ms/step - loss: 0.5655 - accuracy: 0.8589 - val_loss: 0.5696 - val_accuracy: 0.8572\n",
            "Epoch 57/128\n",
            "1810/1810 [==============================] - 2s 1ms/step - loss: 0.5658 - accuracy: 0.8590 - val_loss: 0.5715 - val_accuracy: 0.8568\n",
            "Epoch 58/128\n",
            "1810/1810 [==============================] - 2s 1ms/step - loss: 0.5657 - accuracy: 0.8589 - val_loss: 0.5687 - val_accuracy: 0.8572\n",
            "Epoch 59/128\n",
            "1810/1810 [==============================] - 2s 1ms/step - loss: 0.5655 - accuracy: 0.8590 - val_loss: 0.5696 - val_accuracy: 0.8570\n",
            "Epoch 60/128\n",
            "1810/1810 [==============================] - 2s 1ms/step - loss: 0.5659 - accuracy: 0.8589 - val_loss: 0.5702 - val_accuracy: 0.8569\n",
            "Epoch 61/128\n",
            "1810/1810 [==============================] - 2s 1ms/step - loss: 0.5657 - accuracy: 0.8590 - val_loss: 0.5709 - val_accuracy: 0.8568\n",
            "Epoch 62/128\n",
            "1810/1810 [==============================] - 2s 1ms/step - loss: 0.5652 - accuracy: 0.8589 - val_loss: 0.5684 - val_accuracy: 0.8573\n",
            "Epoch 63/128\n",
            "1810/1810 [==============================] - 2s 1ms/step - loss: 0.5654 - accuracy: 0.8590 - val_loss: 0.5692 - val_accuracy: 0.8568\n",
            "Epoch 64/128\n",
            "1810/1810 [==============================] - 2s 1ms/step - loss: 0.5654 - accuracy: 0.8592 - val_loss: 0.5742 - val_accuracy: 0.8573\n",
            "Epoch 65/128\n",
            "1810/1810 [==============================] - 2s 1ms/step - loss: 0.5655 - accuracy: 0.8591 - val_loss: 0.5698 - val_accuracy: 0.8573\n",
            "Epoch 66/128\n",
            "1810/1810 [==============================] - 2s 1ms/step - loss: 0.5654 - accuracy: 0.8591 - val_loss: 0.5694 - val_accuracy: 0.8570\n",
            "Epoch 67/128\n",
            "1810/1810 [==============================] - 2s 1ms/step - loss: 0.5656 - accuracy: 0.8590 - val_loss: 0.5686 - val_accuracy: 0.8568\n",
            "Epoch 68/128\n",
            "1810/1810 [==============================] - 2s 1ms/step - loss: 0.5655 - accuracy: 0.8590 - val_loss: 0.5691 - val_accuracy: 0.8572\n",
            "Epoch 69/128\n",
            "1810/1810 [==============================] - 2s 1ms/step - loss: 0.5653 - accuracy: 0.8589 - val_loss: 0.5724 - val_accuracy: 0.8569\n",
            "Epoch 70/128\n",
            "1810/1810 [==============================] - 2s 1ms/step - loss: 0.5653 - accuracy: 0.8591 - val_loss: 0.5690 - val_accuracy: 0.8569\n",
            "Epoch 71/128\n",
            "1810/1810 [==============================] - 2s 1ms/step - loss: 0.5654 - accuracy: 0.8591 - val_loss: 0.5683 - val_accuracy: 0.8568\n",
            "Epoch 72/128\n",
            "1810/1810 [==============================] - 2s 1ms/step - loss: 0.5653 - accuracy: 0.8590 - val_loss: 0.5678 - val_accuracy: 0.8570\n",
            "Epoch 73/128\n",
            "1810/1810 [==============================] - 2s 1ms/step - loss: 0.5652 - accuracy: 0.8590 - val_loss: 0.5752 - val_accuracy: 0.8573\n",
            "Epoch 74/128\n",
            "1810/1810 [==============================] - 2s 1ms/step - loss: 0.5656 - accuracy: 0.8590 - val_loss: 0.5683 - val_accuracy: 0.8573\n",
            "Epoch 75/128\n",
            "1810/1810 [==============================] - 2s 1ms/step - loss: 0.5653 - accuracy: 0.8590 - val_loss: 0.5693 - val_accuracy: 0.8568\n",
            "Epoch 76/128\n",
            "1810/1810 [==============================] - 2s 1ms/step - loss: 0.5654 - accuracy: 0.8589 - val_loss: 0.5702 - val_accuracy: 0.8573\n",
            "Epoch 77/128\n",
            "1810/1810 [==============================] - 2s 1ms/step - loss: 0.5654 - accuracy: 0.8590 - val_loss: 0.5686 - val_accuracy: 0.8573\n",
            "Epoch 78/128\n",
            "1810/1810 [==============================] - 2s 1ms/step - loss: 0.5655 - accuracy: 0.8590 - val_loss: 0.5714 - val_accuracy: 0.8569\n",
            "Epoch 79/128\n",
            "1810/1810 [==============================] - 2s 1ms/step - loss: 0.5652 - accuracy: 0.8589 - val_loss: 0.5693 - val_accuracy: 0.8572\n",
            "Epoch 80/128\n",
            "1810/1810 [==============================] - 2s 1ms/step - loss: 0.5652 - accuracy: 0.8591 - val_loss: 0.5734 - val_accuracy: 0.8568\n",
            "Epoch 81/128\n",
            "1810/1810 [==============================] - 2s 1ms/step - loss: 0.5652 - accuracy: 0.8591 - val_loss: 0.5741 - val_accuracy: 0.8575\n",
            "Epoch 82/128\n",
            "1810/1810 [==============================] - 2s 1ms/step - loss: 0.5651 - accuracy: 0.8589 - val_loss: 0.5693 - val_accuracy: 0.8573\n",
            "Epoch 83/128\n",
            "1810/1810 [==============================] - 2s 1ms/step - loss: 0.5654 - accuracy: 0.8590 - val_loss: 0.5705 - val_accuracy: 0.8573\n",
            "Epoch 84/128\n",
            "1810/1810 [==============================] - 2s 1ms/step - loss: 0.5653 - accuracy: 0.8589 - val_loss: 0.5744 - val_accuracy: 0.8573\n",
            "Epoch 85/128\n",
            "1810/1810 [==============================] - 2s 1ms/step - loss: 0.5651 - accuracy: 0.8590 - val_loss: 0.5704 - val_accuracy: 0.8571\n",
            "Epoch 86/128\n",
            "1810/1810 [==============================] - 2s 1ms/step - loss: 0.5653 - accuracy: 0.8591 - val_loss: 0.5809 - val_accuracy: 0.8570\n",
            "Epoch 87/128\n",
            "1810/1810 [==============================] - 2s 1ms/step - loss: 0.5652 - accuracy: 0.8591 - val_loss: 0.5686 - val_accuracy: 0.8575\n",
            "Epoch 88/128\n",
            "1810/1810 [==============================] - 2s 1ms/step - loss: 0.5650 - accuracy: 0.8590 - val_loss: 0.5689 - val_accuracy: 0.8573\n",
            "Epoch 89/128\n",
            "1810/1810 [==============================] - 2s 1ms/step - loss: 0.5653 - accuracy: 0.8591 - val_loss: 0.5695 - val_accuracy: 0.8572\n",
            "Epoch 90/128\n",
            "1810/1810 [==============================] - 2s 1ms/step - loss: 0.5651 - accuracy: 0.8591 - val_loss: 0.5685 - val_accuracy: 0.8568\n",
            "Epoch 91/128\n",
            "1810/1810 [==============================] - 2s 1ms/step - loss: 0.5652 - accuracy: 0.8591 - val_loss: 0.5683 - val_accuracy: 0.8573\n",
            "Epoch 92/128\n",
            "1810/1810 [==============================] - 2s 1ms/step - loss: 0.5650 - accuracy: 0.8590 - val_loss: 0.5700 - val_accuracy: 0.8570\n",
            "Epoch 93/128\n",
            "1810/1810 [==============================] - 2s 1ms/step - loss: 0.5650 - accuracy: 0.8589 - val_loss: 0.5700 - val_accuracy: 0.8570\n",
            "Epoch 94/128\n",
            "1810/1810 [==============================] - 2s 1ms/step - loss: 0.5652 - accuracy: 0.8590 - val_loss: 0.5706 - val_accuracy: 0.8575\n",
            "Epoch 95/128\n",
            "1810/1810 [==============================] - 2s 1ms/step - loss: 0.5649 - accuracy: 0.8591 - val_loss: 0.5715 - val_accuracy: 0.8574\n",
            "Epoch 96/128\n",
            "1810/1810 [==============================] - 2s 1ms/step - loss: 0.5649 - accuracy: 0.8590 - val_loss: 0.5689 - val_accuracy: 0.8570\n",
            "Epoch 97/128\n",
            "1810/1810 [==============================] - 2s 1ms/step - loss: 0.5652 - accuracy: 0.8590 - val_loss: 0.5759 - val_accuracy: 0.8568\n",
            "Epoch 98/128\n",
            "1810/1810 [==============================] - 2s 1ms/step - loss: 0.5650 - accuracy: 0.8591 - val_loss: 0.5680 - val_accuracy: 0.8573\n",
            "Epoch 99/128\n",
            "1810/1810 [==============================] - 2s 1ms/step - loss: 0.5651 - accuracy: 0.8591 - val_loss: 0.5689 - val_accuracy: 0.8573\n",
            "Epoch 100/128\n",
            "1810/1810 [==============================] - 2s 1ms/step - loss: 0.5650 - accuracy: 0.8592 - val_loss: 0.5686 - val_accuracy: 0.8568\n",
            "Epoch 101/128\n",
            "1810/1810 [==============================] - 2s 1ms/step - loss: 0.5651 - accuracy: 0.8591 - val_loss: 0.5700 - val_accuracy: 0.8569\n",
            "Epoch 102/128\n",
            "1810/1810 [==============================] - 2s 1ms/step - loss: 0.5651 - accuracy: 0.8591 - val_loss: 0.5678 - val_accuracy: 0.8573\n",
            "Epoch 103/128\n",
            "1810/1810 [==============================] - 2s 1ms/step - loss: 0.5650 - accuracy: 0.8590 - val_loss: 0.5685 - val_accuracy: 0.8570\n",
            "Epoch 104/128\n",
            "1810/1810 [==============================] - 2s 1ms/step - loss: 0.5648 - accuracy: 0.8591 - val_loss: 0.5708 - val_accuracy: 0.8572\n",
            "Epoch 105/128\n",
            "1810/1810 [==============================] - 2s 1ms/step - loss: 0.5648 - accuracy: 0.8591 - val_loss: 0.5690 - val_accuracy: 0.8570\n",
            "Epoch 106/128\n",
            "1810/1810 [==============================] - 2s 1ms/step - loss: 0.5649 - accuracy: 0.8591 - val_loss: 0.5796 - val_accuracy: 0.8573\n",
            "Epoch 107/128\n",
            "1810/1810 [==============================] - 2s 1ms/step - loss: 0.5648 - accuracy: 0.8591 - val_loss: 0.5708 - val_accuracy: 0.8573\n",
            "Epoch 108/128\n",
            "1810/1810 [==============================] - 2s 1ms/step - loss: 0.5650 - accuracy: 0.8592 - val_loss: 0.5698 - val_accuracy: 0.8568\n",
            "Epoch 109/128\n",
            "1810/1810 [==============================] - 2s 1ms/step - loss: 0.5647 - accuracy: 0.8589 - val_loss: 0.5678 - val_accuracy: 0.8573\n",
            "Epoch 110/128\n",
            "1810/1810 [==============================] - 2s 1ms/step - loss: 0.5649 - accuracy: 0.8591 - val_loss: 0.5688 - val_accuracy: 0.8575\n",
            "Epoch 111/128\n",
            "1810/1810 [==============================] - 2s 1ms/step - loss: 0.5649 - accuracy: 0.8590 - val_loss: 0.5703 - val_accuracy: 0.8574\n",
            "Epoch 112/128\n",
            "1810/1810 [==============================] - 2s 1ms/step - loss: 0.5648 - accuracy: 0.8590 - val_loss: 0.5677 - val_accuracy: 0.8570\n",
            "Epoch 113/128\n",
            "1810/1810 [==============================] - 2s 1ms/step - loss: 0.5649 - accuracy: 0.8590 - val_loss: 0.5720 - val_accuracy: 0.8575\n",
            "Epoch 114/128\n",
            "1810/1810 [==============================] - 2s 1ms/step - loss: 0.5649 - accuracy: 0.8591 - val_loss: 0.5694 - val_accuracy: 0.8575\n",
            "Epoch 115/128\n",
            "1810/1810 [==============================] - 2s 1ms/step - loss: 0.5649 - accuracy: 0.8589 - val_loss: 0.5693 - val_accuracy: 0.8570\n",
            "Epoch 116/128\n",
            "1810/1810 [==============================] - 2s 1ms/step - loss: 0.5650 - accuracy: 0.8590 - val_loss: 0.5692 - val_accuracy: 0.8570\n",
            "Epoch 117/128\n",
            "1810/1810 [==============================] - 2s 1ms/step - loss: 0.5647 - accuracy: 0.8590 - val_loss: 0.5699 - val_accuracy: 0.8574\n",
            "Epoch 118/128\n",
            "1810/1810 [==============================] - 2s 1ms/step - loss: 0.5649 - accuracy: 0.8591 - val_loss: 0.5685 - val_accuracy: 0.8575\n",
            "Epoch 119/128\n",
            "1810/1810 [==============================] - 2s 1ms/step - loss: 0.5649 - accuracy: 0.8592 - val_loss: 0.5695 - val_accuracy: 0.8570\n",
            "Epoch 120/128\n",
            "1810/1810 [==============================] - 2s 1ms/step - loss: 0.5646 - accuracy: 0.8590 - val_loss: 0.5682 - val_accuracy: 0.8574\n",
            "Epoch 121/128\n",
            "1810/1810 [==============================] - 2s 1ms/step - loss: 0.5649 - accuracy: 0.8591 - val_loss: 0.5691 - val_accuracy: 0.8570\n",
            "Epoch 122/128\n",
            "1810/1810 [==============================] - 2s 1ms/step - loss: 0.5648 - accuracy: 0.8588 - val_loss: 0.5681 - val_accuracy: 0.8570\n",
            "Epoch 123/128\n",
            "1810/1810 [==============================] - 2s 1ms/step - loss: 0.5647 - accuracy: 0.8591 - val_loss: 0.5689 - val_accuracy: 0.8570\n",
            "Epoch 124/128\n",
            "1810/1810 [==============================] - 2s 1ms/step - loss: 0.5647 - accuracy: 0.8592 - val_loss: 0.5684 - val_accuracy: 0.8573\n",
            "Epoch 125/128\n",
            "1810/1810 [==============================] - 2s 1ms/step - loss: 0.5647 - accuracy: 0.8590 - val_loss: 0.5682 - val_accuracy: 0.8575\n",
            "Epoch 126/128\n",
            "1810/1810 [==============================] - 2s 1ms/step - loss: 0.5644 - accuracy: 0.8589 - val_loss: 0.5683 - val_accuracy: 0.8570\n",
            "Epoch 127/128\n",
            "1810/1810 [==============================] - 2s 1ms/step - loss: 0.5647 - accuracy: 0.8591 - val_loss: 0.5691 - val_accuracy: 0.8570\n",
            "Epoch 128/128\n",
            "1810/1810 [==============================] - 2s 1ms/step - loss: 0.5647 - accuracy: 0.8590 - val_loss: 0.5689 - val_accuracy: 0.8573\n"
          ],
          "name": "stdout"
        }
      ]
    },
    {
      "cell_type": "code",
      "metadata": {
        "id": "dcRZ_soebTXW",
        "colab_type": "code",
        "colab": {
          "base_uri": "https://localhost:8080/",
          "height": 279
        },
        "outputId": "3d45c567-3d37-4b6b-d778-29201bedb166"
      },
      "source": [
        "loss_train = hist.history['loss']\n",
        "loss_val = hist.history['val_loss']\n",
        "epochs = range(1,129)\n",
        "\n",
        "plt.plot(epochs, loss_train, 'k', label='Training loss')\n",
        "plt.plot(epochs, loss_val, 'r', label='validation loss')\n",
        "\n",
        "plt.xlabel('Epochs')\n",
        "plt.ylabel('Loss')\n",
        "plt.legend()\n",
        "plt.show()"
      ],
      "execution_count": 21,
      "outputs": [
        {
          "output_type": "display_data",
          "data": {
            "image/png": "[encoded data removed]",
            "text/plain": [
              "<Figure size 432x288 with 1 Axes>"
            ]
          },
          "metadata": {
            "tags": [],
            "needs_background": "light"
          }
        }
      ]
    },
    {
      "cell_type": "code",
      "metadata": {
        "id": "3nqscEz9bbHG",
        "colab_type": "code",
        "colab": {
          "base_uri": "https://localhost:8080/",
          "height": 295
        },
        "outputId": "5d0578cc-37b5-42f9-d4bd-8ddf4df32a2c"
      },
      "source": [
        "loss_train = hist.history['accuracy']\n",
        "loss_val = hist.history['val_accuracy']\n",
        "\n",
        "epochs = range(1,129)\n",
        "\n",
        "plt.plot(epochs, loss_train, 'k', label='Training accuracy')\n",
        "plt.plot(epochs, loss_val, 'r', label='validation accuracy')\n",
        "\n",
        "plt.title('Training and Validation accuracy')\n",
        "plt.xlabel('Epochs')\n",
        "plt.ylabel('Accuracy')\n",
        "plt.legend()\n",
        "plt.show()"
      ],
      "execution_count": 22,
      "outputs": [
        {
          "output_type": "display_data",
          "data": {
            "image/png": "[encoded data removed]",
            "text/plain": [
              "<Figure size 432x288 with 1 Axes>"
            ]
          },
          "metadata": {
            "tags": [],
            "needs_background": "light"
          }
        }
      ]
    },
    {
      "cell_type": "code",
      "metadata": {
        "id": "0G9it7YKbfHH",
        "colab_type": "code",
        "colab": {
          "base_uri": "https://localhost:8080/",
          "height": 34
        },
        "outputId": "88f3da15-8b85-4436-a560-1aafee0edea3"
      },
      "source": [
        "eva_loss, eva_accu = nn.evaluate(x= X_test, y= y_test)"
      ],
      "execution_count": 23,
      "outputs": [
        {
          "output_type": "stream",
          "text": [
            "604/604 [==============================] - 1s 856us/step - loss: 0.5665 - accuracy: 0.8589\n"
          ],
          "name": "stdout"
        }
      ]
    },
    {
      "cell_type": "code",
      "metadata": {
        "id": "4IvSRKBBbrgG",
        "colab_type": "code",
        "colab": {
          "base_uri": "https://localhost:8080/",
          "height": 50
        },
        "outputId": "6597858c-1ec3-4463-b12f-af22a96a52e7"
      },
      "source": [
        "\n",
        "print('Test_accuracy: ',eva_accu)\n",
        "print('Test_loss: ',eva_loss)"
      ],
      "execution_count": 24,
      "outputs": [
        {
          "output_type": "stream",
          "text": [
            "Test_accuracy:  0.85891193151474\n",
            "Test_loss:  0.566517174243927\n"
          ],
          "name": "stdout"
        }
      ]
    }
  ]
}