{
  "nbformat": 4,
  "nbformat_minor": 0,
  "metadata": {
    "colab": {
      "name": "ML_remedial8_J079_extra.ipynb",
      "provenance": [],
      "mount_file_id": "10vBe3fCO9h70M7qcXcG3IjyPXeQgQfLM",
      "authorship_tag": "ABX9TyMu0BBaeWlO7V0DRuK9RHTV",
      "include_colab_link": true
    },
    "kernelspec": {
      "name": "python3",
      "display_name": "Python 3"
    }
  },
  "cells": [
    {
      "cell_type": "markdown",
      "metadata": {
        "id": "view-in-github",
        "colab_type": "text"
      },
      "source": [
        "<a href=\"https://colab.research.google.com/github/chinmayj23/ML/blob/master/ML_remedial8_J079_extra.ipynb\" target=\"_parent\"><img src=\"https://colab.research.google.com/assets/colab-badge.svg\" alt=\"Open In Colab\"/></a>"
      ]
    },
    {
      "cell_type": "markdown",
      "metadata": {
        "id": "NnRNYYsXFFNr"
      },
      "source": [
        "autoUniv-au6-750"
      ]
    },
    {
      "cell_type": "code",
      "metadata": {
        "id": "73m3XaKeytoW"
      },
      "source": [
        "import numpy as np\n",
        "import pandas as pd\n",
        "\n",
        "import matplotlib.pyplot as plt\n",
        "import seaborn as sns\n",
        "\n",
        "from sklearn.model_selection import train_test_split, cross_val_score\n",
        "from sklearn.preprocessing import StandardScaler\n",
        "\n",
        "np.random.seed(27)"
      ],
      "execution_count": 20,
      "outputs": []
    },
    {
      "cell_type": "code",
      "metadata": {
        "id": "PrklCpqN6B2Z"
      },
      "source": [
        "data=pd.read_csv(\"/content/drive/My Drive/phputZAUn.csv\")"
      ],
      "execution_count": 21,
      "outputs": []
    },
    {
      "cell_type": "code",
      "metadata": {
        "id": "S-RyxAQ36NM2",
        "outputId": "743e429b-e69c-4c22-ae33-be098479ae19",
        "colab": {
          "base_uri": "https://localhost:8080/",
          "height": 215
        }
      },
      "source": [
        "data.head()"
      ],
      "execution_count": 22,
      "outputs": [
        {
          "output_type": "execute_result",
          "data": {
            "text/html": [
              "<div>\n",
              "<style scoped>\n",
              "    .dataframe tbody tr th:only-of-type {\n",
              "        vertical-align: middle;\n",
              "    }\n",
              "\n",
              "    .dataframe tbody tr th {\n",
              "        vertical-align: top;\n",
              "    }\n",
              "\n",
              "    .dataframe thead th {\n",
              "        text-align: right;\n",
              "    }\n",
              "</style>\n",
              "<table border=\"1\" class=\"dataframe\">\n",
              "  <thead>\n",
              "    <tr style=\"text-align: right;\">\n",
              "      <th></th>\n",
              "      <th>V1</th>\n",
              "      <th>V2</th>\n",
              "      <th>V3</th>\n",
              "      <th>V4</th>\n",
              "      <th>V5</th>\n",
              "      <th>V6</th>\n",
              "      <th>V7</th>\n",
              "      <th>V8</th>\n",
              "      <th>V9</th>\n",
              "      <th>V10</th>\n",
              "      <th>V11</th>\n",
              "      <th>V12</th>\n",
              "      <th>V13</th>\n",
              "      <th>V14</th>\n",
              "      <th>V15</th>\n",
              "      <th>V16</th>\n",
              "      <th>V17</th>\n",
              "      <th>V18</th>\n",
              "      <th>V19</th>\n",
              "      <th>V20</th>\n",
              "      <th>V21</th>\n",
              "      <th>V22</th>\n",
              "      <th>V23</th>\n",
              "      <th>V24</th>\n",
              "      <th>V25</th>\n",
              "      <th>V26</th>\n",
              "      <th>V27</th>\n",
              "      <th>V28</th>\n",
              "      <th>V29</th>\n",
              "      <th>V30</th>\n",
              "      <th>V31</th>\n",
              "      <th>V32</th>\n",
              "      <th>V33</th>\n",
              "      <th>V34</th>\n",
              "      <th>V35</th>\n",
              "      <th>V36</th>\n",
              "      <th>V37</th>\n",
              "      <th>V38</th>\n",
              "      <th>V39</th>\n",
              "      <th>V40</th>\n",
              "      <th>Class</th>\n",
              "    </tr>\n",
              "  </thead>\n",
              "  <tbody>\n",
              "    <tr>\n",
              "      <th>0</th>\n",
              "      <td>1.95</td>\n",
              "      <td>55248</td>\n",
              "      <td>40.0</td>\n",
              "      <td>1.11</td>\n",
              "      <td>69201</td>\n",
              "      <td>0.155</td>\n",
              "      <td>82.6</td>\n",
              "      <td>94</td>\n",
              "      <td>4.35</td>\n",
              "      <td>4.3</td>\n",
              "      <td>51.1</td>\n",
              "      <td>v2</td>\n",
              "      <td>0.654</td>\n",
              "      <td>56.1</td>\n",
              "      <td>4420</td>\n",
              "      <td>784</td>\n",
              "      <td>0.882</td>\n",
              "      <td>6.28</td>\n",
              "      <td>0.24</td>\n",
              "      <td>682</td>\n",
              "      <td>29.4</td>\n",
              "      <td>0.29</td>\n",
              "      <td>1.39</td>\n",
              "      <td>95.7</td>\n",
              "      <td>6.75</td>\n",
              "      <td>0.141</td>\n",
              "      <td>0.467</td>\n",
              "      <td>0.78</td>\n",
              "      <td>9.64</td>\n",
              "      <td>0.56</td>\n",
              "      <td>v1</td>\n",
              "      <td>46.9</td>\n",
              "      <td>0.44</td>\n",
              "      <td>69.7</td>\n",
              "      <td>71.6</td>\n",
              "      <td>0.43</td>\n",
              "      <td>15016</td>\n",
              "      <td>8.40</td>\n",
              "      <td>0.713</td>\n",
              "      <td>v3</td>\n",
              "      <td>class4</td>\n",
              "    </tr>\n",
              "    <tr>\n",
              "      <th>1</th>\n",
              "      <td>2.64</td>\n",
              "      <td>55704</td>\n",
              "      <td>22.7</td>\n",
              "      <td>0.61</td>\n",
              "      <td>24446</td>\n",
              "      <td>0.315</td>\n",
              "      <td>73.3</td>\n",
              "      <td>94</td>\n",
              "      <td>4.42</td>\n",
              "      <td>4.5</td>\n",
              "      <td>51.0</td>\n",
              "      <td>v1</td>\n",
              "      <td>0.692</td>\n",
              "      <td>86.3</td>\n",
              "      <td>6473</td>\n",
              "      <td>775</td>\n",
              "      <td>0.627</td>\n",
              "      <td>4.06</td>\n",
              "      <td>0.37</td>\n",
              "      <td>711</td>\n",
              "      <td>26.0</td>\n",
              "      <td>0.45</td>\n",
              "      <td>2.06</td>\n",
              "      <td>88.8</td>\n",
              "      <td>7.86</td>\n",
              "      <td>0.337</td>\n",
              "      <td>0.350</td>\n",
              "      <td>0.70</td>\n",
              "      <td>9.04</td>\n",
              "      <td>0.61</td>\n",
              "      <td>v1</td>\n",
              "      <td>62.0</td>\n",
              "      <td>0.43</td>\n",
              "      <td>60.4</td>\n",
              "      <td>70.2</td>\n",
              "      <td>0.78</td>\n",
              "      <td>54054</td>\n",
              "      <td>6.93</td>\n",
              "      <td>0.753</td>\n",
              "      <td>v2</td>\n",
              "      <td>class2</td>\n",
              "    </tr>\n",
              "    <tr>\n",
              "      <th>2</th>\n",
              "      <td>3.70</td>\n",
              "      <td>54380</td>\n",
              "      <td>39.7</td>\n",
              "      <td>1.83</td>\n",
              "      <td>20003</td>\n",
              "      <td>0.315</td>\n",
              "      <td>77.6</td>\n",
              "      <td>71</td>\n",
              "      <td>4.60</td>\n",
              "      <td>7.7</td>\n",
              "      <td>52.5</td>\n",
              "      <td>v2</td>\n",
              "      <td>0.864</td>\n",
              "      <td>79.8</td>\n",
              "      <td>6301</td>\n",
              "      <td>803</td>\n",
              "      <td>0.733</td>\n",
              "      <td>6.29</td>\n",
              "      <td>0.16</td>\n",
              "      <td>530</td>\n",
              "      <td>25.0</td>\n",
              "      <td>0.23</td>\n",
              "      <td>2.42</td>\n",
              "      <td>85.5</td>\n",
              "      <td>7.36</td>\n",
              "      <td>0.228</td>\n",
              "      <td>0.624</td>\n",
              "      <td>0.94</td>\n",
              "      <td>9.83</td>\n",
              "      <td>0.62</td>\n",
              "      <td>v1</td>\n",
              "      <td>53.6</td>\n",
              "      <td>0.61</td>\n",
              "      <td>18.7</td>\n",
              "      <td>58.6</td>\n",
              "      <td>0.40</td>\n",
              "      <td>51628</td>\n",
              "      <td>6.56</td>\n",
              "      <td>0.727</td>\n",
              "      <td>v3</td>\n",
              "      <td>class6</td>\n",
              "    </tr>\n",
              "    <tr>\n",
              "      <th>3</th>\n",
              "      <td>1.28</td>\n",
              "      <td>55810</td>\n",
              "      <td>38.9</td>\n",
              "      <td>2.65</td>\n",
              "      <td>42038</td>\n",
              "      <td>0.392</td>\n",
              "      <td>78.1</td>\n",
              "      <td>52</td>\n",
              "      <td>4.61</td>\n",
              "      <td>8.2</td>\n",
              "      <td>53.6</td>\n",
              "      <td>v1</td>\n",
              "      <td>0.693</td>\n",
              "      <td>81.1</td>\n",
              "      <td>5752</td>\n",
              "      <td>747</td>\n",
              "      <td>0.251</td>\n",
              "      <td>5.94</td>\n",
              "      <td>0.15</td>\n",
              "      <td>598</td>\n",
              "      <td>27.3</td>\n",
              "      <td>0.25</td>\n",
              "      <td>3.75</td>\n",
              "      <td>80.1</td>\n",
              "      <td>6.98</td>\n",
              "      <td>0.180</td>\n",
              "      <td>0.620</td>\n",
              "      <td>0.56</td>\n",
              "      <td>9.26</td>\n",
              "      <td>0.25</td>\n",
              "      <td>v2</td>\n",
              "      <td>54.3</td>\n",
              "      <td>0.45</td>\n",
              "      <td>19.5</td>\n",
              "      <td>55.9</td>\n",
              "      <td>0.84</td>\n",
              "      <td>13935</td>\n",
              "      <td>6.59</td>\n",
              "      <td>0.710</td>\n",
              "      <td>v3</td>\n",
              "      <td>class4</td>\n",
              "    </tr>\n",
              "    <tr>\n",
              "      <th>4</th>\n",
              "      <td>2.71</td>\n",
              "      <td>55487</td>\n",
              "      <td>20.9</td>\n",
              "      <td>0.51</td>\n",
              "      <td>84371</td>\n",
              "      <td>0.489</td>\n",
              "      <td>74.0</td>\n",
              "      <td>52</td>\n",
              "      <td>4.63</td>\n",
              "      <td>3.8</td>\n",
              "      <td>52.2</td>\n",
              "      <td>v1</td>\n",
              "      <td>0.621</td>\n",
              "      <td>75.4</td>\n",
              "      <td>4762</td>\n",
              "      <td>803</td>\n",
              "      <td>0.879</td>\n",
              "      <td>5.33</td>\n",
              "      <td>0.17</td>\n",
              "      <td>816</td>\n",
              "      <td>24.2</td>\n",
              "      <td>0.23</td>\n",
              "      <td>2.89</td>\n",
              "      <td>92.6</td>\n",
              "      <td>7.02</td>\n",
              "      <td>0.628</td>\n",
              "      <td>0.368</td>\n",
              "      <td>0.85</td>\n",
              "      <td>9.09</td>\n",
              "      <td>0.47</td>\n",
              "      <td>v1</td>\n",
              "      <td>59.0</td>\n",
              "      <td>0.59</td>\n",
              "      <td>18.4</td>\n",
              "      <td>57.3</td>\n",
              "      <td>0.87</td>\n",
              "      <td>52441</td>\n",
              "      <td>7.61</td>\n",
              "      <td>0.735</td>\n",
              "      <td>v2</td>\n",
              "      <td>class3</td>\n",
              "    </tr>\n",
              "  </tbody>\n",
              "</table>\n",
              "</div>"
            ],
            "text/plain": [
              "     V1     V2    V3    V4     V5     V6  ...   V36    V37   V38    V39  V40   Class\n",
              "0  1.95  55248  40.0  1.11  69201  0.155  ...  0.43  15016  8.40  0.713   v3  class4\n",
              "1  2.64  55704  22.7  0.61  24446  0.315  ...  0.78  54054  6.93  0.753   v2  class2\n",
              "2  3.70  54380  39.7  1.83  20003  0.315  ...  0.40  51628  6.56  0.727   v3  class6\n",
              "3  1.28  55810  38.9  2.65  42038  0.392  ...  0.84  13935  6.59  0.710   v3  class4\n",
              "4  2.71  55487  20.9  0.51  84371  0.489  ...  0.87  52441  7.61  0.735   v2  class3\n",
              "\n",
              "[5 rows x 41 columns]"
            ]
          },
          "metadata": {
            "tags": []
          },
          "execution_count": 22
        }
      ]
    },
    {
      "cell_type": "code",
      "metadata": {
        "id": "zAZhGkwMUcPl",
        "outputId": "6c3d5d1b-f351-4981-b05d-da0a3668c360",
        "colab": {
          "base_uri": "https://localhost:8080/"
        }
      },
      "source": [
        "data.columns"
      ],
      "execution_count": 23,
      "outputs": [
        {
          "output_type": "execute_result",
          "data": {
            "text/plain": [
              "Index(['V1', 'V2', 'V3', 'V4', 'V5', 'V6', 'V7', 'V8', 'V9', 'V10', 'V11',\n",
              "       'V12', 'V13', 'V14', 'V15', 'V16', 'V17', 'V18', 'V19', 'V20', 'V21',\n",
              "       'V22', 'V23', 'V24', 'V25', 'V26', 'V27', 'V28', 'V29', 'V30', 'V31',\n",
              "       'V32', 'V33', 'V34', 'V35', 'V36', 'V37', 'V38', 'V39', 'V40', 'Class'],\n",
              "      dtype='object')"
            ]
          },
          "metadata": {
            "tags": []
          },
          "execution_count": 23
        }
      ]
    },
    {
      "cell_type": "code",
      "metadata": {
        "id": "ucSMWmEP6QH_"
      },
      "source": [
        "x=data.drop(columns=['Class','V12','V31','V40'],axis=1)\n",
        "y=data['Class']"
      ],
      "execution_count": 24,
      "outputs": []
    },
    {
      "cell_type": "code",
      "metadata": {
        "id": "jbkLAbPg8x5o"
      },
      "source": [
        "from sklearn import preprocessing\n",
        "le = preprocessing.LabelEncoder()\n",
        "le.fit(y.unique())\n",
        "y = le.transform(y)"
      ],
      "execution_count": 25,
      "outputs": []
    },
    {
      "cell_type": "code",
      "metadata": {
        "id": "zeYHexXP6gmW"
      },
      "source": [
        "X_train, X_test, y_train, y_test = train_test_split(x, y, test_size=0.2, random_state=4)"
      ],
      "execution_count": 26,
      "outputs": []
    },
    {
      "cell_type": "code",
      "metadata": {
        "id": "whTvIQpp6nhW",
        "outputId": "c16dbafa-7ab0-4a11-8a55-fc87ee7f5286",
        "colab": {
          "base_uri": "https://localhost:8080/"
        }
      },
      "source": [
        "print(X_train.shape)\n",
        "print(y_train.shape)\n",
        "print(X_test.shape)\n",
        "print(y_test.shape)"
      ],
      "execution_count": 27,
      "outputs": [
        {
          "output_type": "stream",
          "text": [
            "(600, 37)\n",
            "(600,)\n",
            "(150, 37)\n",
            "(150,)\n"
          ],
          "name": "stdout"
        }
      ]
    },
    {
      "cell_type": "code",
      "metadata": {
        "id": "vBcQ43_hVvqi"
      },
      "source": [
        "from sklearn import ensemble\n",
        "\n",
        "obj1 = ensemble.AdaBoostClassifier()\n",
        "obj2 = ensemble.BaggingClassifier()\n",
        "obj3 = ensemble.GradientBoostingClassifier()\n",
        "obj4 = ensemble.RandomForestClassifier()\n",
        "estimators = [obj1, obj2, obj3, obj4]\n",
        "obj5 = ensemble.StackingClassifier(estimators=estimators)\n",
        "obj6 = ensemble.VotingClassifier(estimators=estimators)"
      ],
      "execution_count": 28,
      "outputs": []
    },
    {
      "cell_type": "code",
      "metadata": {
        "id": "klgmUPtiV3Xf"
      },
      "source": [
        "def get_cv_scores(model):\n",
        "    scores = cross_val_score(model, X_train, y_train, cv=3, scoring='accuracy')\n",
        "    print('CV Mean: ', np.mean(scores))\n",
        "    print('STD: ', np.std(scores))\n",
        "    print('\\n')"
      ],
      "execution_count": 29,
      "outputs": []
    },
    {
      "cell_type": "code",
      "metadata": {
        "id": "JxOi1pW7Vx2E",
        "outputId": "3aca1c29-8393-459e-b7fc-1ec6637443e2",
        "colab": {
          "base_uri": "https://localhost:8080/"
        }
      },
      "source": [
        "models = [obj1, obj2, obj3, obj4,obj5,obj6]\n",
        "for model in models:\n",
        "    print(model)\n",
        "    get_cv_scores(model)"
      ],
      "execution_count": 30,
      "outputs": [
        {
          "output_type": "stream",
          "text": [
            "AdaBoostClassifier(algorithm='SAMME.R', base_estimator=None, learning_rate=1.0,\n",
            "                   n_estimators=50, random_state=None)\n",
            "CV Mean:  0.17666666666666667\n",
            "STD:  0.010274023338281627\n",
            "\n",
            "\n",
            "BaggingClassifier(base_estimator=None, bootstrap=True, bootstrap_features=False,\n",
            "                  max_features=1.0, max_samples=1.0, n_estimators=10,\n",
            "                  n_jobs=None, oob_score=False, random_state=None, verbose=0,\n",
            "                  warm_start=False)\n",
            "CV Mean:  0.21999999999999997\n",
            "STD:  0.01224744871391589\n",
            "\n",
            "\n",
            "GradientBoostingClassifier(ccp_alpha=0.0, criterion='friedman_mse', init=None,\n",
            "                           learning_rate=0.1, loss='deviance', max_depth=3,\n",
            "                           max_features=None, max_leaf_nodes=None,\n",
            "                           min_impurity_decrease=0.0, min_impurity_split=None,\n",
            "                           min_samples_leaf=1, min_samples_split=2,\n",
            "                           min_weight_fraction_leaf=0.0, n_estimators=100,\n",
            "                           n_iter_no_change=None, presort='deprecated',\n",
            "                           random_state=None, subsample=1.0, tol=0.0001,\n",
            "                           validation_fraction=0.1, verbose=0,\n",
            "                           warm_start=False)\n",
            "CV Mean:  0.20333333333333337\n",
            "STD:  0.004714045207910308\n",
            "\n",
            "\n",
            "RandomForestClassifier(bootstrap=True, ccp_alpha=0.0, class_weight=None,\n",
            "                       criterion='gini', max_depth=None, max_features='auto',\n",
            "                       max_leaf_nodes=None, max_samples=None,\n",
            "                       min_impurity_decrease=0.0, min_impurity_split=None,\n",
            "                       min_samples_leaf=1, min_samples_split=2,\n",
            "                       min_weight_fraction_leaf=0.0, n_estimators=100,\n",
            "                       n_jobs=None, oob_score=False, random_state=None,\n",
            "                       verbose=0, warm_start=False)\n",
            "CV Mean:  0.21166666666666667\n",
            "STD:  0.004714045207910321\n",
            "\n",
            "\n",
            "StackingClassifier(cv=None,\n",
            "                   estimators=[AdaBoostClassifier(algorithm='SAMME.R',\n",
            "                                                  base_estimator=None,\n",
            "                                                  learning_rate=1.0,\n",
            "                                                  n_estimators=50,\n",
            "                                                  random_state=None),\n",
            "                               BaggingClassifier(base_estimator=None,\n",
            "                                                 bootstrap=True,\n",
            "                                                 bootstrap_features=False,\n",
            "                                                 max_features=1.0,\n",
            "                                                 max_samples=1.0,\n",
            "                                                 n_estimators=10, n_jobs=None,\n",
            "                                                 oob_score=False,\n",
            "                                                 random_state=None, verbose=0,\n",
            "                                                 warm_start=False...\n",
            "                                                      max_depth=None,\n",
            "                                                      max_features='auto',\n",
            "                                                      max_leaf_nodes=None,\n",
            "                                                      max_samples=None,\n",
            "                                                      min_impurity_decrease=0.0,\n",
            "                                                      min_impurity_split=None,\n",
            "                                                      min_samples_leaf=1,\n",
            "                                                      min_samples_split=2,\n",
            "                                                      min_weight_fraction_leaf=0.0,\n",
            "                                                      n_estimators=100,\n",
            "                                                      n_jobs=None,\n",
            "                                                      oob_score=False,\n",
            "                                                      random_state=None,\n",
            "                                                      verbose=0,\n",
            "                                                      warm_start=False)],\n",
            "                   final_estimator=None, n_jobs=None, passthrough=False,\n",
            "                   stack_method='auto', verbose=0)\n",
            "CV Mean:  nan\n",
            "STD:  nan\n",
            "\n",
            "\n",
            "VotingClassifier(estimators=[AdaBoostClassifier(algorithm='SAMME.R',\n",
            "                                                base_estimator=None,\n",
            "                                                learning_rate=1.0,\n",
            "                                                n_estimators=50,\n",
            "                                                random_state=None),\n",
            "                             BaggingClassifier(base_estimator=None,\n",
            "                                               bootstrap=True,\n",
            "                                               bootstrap_features=False,\n",
            "                                               max_features=1.0,\n",
            "                                               max_samples=1.0, n_estimators=10,\n",
            "                                               n_jobs=None, oob_score=False,\n",
            "                                               random_state=None, verbose=0,\n",
            "                                               warm_start=False),\n",
            "                             Gradient...\n",
            "                                                    criterion='gini',\n",
            "                                                    max_depth=None,\n",
            "                                                    max_features='auto',\n",
            "                                                    max_leaf_nodes=None,\n",
            "                                                    max_samples=None,\n",
            "                                                    min_impurity_decrease=0.0,\n",
            "                                                    min_impurity_split=None,\n",
            "                                                    min_samples_leaf=1,\n",
            "                                                    min_samples_split=2,\n",
            "                                                    min_weight_fraction_leaf=0.0,\n",
            "                                                    n_estimators=100,\n",
            "                                                    n_jobs=None,\n",
            "                                                    oob_score=False,\n",
            "                                                    random_state=None,\n",
            "                                                    verbose=0,\n",
            "                                                    warm_start=False)],\n",
            "                 flatten_transform=True, n_jobs=None, voting='hard',\n",
            "                 weights=None)\n",
            "CV Mean:  nan\n",
            "STD:  nan\n",
            "\n",
            "\n"
          ],
          "name": "stdout"
        },
        {
          "output_type": "stream",
          "text": [
            "/usr/local/lib/python3.6/dist-packages/sklearn/model_selection/_validation.py:536: FitFailedWarning: Estimator fit failed. The score on this train-test partition for these parameters will be set to nan. Details: \n",
            "AttributeError: 'AdaBoostClassifier' object has no attribute 'estimators_'\n",
            "\n",
            "  FitFailedWarning)\n",
            "/usr/local/lib/python3.6/dist-packages/sklearn/model_selection/_validation.py:536: FitFailedWarning: Estimator fit failed. The score on this train-test partition for these parameters will be set to nan. Details: \n",
            "AttributeError: 'AdaBoostClassifier' object has no attribute 'estimators_'\n",
            "\n",
            "  FitFailedWarning)\n"
          ],
          "name": "stderr"
        }
      ]
    },
    {
      "cell_type": "code",
      "metadata": {
        "id": "rEUfu9qNWCRN"
      },
      "source": [
        "from sklearn import linear_model"
      ],
      "execution_count": 32,
      "outputs": []
    },
    {
      "cell_type": "code",
      "metadata": {
        "id": "uAuBAzwTV8hF",
        "outputId": "3d5d1c88-2a1a-43bf-9299-7a23901c2b73",
        "colab": {
          "base_uri": "https://localhost:8080/"
        }
      },
      "source": [
        "logistic = linear_model.LogisticRegression(C=0.0001, class_weight={1:0.5, 0:0.5}, penalty='l2', solver='liblinear')\n",
        "get_cv_scores(logistic)"
      ],
      "execution_count": 33,
      "outputs": [
        {
          "output_type": "stream",
          "text": [
            "CV Mean:  0.21666666666666665\n",
            "STD:  0.019293061504650374\n",
            "\n",
            "\n"
          ],
          "name": "stdout"
        }
      ]
    },
    {
      "cell_type": "code",
      "metadata": {
        "id": "IaVzlAUDWF5R",
        "outputId": "c8ffc492-df0c-4cd4-a3af-e1b3254874da",
        "colab": {
          "base_uri": "https://localhost:8080/"
        }
      },
      "source": [
        "from sklearn.metrics import accuracy_score\n",
        "\n",
        "logistic.fit(X_train, y_train)\n",
        "\n",
        "y_train_pred = logistic.predict(X_train)\n",
        "accuracy_train = accuracy_score(y_train, y_train_pred)\n",
        "print(\"Accuracy: %.2f%%\" % (accuracy_train))\n",
        "\n",
        "\n",
        "y_test_pred = logistic.predict(X_test)\n",
        "accuracy_test = accuracy_score(y_test, y_test_pred)\n",
        "print(\"Accuracy: %.2f%%\" % (accuracy_test))"
      ],
      "execution_count": 34,
      "outputs": [
        {
          "output_type": "stream",
          "text": [
            "Accuracy: 0.27%\n",
            "Accuracy: 0.23%\n"
          ],
          "name": "stdout"
        }
      ]
    },
    {
      "cell_type": "code",
      "metadata": {
        "id": "0BnrsySiWcau"
      },
      "source": [
        "from sklearn.model_selection import GridSearchCV"
      ],
      "execution_count": 36,
      "outputs": []
    },
    {
      "cell_type": "code",
      "metadata": {
        "id": "bC6aagU8WRQk",
        "outputId": "1e7396f0-5d2c-40c8-c309-9958f85c3b8f",
        "colab": {
          "base_uri": "https://localhost:8080/"
        }
      },
      "source": [
        "base_estimator = [obj1, obj2, obj3, obj4, None]\n",
        "n_estimators = [40,50,60]\n",
        "learning_rate = [0.5,1,1.5]\n",
        "random_state = [1, None]\n",
        "\n",
        "param_grid = dict(base_estimator=base_estimator,n_estimators=n_estimators,learning_rate=learning_rate,random_state=random_state)\n",
        "\n",
        "\n",
        "grid = GridSearchCV(estimator=obj1, param_grid=param_grid, scoring='accuracy', verbose=1, n_jobs=-1)\n",
        "grid_result = grid.fit(X_train, y_train)\n",
        "\n",
        "print('Best Score: ', grid_result.best_score_)\n",
        "print('Best Params: ', grid_result.best_params_)"
      ],
      "execution_count": 43,
      "outputs": [
        {
          "output_type": "stream",
          "text": [
            "Fitting 5 folds for each of 90 candidates, totalling 450 fits\n"
          ],
          "name": "stdout"
        },
        {
          "output_type": "stream",
          "text": [
            "[Parallel(n_jobs=-1)]: Using backend LokyBackend with 2 concurrent workers.\n",
            "[Parallel(n_jobs=-1)]: Done  46 tasks      | elapsed:  5.4min\n",
            "[Parallel(n_jobs=-1)]: Done 196 tasks      | elapsed: 16.7min\n",
            "[Parallel(n_jobs=-1)]: Done 446 tasks      | elapsed: 20.6min\n",
            "[Parallel(n_jobs=-1)]: Done 450 out of 450 | elapsed: 20.6min finished\n"
          ],
          "name": "stderr"
        },
        {
          "output_type": "stream",
          "text": [
            "Best Score:  0.27\n",
            "Best Params:  {'base_estimator': RandomForestClassifier(bootstrap=True, ccp_alpha=0.0, class_weight=None,\n",
            "                       criterion='gini', max_depth=None, max_features='auto',\n",
            "                       max_leaf_nodes=None, max_samples=None,\n",
            "                       min_impurity_decrease=0.0, min_impurity_split=None,\n",
            "                       min_samples_leaf=1, min_samples_split=2,\n",
            "                       min_weight_fraction_leaf=0.0, n_estimators=100,\n",
            "                       n_jobs=None, oob_score=False, random_state=None,\n",
            "                       verbose=0, warm_start=False), 'learning_rate': 1, 'n_estimators': 40, 'random_state': None}\n"
          ],
          "name": "stdout"
        }
      ]
    },
    {
      "cell_type": "code",
      "metadata": {
        "id": "MOWenBD3WbdV",
        "outputId": "d23c0cab-adf6-4c8f-ba1c-6d6a4dcf4053",
        "colab": {
          "base_uri": "https://localhost:8080/"
        }
      },
      "source": [
        "from sklearn.metrics import accuracy_score\n",
        "\n",
        "y_train_pred = grid.predict(X_train)\n",
        "accuracy_train = accuracy_score(y_train, y_train_pred)\n",
        "print(\"Accuracy: %.2f%%\" % (accuracy_train))\n",
        "\n",
        "\n",
        "y_test_pred = grid.predict(X_test)\n",
        "accuracy_test = accuracy_score(y_test, y_test_pred)\n",
        "print(\"Accuracy: %.2f%%\" % (accuracy_test))"
      ],
      "execution_count": 44,
      "outputs": [
        {
          "output_type": "stream",
          "text": [
            "Accuracy: 1.00%\n",
            "Accuracy: 0.23%\n"
          ],
          "name": "stdout"
        }
      ]
    },
    {
      "cell_type": "code",
      "metadata": {
        "id": "jPScfWpzuPMO"
      },
      "source": [
        ""
      ],
      "execution_count": null,
      "outputs": []
    }
  ]
}