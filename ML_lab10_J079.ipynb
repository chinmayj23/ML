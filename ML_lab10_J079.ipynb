{
  "nbformat": 4,
  "nbformat_minor": 0,
  "metadata": {
    "colab": {
      "name": "ML_lab10_J079.ipynb",
      "provenance": [],
      "authorship_tag": "ABX9TyPU8brPlky048Y0guHx7lON",
      "include_colab_link": true
    },
    "kernelspec": {
      "name": "python3",
      "display_name": "Python 3"
    }
  },
  "cells": [
    {
      "cell_type": "markdown",
      "metadata": {
        "id": "view-in-github",
        "colab_type": "text"
      },
      "source": [
        "<a href=\"https://colab.research.google.com/github/chinmayj23/ML/blob/master/ML_lab10_J079.ipynb\" target=\"_parent\"><img src=\"https://colab.research.google.com/assets/colab-badge.svg\" alt=\"Open In Colab\"/></a>"
      ]
    },
    {
      "cell_type": "code",
      "metadata": {
        "id": "4nLlhnGAtubS"
      },
      "source": [
        "import pandas as pd\n",
        "import numpy as np\n",
        "\n",
        "import matplotlib.pyplot as plt\n",
        "import seaborn as sb\n",
        "\n",
        "import keras"
      ],
      "execution_count": 30,
      "outputs": []
    },
    {
      "cell_type": "code",
      "metadata": {
        "id": "TCXtQJmmt7yh",
        "outputId": "9c8f53c6-7184-4299-d8b3-c95510ff7fab",
        "colab": {
          "base_uri": "https://localhost:8080/"
        }
      },
      "source": [
        "!wget -O 2011gcn.csv https://raw.githubusercontent.com/pranavn91/blockchain/master/2011gcn.csv\n",
        "!wget -O tx2011partvertices_new.csv https://raw.githubusercontent.com/pranavn91/blockchain/master/tx2011partvertices_new.csv\n",
        "!wget -O tx2011partvertices.csv https://raw.githubusercontent.com/pranavn91/blockchain/master/tx2011partvertices.csv\n",
        " \n",
        "tr1 = pd.read_csv('2011gcn.csv')\n",
        "tr2 = pd.read_csv('tx2011partvertices_new.csv')\n",
        "tr3 = pd.read_csv('tx2011partvertices.csv')"
      ],
      "execution_count": 31,
      "outputs": [
        {
          "output_type": "stream",
          "text": [
            "--2020-11-01 17:00:31--  https://raw.githubusercontent.com/pranavn91/blockchain/master/2011gcn.csv\n",
            "Resolving raw.githubusercontent.com (raw.githubusercontent.com)... 151.101.0.133, 151.101.64.133, 151.101.128.133, ...\n",
            "Connecting to raw.githubusercontent.com (raw.githubusercontent.com)|151.101.0.133|:443... connected.\n",
            "HTTP request sent, awaiting response... 200 OK\n",
            "Length: 12563086 (12M) [text/plain]\n",
            "Saving to: ‘2011gcn.csv’\n",
            "\n",
            "2011gcn.csv         100%[===================>]  11.98M  26.2MB/s    in 0.5s    \n",
            "\n",
            "2020-11-01 17:00:32 (26.2 MB/s) - ‘2011gcn.csv’ saved [12563086/12563086]\n",
            "\n",
            "--2020-11-01 17:00:32--  https://raw.githubusercontent.com/pranavn91/blockchain/master/tx2011partvertices_new.csv\n",
            "Resolving raw.githubusercontent.com (raw.githubusercontent.com)... 151.101.0.133, 151.101.64.133, 151.101.128.133, ...\n",
            "Connecting to raw.githubusercontent.com (raw.githubusercontent.com)|151.101.0.133|:443... connected.\n",
            "HTTP request sent, awaiting response... 200 OK\n",
            "Length: 12501458 (12M) [text/plain]\n",
            "Saving to: ‘tx2011partvertices_new.csv’\n",
            "\n",
            "tx2011partvertices_ 100%[===================>]  11.92M  25.8MB/s    in 0.5s    \n",
            "\n",
            "2020-11-01 17:00:32 (25.8 MB/s) - ‘tx2011partvertices_new.csv’ saved [12501458/12501458]\n",
            "\n",
            "--2020-11-01 17:00:32--  https://raw.githubusercontent.com/pranavn91/blockchain/master/tx2011partvertices.csv\n",
            "Resolving raw.githubusercontent.com (raw.githubusercontent.com)... 151.101.0.133, 151.101.64.133, 151.101.128.133, ...\n",
            "Connecting to raw.githubusercontent.com (raw.githubusercontent.com)|151.101.0.133|:443... connected.\n",
            "HTTP request sent, awaiting response... 200 OK\n",
            "Length: 1934257 (1.8M) [text/plain]\n",
            "Saving to: ‘tx2011partvertices.csv’\n",
            "\n",
            "tx2011partvertices. 100%[===================>]   1.84M  11.3MB/s    in 0.2s    \n",
            "\n",
            "2020-11-01 17:00:33 (11.3 MB/s) - ‘tx2011partvertices.csv’ saved [1934257/1934257]\n",
            "\n"
          ],
          "name": "stdout"
        }
      ]
    },
    {
      "cell_type": "code",
      "metadata": {
        "id": "UhNu8ZmduCi1",
        "outputId": "4d928164-44d9-45ab-8e3e-2601e65b667e",
        "colab": {
          "base_uri": "https://localhost:8080/"
        }
      },
      "source": [
        "tr1.info()"
      ],
      "execution_count": 32,
      "outputs": [
        {
          "output_type": "stream",
          "text": [
            "<class 'pandas.core.frame.DataFrame'>\n",
            "RangeIndex: 96498 entries, 0 to 96497\n",
            "Data columns (total 17 columns):\n",
            " #   Column      Non-Null Count  Dtype  \n",
            "---  ------      --------------  -----  \n",
            " 0   Unnamed: 0  96498 non-null  int64  \n",
            " 1   0           96498 non-null  float64\n",
            " 2   1           96498 non-null  float64\n",
            " 3   2           96498 non-null  float64\n",
            " 4   3           96498 non-null  float64\n",
            " 5   4           96498 non-null  float64\n",
            " 6   5           96498 non-null  float64\n",
            " 7   6           96498 non-null  float64\n",
            " 8   7           96498 non-null  float64\n",
            " 9   8           96498 non-null  float64\n",
            " 10  9           96498 non-null  float64\n",
            " 11  10          96498 non-null  float64\n",
            " 12  11          96498 non-null  float64\n",
            " 13  12          96498 non-null  float64\n",
            " 14  13          96498 non-null  float64\n",
            " 15  14          96498 non-null  float64\n",
            " 16  15          96498 non-null  float64\n",
            "dtypes: float64(16), int64(1)\n",
            "memory usage: 12.5 MB\n"
          ],
          "name": "stdout"
        }
      ]
    },
    {
      "cell_type": "code",
      "metadata": {
        "id": "OcxMGqgvuIbJ",
        "outputId": "c9c22695-f29b-4b6f-f020-307b7ffdcb49",
        "colab": {
          "base_uri": "https://localhost:8080/"
        }
      },
      "source": [
        "tr2.info()"
      ],
      "execution_count": 33,
      "outputs": [
        {
          "output_type": "stream",
          "text": [
            "<class 'pandas.core.frame.DataFrame'>\n",
            "RangeIndex: 96498 entries, 0 to 96497\n",
            "Data columns (total 20 columns):\n",
            " #   Column           Non-Null Count  Dtype  \n",
            "---  ------           --------------  -----  \n",
            " 0   Unnamed: 0       96498 non-null  int64  \n",
            " 1   txsize           96498 non-null  int64  \n",
            " 2   txvirtualsize    96498 non-null  int64  \n",
            " 3   txinputs_count   96498 non-null  int64  \n",
            " 4   txoutputs_count  96498 non-null  int64  \n",
            " 5   txinput_val      96498 non-null  float64\n",
            " 6   txoutput_val     96498 non-null  float64\n",
            " 7   txfee            96498 non-null  int64  \n",
            " 8   Min_received     96498 non-null  float64\n",
            " 9   Max_received     96498 non-null  float64\n",
            " 10  Avg_received     96498 non-null  float64\n",
            " 11  Total_received   96498 non-null  float64\n",
            " 12  Stdev_received   96498 non-null  float64\n",
            " 13  Var_received     96498 non-null  float64\n",
            " 14  Min_sent         96498 non-null  float64\n",
            " 15  Max_sent         96498 non-null  float64\n",
            " 16  Avg_sent         96498 non-null  float64\n",
            " 17  Total_sent       96498 non-null  float64\n",
            " 18  Stdev_sent       96498 non-null  float64\n",
            " 19  Var_sent         96498 non-null  float64\n",
            "dtypes: float64(14), int64(6)\n",
            "memory usage: 14.7 MB\n"
          ],
          "name": "stdout"
        }
      ]
    },
    {
      "cell_type": "code",
      "metadata": {
        "id": "uZXQ5QwRuJ9h",
        "outputId": "465ac90c-d2e9-48aa-a124-f1ae5b530ad8",
        "colab": {
          "base_uri": "https://localhost:8080/"
        }
      },
      "source": [
        "tr3.info()"
      ],
      "execution_count": 34,
      "outputs": [
        {
          "output_type": "stream",
          "text": [
            "<class 'pandas.core.frame.DataFrame'>\n",
            "RangeIndex: 96498 entries, 0 to 96497\n",
            "Data columns (total 2 columns):\n",
            " #   Column      Non-Null Count  Dtype \n",
            "---  ------      --------------  ----- \n",
            " 0   Unnamed: 0  96498 non-null  int64 \n",
            " 1   label       96498 non-null  object\n",
            "dtypes: int64(1), object(1)\n",
            "memory usage: 1.5+ MB\n"
          ],
          "name": "stdout"
        }
      ]
    },
    {
      "cell_type": "code",
      "metadata": {
        "id": "HRXi8DUVuMUc",
        "outputId": "ee6dd86f-7674-4df7-9445-693c3d75737d",
        "colab": {
          "base_uri": "https://localhost:8080/",
          "height": 195
        }
      },
      "source": [
        "tr1.head()"
      ],
      "execution_count": 35,
      "outputs": [
        {
          "output_type": "execute_result",
          "data": {
            "text/html": [
              "<div>\n",
              "<style scoped>\n",
              "    .dataframe tbody tr th:only-of-type {\n",
              "        vertical-align: middle;\n",
              "    }\n",
              "\n",
              "    .dataframe tbody tr th {\n",
              "        vertical-align: top;\n",
              "    }\n",
              "\n",
              "    .dataframe thead th {\n",
              "        text-align: right;\n",
              "    }\n",
              "</style>\n",
              "<table border=\"1\" class=\"dataframe\">\n",
              "  <thead>\n",
              "    <tr style=\"text-align: right;\">\n",
              "      <th></th>\n",
              "      <th>Unnamed: 0</th>\n",
              "      <th>0</th>\n",
              "      <th>1</th>\n",
              "      <th>2</th>\n",
              "      <th>3</th>\n",
              "      <th>4</th>\n",
              "      <th>5</th>\n",
              "      <th>6</th>\n",
              "      <th>7</th>\n",
              "      <th>8</th>\n",
              "      <th>9</th>\n",
              "      <th>10</th>\n",
              "      <th>11</th>\n",
              "      <th>12</th>\n",
              "      <th>13</th>\n",
              "      <th>14</th>\n",
              "      <th>15</th>\n",
              "    </tr>\n",
              "  </thead>\n",
              "  <tbody>\n",
              "    <tr>\n",
              "      <th>0</th>\n",
              "      <td>0</td>\n",
              "      <td>0.0</td>\n",
              "      <td>4.811244e+07</td>\n",
              "      <td>0.0</td>\n",
              "      <td>0.0</td>\n",
              "      <td>5.298934e+07</td>\n",
              "      <td>0.0</td>\n",
              "      <td>5.215435e+07</td>\n",
              "      <td>0.0</td>\n",
              "      <td>0.0</td>\n",
              "      <td>4.293262e+05</td>\n",
              "      <td>3.994267e+07</td>\n",
              "      <td>6.251989e+07</td>\n",
              "      <td>0.0</td>\n",
              "      <td>0.0</td>\n",
              "      <td>2.670458e+07</td>\n",
              "      <td>8.313858e+07</td>\n",
              "    </tr>\n",
              "    <tr>\n",
              "      <th>1</th>\n",
              "      <td>1</td>\n",
              "      <td>0.0</td>\n",
              "      <td>3.477977e+05</td>\n",
              "      <td>0.0</td>\n",
              "      <td>0.0</td>\n",
              "      <td>3.777575e+05</td>\n",
              "      <td>0.0</td>\n",
              "      <td>3.757520e+05</td>\n",
              "      <td>0.0</td>\n",
              "      <td>0.0</td>\n",
              "      <td>6.889133e+03</td>\n",
              "      <td>3.001618e+05</td>\n",
              "      <td>4.527358e+05</td>\n",
              "      <td>0.0</td>\n",
              "      <td>0.0</td>\n",
              "      <td>1.915057e+05</td>\n",
              "      <td>6.009039e+05</td>\n",
              "    </tr>\n",
              "    <tr>\n",
              "      <th>2</th>\n",
              "      <td>2</td>\n",
              "      <td>0.0</td>\n",
              "      <td>6.455196e+07</td>\n",
              "      <td>0.0</td>\n",
              "      <td>0.0</td>\n",
              "      <td>7.110790e+07</td>\n",
              "      <td>0.0</td>\n",
              "      <td>6.997804e+07</td>\n",
              "      <td>0.0</td>\n",
              "      <td>0.0</td>\n",
              "      <td>5.670157e+05</td>\n",
              "      <td>5.356332e+07</td>\n",
              "      <td>8.388026e+07</td>\n",
              "      <td>0.0</td>\n",
              "      <td>0.0</td>\n",
              "      <td>3.583296e+07</td>\n",
              "      <td>1.115463e+08</td>\n",
              "    </tr>\n",
              "    <tr>\n",
              "      <th>3</th>\n",
              "      <td>3</td>\n",
              "      <td>0.0</td>\n",
              "      <td>2.009876e+08</td>\n",
              "      <td>0.0</td>\n",
              "      <td>0.0</td>\n",
              "      <td>2.214679e+08</td>\n",
              "      <td>0.0</td>\n",
              "      <td>2.174101e+08</td>\n",
              "      <td>0.0</td>\n",
              "      <td>0.0</td>\n",
              "      <td>1.342720e+06</td>\n",
              "      <td>1.665389e+08</td>\n",
              "      <td>2.614420e+08</td>\n",
              "      <td>0.0</td>\n",
              "      <td>0.0</td>\n",
              "      <td>1.116514e+08</td>\n",
              "      <td>3.472892e+08</td>\n",
              "    </tr>\n",
              "    <tr>\n",
              "      <th>4</th>\n",
              "      <td>4</td>\n",
              "      <td>0.0</td>\n",
              "      <td>2.384675e+05</td>\n",
              "      <td>0.0</td>\n",
              "      <td>0.0</td>\n",
              "      <td>2.597246e+05</td>\n",
              "      <td>0.0</td>\n",
              "      <td>2.577884e+05</td>\n",
              "      <td>0.0</td>\n",
              "      <td>0.0</td>\n",
              "      <td>4.202993e+03</td>\n",
              "      <td>2.042845e+05</td>\n",
              "      <td>3.103489e+05</td>\n",
              "      <td>0.0</td>\n",
              "      <td>0.0</td>\n",
              "      <td>1.315073e+05</td>\n",
              "      <td>4.120424e+05</td>\n",
              "    </tr>\n",
              "  </tbody>\n",
              "</table>\n",
              "</div>"
            ],
            "text/plain": [
              "   Unnamed: 0    0             1    2  ...   12   13            14            15\n",
              "0           0  0.0  4.811244e+07  0.0  ...  0.0  0.0  2.670458e+07  8.313858e+07\n",
              "1           1  0.0  3.477977e+05  0.0  ...  0.0  0.0  1.915057e+05  6.009039e+05\n",
              "2           2  0.0  6.455196e+07  0.0  ...  0.0  0.0  3.583296e+07  1.115463e+08\n",
              "3           3  0.0  2.009876e+08  0.0  ...  0.0  0.0  1.116514e+08  3.472892e+08\n",
              "4           4  0.0  2.384675e+05  0.0  ...  0.0  0.0  1.315073e+05  4.120424e+05\n",
              "\n",
              "[5 rows x 17 columns]"
            ]
          },
          "metadata": {
            "tags": []
          },
          "execution_count": 35
        }
      ]
    },
    {
      "cell_type": "code",
      "metadata": {
        "id": "Ze1BAEgzvYLE",
        "outputId": "ff3aea73-857d-412f-bcff-438e90421352",
        "colab": {
          "base_uri": "https://localhost:8080/",
          "height": 232
        }
      },
      "source": [
        "tr2.head()"
      ],
      "execution_count": 36,
      "outputs": [
        {
          "output_type": "execute_result",
          "data": {
            "text/html": [
              "<div>\n",
              "<style scoped>\n",
              "    .dataframe tbody tr th:only-of-type {\n",
              "        vertical-align: middle;\n",
              "    }\n",
              "\n",
              "    .dataframe tbody tr th {\n",
              "        vertical-align: top;\n",
              "    }\n",
              "\n",
              "    .dataframe thead th {\n",
              "        text-align: right;\n",
              "    }\n",
              "</style>\n",
              "<table border=\"1\" class=\"dataframe\">\n",
              "  <thead>\n",
              "    <tr style=\"text-align: right;\">\n",
              "      <th></th>\n",
              "      <th>Unnamed: 0</th>\n",
              "      <th>txsize</th>\n",
              "      <th>txvirtualsize</th>\n",
              "      <th>txinputs_count</th>\n",
              "      <th>txoutputs_count</th>\n",
              "      <th>txinput_val</th>\n",
              "      <th>txoutput_val</th>\n",
              "      <th>txfee</th>\n",
              "      <th>Min_received</th>\n",
              "      <th>Max_received</th>\n",
              "      <th>Avg_received</th>\n",
              "      <th>Total_received</th>\n",
              "      <th>Stdev_received</th>\n",
              "      <th>Var_received</th>\n",
              "      <th>Min_sent</th>\n",
              "      <th>Max_sent</th>\n",
              "      <th>Avg_sent</th>\n",
              "      <th>Total_sent</th>\n",
              "      <th>Stdev_sent</th>\n",
              "      <th>Var_sent</th>\n",
              "    </tr>\n",
              "  </thead>\n",
              "  <tbody>\n",
              "    <tr>\n",
              "      <th>0</th>\n",
              "      <td>1</td>\n",
              "      <td>7369</td>\n",
              "      <td>7369</td>\n",
              "      <td>5</td>\n",
              "      <td>190</td>\n",
              "      <td>215000000.0</td>\n",
              "      <td>214600000.0</td>\n",
              "      <td>400000</td>\n",
              "      <td>0.0005</td>\n",
              "      <td>1.0000</td>\n",
              "      <td>0.011295</td>\n",
              "      <td>2.1460</td>\n",
              "      <td>0.081163</td>\n",
              "      <td>0.006587</td>\n",
              "      <td>0.0005</td>\n",
              "      <td>1.6700</td>\n",
              "      <td>0.4300</td>\n",
              "      <td>2.1500</td>\n",
              "      <td>0.703445</td>\n",
              "      <td>0.494835</td>\n",
              "    </tr>\n",
              "    <tr>\n",
              "      <th>1</th>\n",
              "      <td>2</td>\n",
              "      <td>293</td>\n",
              "      <td>293</td>\n",
              "      <td>1</td>\n",
              "      <td>3</td>\n",
              "      <td>4400000.0</td>\n",
              "      <td>4350000.0</td>\n",
              "      <td>50000</td>\n",
              "      <td>0.0010</td>\n",
              "      <td>0.0415</td>\n",
              "      <td>0.014500</td>\n",
              "      <td>0.0435</td>\n",
              "      <td>0.023383</td>\n",
              "      <td>0.000547</td>\n",
              "      <td>0.0440</td>\n",
              "      <td>0.0440</td>\n",
              "      <td>0.0440</td>\n",
              "      <td>0.0440</td>\n",
              "      <td>0.000000</td>\n",
              "      <td>0.000000</td>\n",
              "    </tr>\n",
              "    <tr>\n",
              "      <th>2</th>\n",
              "      <td>3</td>\n",
              "      <td>11139</td>\n",
              "      <td>11139</td>\n",
              "      <td>1</td>\n",
              "      <td>322</td>\n",
              "      <td>125000000.0</td>\n",
              "      <td>124400000.0</td>\n",
              "      <td>600000</td>\n",
              "      <td>0.0010</td>\n",
              "      <td>0.4460</td>\n",
              "      <td>0.003863</td>\n",
              "      <td>1.2440</td>\n",
              "      <td>0.024941</td>\n",
              "      <td>0.000622</td>\n",
              "      <td>1.2500</td>\n",
              "      <td>1.2500</td>\n",
              "      <td>1.2500</td>\n",
              "      <td>1.2500</td>\n",
              "      <td>0.000000</td>\n",
              "      <td>0.000000</td>\n",
              "    </tr>\n",
              "    <tr>\n",
              "      <th>3</th>\n",
              "      <td>4</td>\n",
              "      <td>495</td>\n",
              "      <td>495</td>\n",
              "      <td>1</td>\n",
              "      <td>9</td>\n",
              "      <td>27450000.0</td>\n",
              "      <td>27400000.0</td>\n",
              "      <td>50000</td>\n",
              "      <td>0.0010</td>\n",
              "      <td>0.2660</td>\n",
              "      <td>0.030444</td>\n",
              "      <td>0.2740</td>\n",
              "      <td>0.088333</td>\n",
              "      <td>0.007803</td>\n",
              "      <td>0.2745</td>\n",
              "      <td>0.2745</td>\n",
              "      <td>0.2745</td>\n",
              "      <td>0.2745</td>\n",
              "      <td>0.000000</td>\n",
              "      <td>0.000000</td>\n",
              "    </tr>\n",
              "    <tr>\n",
              "      <th>4</th>\n",
              "      <td>5</td>\n",
              "      <td>462</td>\n",
              "      <td>462</td>\n",
              "      <td>1</td>\n",
              "      <td>8</td>\n",
              "      <td>3000000.0</td>\n",
              "      <td>2950000.0</td>\n",
              "      <td>50000</td>\n",
              "      <td>0.0010</td>\n",
              "      <td>0.0225</td>\n",
              "      <td>0.003687</td>\n",
              "      <td>0.0295</td>\n",
              "      <td>0.007601</td>\n",
              "      <td>0.000058</td>\n",
              "      <td>0.0300</td>\n",
              "      <td>0.0300</td>\n",
              "      <td>0.0300</td>\n",
              "      <td>0.0300</td>\n",
              "      <td>0.000000</td>\n",
              "      <td>0.000000</td>\n",
              "    </tr>\n",
              "  </tbody>\n",
              "</table>\n",
              "</div>"
            ],
            "text/plain": [
              "   Unnamed: 0  txsize  txvirtualsize  ...  Total_sent  Stdev_sent  Var_sent\n",
              "0           1    7369           7369  ...      2.1500    0.703445  0.494835\n",
              "1           2     293            293  ...      0.0440    0.000000  0.000000\n",
              "2           3   11139          11139  ...      1.2500    0.000000  0.000000\n",
              "3           4     495            495  ...      0.2745    0.000000  0.000000\n",
              "4           5     462            462  ...      0.0300    0.000000  0.000000\n",
              "\n",
              "[5 rows x 20 columns]"
            ]
          },
          "metadata": {
            "tags": []
          },
          "execution_count": 36
        }
      ]
    },
    {
      "cell_type": "code",
      "metadata": {
        "id": "hdE-odkWvZkA",
        "outputId": "a1637054-b212-45a7-eb88-d0b8ab7e7d5c",
        "colab": {
          "base_uri": "https://localhost:8080/",
          "height": 195
        }
      },
      "source": [
        "tr3.head()"
      ],
      "execution_count": 37,
      "outputs": [
        {
          "output_type": "execute_result",
          "data": {
            "text/html": [
              "<div>\n",
              "<style scoped>\n",
              "    .dataframe tbody tr th:only-of-type {\n",
              "        vertical-align: middle;\n",
              "    }\n",
              "\n",
              "    .dataframe tbody tr th {\n",
              "        vertical-align: top;\n",
              "    }\n",
              "\n",
              "    .dataframe thead th {\n",
              "        text-align: right;\n",
              "    }\n",
              "</style>\n",
              "<table border=\"1\" class=\"dataframe\">\n",
              "  <thead>\n",
              "    <tr style=\"text-align: right;\">\n",
              "      <th></th>\n",
              "      <th>Unnamed: 0</th>\n",
              "      <th>label</th>\n",
              "    </tr>\n",
              "  </thead>\n",
              "  <tbody>\n",
              "    <tr>\n",
              "      <th>0</th>\n",
              "      <td>1</td>\n",
              "      <td>unclassified</td>\n",
              "    </tr>\n",
              "    <tr>\n",
              "      <th>1</th>\n",
              "      <td>2</td>\n",
              "      <td>donations</td>\n",
              "    </tr>\n",
              "    <tr>\n",
              "      <th>2</th>\n",
              "      <td>3</td>\n",
              "      <td>unclassified</td>\n",
              "    </tr>\n",
              "    <tr>\n",
              "      <th>3</th>\n",
              "      <td>4</td>\n",
              "      <td>donations</td>\n",
              "    </tr>\n",
              "    <tr>\n",
              "      <th>4</th>\n",
              "      <td>5</td>\n",
              "      <td>donations</td>\n",
              "    </tr>\n",
              "  </tbody>\n",
              "</table>\n",
              "</div>"
            ],
            "text/plain": [
              "   Unnamed: 0         label\n",
              "0           1  unclassified\n",
              "1           2     donations\n",
              "2           3  unclassified\n",
              "3           4     donations\n",
              "4           5     donations"
            ]
          },
          "metadata": {
            "tags": []
          },
          "execution_count": 37
        }
      ]
    },
    {
      "cell_type": "code",
      "metadata": {
        "id": "_EyGboB7uWuq"
      },
      "source": [
        "merged = pd.merge(train3, train1, on='Unnamed: 0', how='inner')\n",
        "\n",
        "X = merged.iloc[:,2:18]\n",
        "Y = pd.get_dummies(merged['label'])"
      ],
      "execution_count": 38,
      "outputs": []
    },
    {
      "cell_type": "code",
      "metadata": {
        "id": "fzmIugOhufdn"
      },
      "source": [
        "from sklearn.model_selection import train_test_split\n",
        "seed = 7\n",
        "\n",
        "X_train, X_test, y_train, y_test = train_test_split(X, Y, test_size= 0.2, random_state=seed)"
      ],
      "execution_count": 39,
      "outputs": []
    },
    {
      "cell_type": "code",
      "metadata": {
        "id": "XAKTDxXpulyA",
        "outputId": "3cd2c95e-123b-41aa-8c4a-9c7f2ebb0487",
        "colab": {
          "base_uri": "https://localhost:8080/"
        }
      },
      "source": [
        "\n",
        "print('X_train shape:',X_train.shape)\n",
        "print('Y_train shape:',y_train.shape)\n",
        "print('X_test shape:',X_test.shape)\n",
        "print('Y_test shape:',y_test.shape)"
      ],
      "execution_count": 40,
      "outputs": [
        {
          "output_type": "stream",
          "text": [
            "X_train shape: (77197, 16)\n",
            "Y_train shape: (77197, 6)\n",
            "X_test shape: (19300, 16)\n",
            "Y_test shape: (19300, 6)\n"
          ],
          "name": "stdout"
        }
      ]
    },
    {
      "cell_type": "code",
      "metadata": {
        "id": "wRjPVnGjupYd"
      },
      "source": [
        "X_train = X_train.drop(['0'], axis=1)\n",
        "X_test = X_test.drop(['0'], axis=1)"
      ],
      "execution_count": 41,
      "outputs": []
    },
    {
      "cell_type": "code",
      "metadata": {
        "id": "Vm2JAZjOuuVf"
      },
      "source": [
        "\n",
        "import keras\n",
        "from keras import models\n",
        "from keras import layers"
      ],
      "execution_count": 42,
      "outputs": []
    },
    {
      "cell_type": "code",
      "metadata": {
        "id": "ZxHYWcapuyQ1",
        "outputId": "a3255260-d720-4205-ecf9-15e8d9154767",
        "colab": {
          "base_uri": "https://localhost:8080/"
        }
      },
      "source": [
        "\n",
        "nn = models.Sequential()\n",
        "nn.add(layers.Dense(256, activation= 'relu', input_dim=(15)))\n",
        "nn.add(layers.Dense(128, activation= 'relu'))\n",
        "nn.add(layers.Dense(6, activation= 'softmax'))\n",
        "\n",
        "nn.summary()"
      ],
      "execution_count": 43,
      "outputs": [
        {
          "output_type": "stream",
          "text": [
            "Model: \"sequential_2\"\n",
            "_________________________________________________________________\n",
            "Layer (type)                 Output Shape              Param #   \n",
            "=================================================================\n",
            "dense_6 (Dense)              (None, 256)               4096      \n",
            "_________________________________________________________________\n",
            "dense_7 (Dense)              (None, 128)               32896     \n",
            "_________________________________________________________________\n",
            "dense_8 (Dense)              (None, 6)                 774       \n",
            "=================================================================\n",
            "Total params: 37,766\n",
            "Trainable params: 37,766\n",
            "Non-trainable params: 0\n",
            "_________________________________________________________________\n"
          ],
          "name": "stdout"
        }
      ]
    },
    {
      "cell_type": "code",
      "metadata": {
        "id": "yOTX7u6Zu2K1"
      },
      "source": [
        "nn.compile(optimizer= 'sgd', loss= ['categorical_crossentropy'], metrics= 'accuracy')"
      ],
      "execution_count": 44,
      "outputs": []
    },
    {
      "cell_type": "code",
      "metadata": {
        "id": "D-29oOVru5ub",
        "outputId": "98fc6a59-6abc-4771-d0d8-fe5a57d123cf",
        "colab": {
          "base_uri": "https://localhost:8080/"
        }
      },
      "source": [
        "hist = nn.fit(X_train,y_train, epochs = 100, validation_split= 0.25)"
      ],
      "execution_count": 45,
      "outputs": [
        {
          "output_type": "stream",
          "text": [
            "Epoch 1/100\n",
            "1810/1810 [==============================] - 3s 2ms/step - loss: nan - accuracy: 0.8329 - val_loss: nan - val_accuracy: 0.8336\n",
            "Epoch 2/100\n",
            "1810/1810 [==============================] - 3s 1ms/step - loss: nan - accuracy: 0.8338 - val_loss: nan - val_accuracy: 0.8336\n",
            "Epoch 3/100\n",
            "1810/1810 [==============================] - 3s 1ms/step - loss: nan - accuracy: 0.8338 - val_loss: nan - val_accuracy: 0.8336\n",
            "Epoch 4/100\n",
            "1810/1810 [==============================] - 3s 2ms/step - loss: nan - accuracy: 0.8338 - val_loss: nan - val_accuracy: 0.8336\n",
            "Epoch 5/100\n",
            "1810/1810 [==============================] - 3s 1ms/step - loss: nan - accuracy: 0.8338 - val_loss: nan - val_accuracy: 0.8336\n",
            "Epoch 6/100\n",
            "1810/1810 [==============================] - 3s 1ms/step - loss: nan - accuracy: 0.8338 - val_loss: nan - val_accuracy: 0.8336\n",
            "Epoch 7/100\n",
            "1810/1810 [==============================] - 3s 1ms/step - loss: nan - accuracy: 0.8338 - val_loss: nan - val_accuracy: 0.8336\n",
            "Epoch 8/100\n",
            "1810/1810 [==============================] - 3s 1ms/step - loss: nan - accuracy: 0.8338 - val_loss: nan - val_accuracy: 0.8336\n",
            "Epoch 9/100\n",
            "1810/1810 [==============================] - 3s 1ms/step - loss: nan - accuracy: 0.8338 - val_loss: nan - val_accuracy: 0.8336\n",
            "Epoch 10/100\n",
            "1810/1810 [==============================] - 3s 1ms/step - loss: nan - accuracy: 0.8338 - val_loss: nan - val_accuracy: 0.8336\n",
            "Epoch 11/100\n",
            "1810/1810 [==============================] - 3s 1ms/step - loss: nan - accuracy: 0.8338 - val_loss: nan - val_accuracy: 0.8336\n",
            "Epoch 12/100\n",
            "1810/1810 [==============================] - 3s 1ms/step - loss: nan - accuracy: 0.8338 - val_loss: nan - val_accuracy: 0.8336\n",
            "Epoch 13/100\n",
            "1810/1810 [==============================] - 3s 1ms/step - loss: nan - accuracy: 0.8338 - val_loss: nan - val_accuracy: 0.8336\n",
            "Epoch 14/100\n",
            "1810/1810 [==============================] - 3s 2ms/step - loss: nan - accuracy: 0.8338 - val_loss: nan - val_accuracy: 0.8336\n",
            "Epoch 15/100\n",
            "1810/1810 [==============================] - 3s 1ms/step - loss: nan - accuracy: 0.8338 - val_loss: nan - val_accuracy: 0.8336\n",
            "Epoch 16/100\n",
            "1810/1810 [==============================] - 3s 1ms/step - loss: nan - accuracy: 0.8338 - val_loss: nan - val_accuracy: 0.8336\n",
            "Epoch 17/100\n",
            "1810/1810 [==============================] - 3s 1ms/step - loss: nan - accuracy: 0.8338 - val_loss: nan - val_accuracy: 0.8336\n",
            "Epoch 18/100\n",
            "1810/1810 [==============================] - 3s 1ms/step - loss: nan - accuracy: 0.8338 - val_loss: nan - val_accuracy: 0.8336\n",
            "Epoch 19/100\n",
            "1810/1810 [==============================] - 3s 1ms/step - loss: nan - accuracy: 0.8338 - val_loss: nan - val_accuracy: 0.8336\n",
            "Epoch 20/100\n",
            "1810/1810 [==============================] - 3s 1ms/step - loss: nan - accuracy: 0.8338 - val_loss: nan - val_accuracy: 0.8336\n",
            "Epoch 21/100\n",
            "1810/1810 [==============================] - 3s 1ms/step - loss: nan - accuracy: 0.8338 - val_loss: nan - val_accuracy: 0.8336\n",
            "Epoch 22/100\n",
            "1810/1810 [==============================] - 3s 1ms/step - loss: nan - accuracy: 0.8338 - val_loss: nan - val_accuracy: 0.8336\n",
            "Epoch 23/100\n",
            "1810/1810 [==============================] - 3s 1ms/step - loss: nan - accuracy: 0.8338 - val_loss: nan - val_accuracy: 0.8336\n",
            "Epoch 24/100\n",
            "1810/1810 [==============================] - 3s 1ms/step - loss: nan - accuracy: 0.8338 - val_loss: nan - val_accuracy: 0.8336\n",
            "Epoch 25/100\n",
            "1810/1810 [==============================] - 3s 1ms/step - loss: nan - accuracy: 0.8338 - val_loss: nan - val_accuracy: 0.8336\n",
            "Epoch 26/100\n",
            "1810/1810 [==============================] - 3s 1ms/step - loss: nan - accuracy: 0.8338 - val_loss: nan - val_accuracy: 0.8336\n",
            "Epoch 27/100\n",
            "1810/1810 [==============================] - 3s 1ms/step - loss: nan - accuracy: 0.8338 - val_loss: nan - val_accuracy: 0.8336\n",
            "Epoch 28/100\n",
            "1810/1810 [==============================] - 3s 1ms/step - loss: nan - accuracy: 0.8338 - val_loss: nan - val_accuracy: 0.8336\n",
            "Epoch 29/100\n",
            "1810/1810 [==============================] - 3s 1ms/step - loss: nan - accuracy: 0.8338 - val_loss: nan - val_accuracy: 0.8336\n",
            "Epoch 30/100\n",
            "1810/1810 [==============================] - 3s 1ms/step - loss: nan - accuracy: 0.8338 - val_loss: nan - val_accuracy: 0.8336\n",
            "Epoch 31/100\n",
            "1810/1810 [==============================] - 3s 1ms/step - loss: nan - accuracy: 0.8338 - val_loss: nan - val_accuracy: 0.8336\n",
            "Epoch 32/100\n",
            "1810/1810 [==============================] - 3s 1ms/step - loss: nan - accuracy: 0.8338 - val_loss: nan - val_accuracy: 0.8336\n",
            "Epoch 33/100\n",
            "1810/1810 [==============================] - 3s 1ms/step - loss: nan - accuracy: 0.8338 - val_loss: nan - val_accuracy: 0.8336\n",
            "Epoch 34/100\n",
            "1810/1810 [==============================] - 3s 1ms/step - loss: nan - accuracy: 0.8338 - val_loss: nan - val_accuracy: 0.8336\n",
            "Epoch 35/100\n",
            "1810/1810 [==============================] - 3s 1ms/step - loss: nan - accuracy: 0.8338 - val_loss: nan - val_accuracy: 0.8336\n",
            "Epoch 36/100\n",
            "1810/1810 [==============================] - 3s 1ms/step - loss: nan - accuracy: 0.8338 - val_loss: nan - val_accuracy: 0.8336\n",
            "Epoch 37/100\n",
            "1810/1810 [==============================] - 3s 1ms/step - loss: nan - accuracy: 0.8338 - val_loss: nan - val_accuracy: 0.8336\n",
            "Epoch 38/100\n",
            "1810/1810 [==============================] - 3s 2ms/step - loss: nan - accuracy: 0.8338 - val_loss: nan - val_accuracy: 0.8336\n",
            "Epoch 39/100\n",
            "1810/1810 [==============================] - 3s 2ms/step - loss: nan - accuracy: 0.8338 - val_loss: nan - val_accuracy: 0.8336\n",
            "Epoch 40/100\n",
            "1810/1810 [==============================] - 3s 1ms/step - loss: nan - accuracy: 0.8338 - val_loss: nan - val_accuracy: 0.8336\n",
            "Epoch 41/100\n",
            "1810/1810 [==============================] - 3s 1ms/step - loss: nan - accuracy: 0.8338 - val_loss: nan - val_accuracy: 0.8336\n",
            "Epoch 42/100\n",
            "1810/1810 [==============================] - 3s 1ms/step - loss: nan - accuracy: 0.8338 - val_loss: nan - val_accuracy: 0.8336\n",
            "Epoch 43/100\n",
            "1810/1810 [==============================] - 3s 1ms/step - loss: nan - accuracy: 0.8338 - val_loss: nan - val_accuracy: 0.8336\n",
            "Epoch 44/100\n",
            "1810/1810 [==============================] - 3s 1ms/step - loss: nan - accuracy: 0.8338 - val_loss: nan - val_accuracy: 0.8336\n",
            "Epoch 45/100\n",
            "1810/1810 [==============================] - 3s 1ms/step - loss: nan - accuracy: 0.8338 - val_loss: nan - val_accuracy: 0.8336\n",
            "Epoch 46/100\n",
            "1810/1810 [==============================] - 3s 1ms/step - loss: nan - accuracy: 0.8338 - val_loss: nan - val_accuracy: 0.8336\n",
            "Epoch 47/100\n",
            "1810/1810 [==============================] - 3s 1ms/step - loss: nan - accuracy: 0.8338 - val_loss: nan - val_accuracy: 0.8336\n",
            "Epoch 48/100\n",
            "1810/1810 [==============================] - 3s 1ms/step - loss: nan - accuracy: 0.8338 - val_loss: nan - val_accuracy: 0.8336\n",
            "Epoch 49/100\n",
            "1810/1810 [==============================] - 3s 1ms/step - loss: nan - accuracy: 0.8338 - val_loss: nan - val_accuracy: 0.8336\n",
            "Epoch 50/100\n",
            "1810/1810 [==============================] - 3s 1ms/step - loss: nan - accuracy: 0.8338 - val_loss: nan - val_accuracy: 0.8336\n",
            "Epoch 51/100\n",
            "1810/1810 [==============================] - 3s 1ms/step - loss: nan - accuracy: 0.8338 - val_loss: nan - val_accuracy: 0.8336\n",
            "Epoch 52/100\n",
            "1810/1810 [==============================] - 3s 1ms/step - loss: nan - accuracy: 0.8338 - val_loss: nan - val_accuracy: 0.8336\n",
            "Epoch 53/100\n",
            "1810/1810 [==============================] - 3s 1ms/step - loss: nan - accuracy: 0.8338 - val_loss: nan - val_accuracy: 0.8336\n",
            "Epoch 54/100\n",
            "1810/1810 [==============================] - 3s 1ms/step - loss: nan - accuracy: 0.8338 - val_loss: nan - val_accuracy: 0.8336\n",
            "Epoch 55/100\n",
            "1810/1810 [==============================] - 3s 1ms/step - loss: nan - accuracy: 0.8338 - val_loss: nan - val_accuracy: 0.8336\n",
            "Epoch 56/100\n",
            "1810/1810 [==============================] - 3s 1ms/step - loss: nan - accuracy: 0.8338 - val_loss: nan - val_accuracy: 0.8336\n",
            "Epoch 57/100\n",
            "1810/1810 [==============================] - 3s 1ms/step - loss: nan - accuracy: 0.8338 - val_loss: nan - val_accuracy: 0.8336\n",
            "Epoch 58/100\n",
            "1810/1810 [==============================] - 3s 1ms/step - loss: nan - accuracy: 0.8338 - val_loss: nan - val_accuracy: 0.8336\n",
            "Epoch 59/100\n",
            "1810/1810 [==============================] - 3s 1ms/step - loss: nan - accuracy: 0.8338 - val_loss: nan - val_accuracy: 0.8336\n",
            "Epoch 60/100\n",
            "1810/1810 [==============================] - 3s 1ms/step - loss: nan - accuracy: 0.8338 - val_loss: nan - val_accuracy: 0.8336\n",
            "Epoch 61/100\n",
            "1810/1810 [==============================] - 3s 2ms/step - loss: nan - accuracy: 0.8338 - val_loss: nan - val_accuracy: 0.8336\n",
            "Epoch 62/100\n",
            "1810/1810 [==============================] - 3s 1ms/step - loss: nan - accuracy: 0.8338 - val_loss: nan - val_accuracy: 0.8336\n",
            "Epoch 63/100\n",
            "1810/1810 [==============================] - 3s 1ms/step - loss: nan - accuracy: 0.8338 - val_loss: nan - val_accuracy: 0.8336\n",
            "Epoch 64/100\n",
            "1810/1810 [==============================] - 3s 1ms/step - loss: nan - accuracy: 0.8338 - val_loss: nan - val_accuracy: 0.8336\n",
            "Epoch 65/100\n",
            "1810/1810 [==============================] - 3s 1ms/step - loss: nan - accuracy: 0.8338 - val_loss: nan - val_accuracy: 0.8336\n",
            "Epoch 66/100\n",
            "1810/1810 [==============================] - 3s 1ms/step - loss: nan - accuracy: 0.8338 - val_loss: nan - val_accuracy: 0.8336\n",
            "Epoch 67/100\n",
            "1810/1810 [==============================] - 3s 1ms/step - loss: nan - accuracy: 0.8338 - val_loss: nan - val_accuracy: 0.8336\n",
            "Epoch 68/100\n",
            "1810/1810 [==============================] - 3s 1ms/step - loss: nan - accuracy: 0.8338 - val_loss: nan - val_accuracy: 0.8336\n",
            "Epoch 69/100\n",
            "1810/1810 [==============================] - 3s 1ms/step - loss: nan - accuracy: 0.8338 - val_loss: nan - val_accuracy: 0.8336\n",
            "Epoch 70/100\n",
            "1810/1810 [==============================] - 3s 1ms/step - loss: nan - accuracy: 0.8338 - val_loss: nan - val_accuracy: 0.8336\n",
            "Epoch 71/100\n",
            "1810/1810 [==============================] - 3s 1ms/step - loss: nan - accuracy: 0.8338 - val_loss: nan - val_accuracy: 0.8336\n",
            "Epoch 72/100\n",
            "1810/1810 [==============================] - 3s 1ms/step - loss: nan - accuracy: 0.8338 - val_loss: nan - val_accuracy: 0.8336\n",
            "Epoch 73/100\n",
            "1810/1810 [==============================] - 3s 1ms/step - loss: nan - accuracy: 0.8338 - val_loss: nan - val_accuracy: 0.8336\n",
            "Epoch 74/100\n",
            "1810/1810 [==============================] - 3s 1ms/step - loss: nan - accuracy: 0.8338 - val_loss: nan - val_accuracy: 0.8336\n",
            "Epoch 75/100\n",
            "1810/1810 [==============================] - 3s 1ms/step - loss: nan - accuracy: 0.8338 - val_loss: nan - val_accuracy: 0.8336\n",
            "Epoch 76/100\n",
            "1810/1810 [==============================] - 3s 1ms/step - loss: nan - accuracy: 0.8338 - val_loss: nan - val_accuracy: 0.8336\n",
            "Epoch 77/100\n",
            "1810/1810 [==============================] - 3s 1ms/step - loss: nan - accuracy: 0.8338 - val_loss: nan - val_accuracy: 0.8336\n",
            "Epoch 78/100\n",
            "1810/1810 [==============================] - 3s 1ms/step - loss: nan - accuracy: 0.8338 - val_loss: nan - val_accuracy: 0.8336\n",
            "Epoch 79/100\n",
            "1810/1810 [==============================] - 3s 1ms/step - loss: nan - accuracy: 0.8338 - val_loss: nan - val_accuracy: 0.8336\n",
            "Epoch 80/100\n",
            "1810/1810 [==============================] - 3s 1ms/step - loss: nan - accuracy: 0.8338 - val_loss: nan - val_accuracy: 0.8336\n",
            "Epoch 81/100\n",
            "1810/1810 [==============================] - 3s 1ms/step - loss: nan - accuracy: 0.8338 - val_loss: nan - val_accuracy: 0.8336\n",
            "Epoch 82/100\n",
            "1810/1810 [==============================] - 3s 1ms/step - loss: nan - accuracy: 0.8338 - val_loss: nan - val_accuracy: 0.8336\n",
            "Epoch 83/100\n",
            "1810/1810 [==============================] - 3s 1ms/step - loss: nan - accuracy: 0.8338 - val_loss: nan - val_accuracy: 0.8336\n",
            "Epoch 84/100\n",
            "1810/1810 [==============================] - 3s 2ms/step - loss: nan - accuracy: 0.8338 - val_loss: nan - val_accuracy: 0.8336\n",
            "Epoch 85/100\n",
            "1810/1810 [==============================] - 3s 1ms/step - loss: nan - accuracy: 0.8338 - val_loss: nan - val_accuracy: 0.8336\n",
            "Epoch 86/100\n",
            "1810/1810 [==============================] - 3s 1ms/step - loss: nan - accuracy: 0.8338 - val_loss: nan - val_accuracy: 0.8336\n",
            "Epoch 87/100\n",
            "1810/1810 [==============================] - 3s 1ms/step - loss: nan - accuracy: 0.8338 - val_loss: nan - val_accuracy: 0.8336\n",
            "Epoch 88/100\n",
            "1810/1810 [==============================] - 3s 1ms/step - loss: nan - accuracy: 0.8338 - val_loss: nan - val_accuracy: 0.8336\n",
            "Epoch 89/100\n",
            "1810/1810 [==============================] - 3s 1ms/step - loss: nan - accuracy: 0.8338 - val_loss: nan - val_accuracy: 0.8336\n",
            "Epoch 90/100\n",
            "1810/1810 [==============================] - 3s 1ms/step - loss: nan - accuracy: 0.8338 - val_loss: nan - val_accuracy: 0.8336\n",
            "Epoch 91/100\n",
            "1810/1810 [==============================] - 3s 2ms/step - loss: nan - accuracy: 0.8338 - val_loss: nan - val_accuracy: 0.8336\n",
            "Epoch 92/100\n",
            "1810/1810 [==============================] - 3s 2ms/step - loss: nan - accuracy: 0.8338 - val_loss: nan - val_accuracy: 0.8336\n",
            "Epoch 93/100\n",
            "1810/1810 [==============================] - 3s 2ms/step - loss: nan - accuracy: 0.8338 - val_loss: nan - val_accuracy: 0.8336\n",
            "Epoch 94/100\n",
            "1810/1810 [==============================] - 3s 2ms/step - loss: nan - accuracy: 0.8338 - val_loss: nan - val_accuracy: 0.8336\n",
            "Epoch 95/100\n",
            "1810/1810 [==============================] - 3s 2ms/step - loss: nan - accuracy: 0.8338 - val_loss: nan - val_accuracy: 0.8336\n",
            "Epoch 96/100\n",
            "1810/1810 [==============================] - 3s 1ms/step - loss: nan - accuracy: 0.8338 - val_loss: nan - val_accuracy: 0.8336\n",
            "Epoch 97/100\n",
            "1810/1810 [==============================] - 3s 1ms/step - loss: nan - accuracy: 0.8338 - val_loss: nan - val_accuracy: 0.8336\n",
            "Epoch 98/100\n",
            "1810/1810 [==============================] - 3s 1ms/step - loss: nan - accuracy: 0.8338 - val_loss: nan - val_accuracy: 0.8336\n",
            "Epoch 99/100\n",
            "1810/1810 [==============================] - 3s 2ms/step - loss: nan - accuracy: 0.8338 - val_loss: nan - val_accuracy: 0.8336\n",
            "Epoch 100/100\n",
            "1810/1810 [==============================] - 3s 1ms/step - loss: nan - accuracy: 0.8338 - val_loss: nan - val_accuracy: 0.8336\n"
          ],
          "name": "stdout"
        }
      ]
    },
    {
      "cell_type": "code",
      "metadata": {
        "id": "UQTKQEKCvAw-",
        "outputId": "f2ba5540-dcb5-4177-a81c-57e48db3140a",
        "colab": {
          "base_uri": "https://localhost:8080/",
          "height": 279
        }
      },
      "source": [
        "\n",
        "loss_train = hist.history['loss']\n",
        "loss_val = hist.history['val_loss']\n",
        "epochs = range(1,101)\n",
        "\n",
        "plt.plot(epochs, loss_train, 'k', label='Training loss')\n",
        "plt.plot(epochs, loss_val, 'r', label='validation loss')\n",
        "\n",
        "plt.xlabel('Epochs')\n",
        "plt.ylabel('Loss')\n",
        "plt.legend()\n",
        "plt.show()"
      ],
      "execution_count": 46,
      "outputs": [
        {
          "output_type": "display_data",
          "data": {
            "image/png": "[encoded data removed]",
            "text/plain": [
              "<Figure size 432x288 with 1 Axes>"
            ]
          },
          "metadata": {
            "tags": [],
            "needs_background": "light"
          }
        }
      ]
    },
    {
      "cell_type": "code",
      "metadata": {
        "id": "e3ogpMhfvEGq",
        "outputId": "6406934c-7ece-439f-be6c-343b581ca906",
        "colab": {
          "base_uri": "https://localhost:8080/",
          "height": 295
        }
      },
      "source": [
        "loss_train = hist.history['accuracy']\n",
        "loss_val = hist.history['val_accuracy']\n",
        "\n",
        "epochs = range(1,101)\n",
        "\n",
        "plt.plot(epochs, loss_train, 'k', label='Training accuracy')\n",
        "plt.plot(epochs, loss_val, 'r', label='validation accuracy')\n",
        "\n",
        "plt.title('Training and Validation accuracy')\n",
        "plt.xlabel('Epochs')\n",
        "plt.ylabel('Accuracy')\n",
        "plt.legend()\n",
        "plt.show()"
      ],
      "execution_count": 47,
      "outputs": [
        {
          "output_type": "display_data",
          "data": {
            "image/png": "[encoded data removed]",
            "text/plain": [
              "<Figure size 432x288 with 1 Axes>"
            ]
          },
          "metadata": {
            "tags": [],
            "needs_background": "light"
          }
        }
      ]
    },
    {
      "cell_type": "code",
      "metadata": {
        "id": "NPVArQWjvKSO",
        "outputId": "f2d88c9d-8029-41f9-c8d0-34484ebeafca",
        "colab": {
          "base_uri": "https://localhost:8080/"
        }
      },
      "source": [
        "loss,accuracy = nn.evaluate(x= X_test, y= y_test)"
      ],
      "execution_count": 48,
      "outputs": [
        {
          "output_type": "stream",
          "text": [
            "604/604 [==============================] - 1s 887us/step - loss: nan - accuracy: 0.8328\n"
          ],
          "name": "stdout"
        }
      ]
    }
  ]
}