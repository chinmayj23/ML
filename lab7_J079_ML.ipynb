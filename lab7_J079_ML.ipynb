{
  "nbformat": 4,
  "nbformat_minor": 0,
  "metadata": {
    "colab": {
      "name": "Untitled9.ipynb",
      "provenance": [],
      "authorship_tag": "ABX9TyNPR38GBh0tGhU7Sqng2kuQ",
      "include_colab_link": true
    },
    "kernelspec": {
      "name": "python3",
      "display_name": "Python 3"
    }
  },
  "cells": [
    {
      "cell_type": "markdown",
      "metadata": {
        "id": "view-in-github",
        "colab_type": "text"
      },
      "source": [
        "<a href=\"https://colab.research.google.com/github/chinmayj23/ML/blob/master/lab7_J079_ML.ipynb\" target=\"_parent\"><img src=\"https://colab.research.google.com/assets/colab-badge.svg\" alt=\"Open In Colab\"/></a>"
      ]
    },
    {
      "cell_type": "markdown",
      "metadata": {
        "id": "qemUN-bDUVgg"
      },
      "source": [
        "COv type dataset\n",
        "\n",
        " "
      ]
    },
    {
      "cell_type": "code",
      "metadata": {
        "id": "Q7wA8qI3Umh5"
      },
      "source": [
        "#Dataset Link: https://scikit-learn.org/stable/modules/generated/sklearn.datasets.fetch_covtype.html#sklearn.datasets.fetch_covtype"
      ],
      "execution_count": null,
      "outputs": []
    },
    {
      "cell_type": "code",
      "metadata": {
        "id": "SdcWLKcPIPna",
        "outputId": "8d7d001b-9636-4831-d303-9898e1fe02dc",
        "colab": {
          "base_uri": "https://localhost:8080/",
          "height": 34
        }
      },
      "source": [
        "from sklearn.datasets import fetch_covtype\n",
        "forest = fetch_covtype()\n",
        "y_fetch_covtype = forest.target\n",
        "x_fetch_covtype = forest.data"
      ],
      "execution_count": null,
      "outputs": [
        {
          "output_type": "stream",
          "text": [
            "Downloading https://ndownloader.figshare.com/files/5976039\n"
          ],
          "name": "stderr"
        }
      ]
    },
    {
      "cell_type": "code",
      "metadata": {
        "id": "k2N3CMsODHr6"
      },
      "source": [
        "import pandas as pd\n",
        "import numpy as np"
      ],
      "execution_count": null,
      "outputs": []
    },
    {
      "cell_type": "code",
      "metadata": {
        "id": "5Zq_UR-KCnl9",
        "outputId": "7d47a759-8bf5-449a-9c75-00b191121f6d",
        "colab": {
          "base_uri": "https://localhost:8080/",
          "height": 215
        }
      },
      "source": [
        "X=pd.DataFrame(x_fetch_covtype)\n",
        "Y=y_fetch_covtype\n",
        "Y1=pd.DataFrame(Y.copy())\n",
        "X.head()"
      ],
      "execution_count": null,
      "outputs": [
        {
          "output_type": "execute_result",
          "data": {
            "text/html": [
              "<div>\n",
              "<style scoped>\n",
              "    .dataframe tbody tr th:only-of-type {\n",
              "        vertical-align: middle;\n",
              "    }\n",
              "\n",
              "    .dataframe tbody tr th {\n",
              "        vertical-align: top;\n",
              "    }\n",
              "\n",
              "    .dataframe thead th {\n",
              "        text-align: right;\n",
              "    }\n",
              "</style>\n",
              "<table border=\"1\" class=\"dataframe\">\n",
              "  <thead>\n",
              "    <tr style=\"text-align: right;\">\n",
              "      <th></th>\n",
              "      <th>0</th>\n",
              "      <th>1</th>\n",
              "      <th>2</th>\n",
              "      <th>3</th>\n",
              "      <th>4</th>\n",
              "      <th>5</th>\n",
              "      <th>6</th>\n",
              "      <th>7</th>\n",
              "      <th>8</th>\n",
              "      <th>9</th>\n",
              "      <th>10</th>\n",
              "      <th>11</th>\n",
              "      <th>12</th>\n",
              "      <th>13</th>\n",
              "      <th>14</th>\n",
              "      <th>15</th>\n",
              "      <th>16</th>\n",
              "      <th>17</th>\n",
              "      <th>18</th>\n",
              "      <th>19</th>\n",
              "      <th>20</th>\n",
              "      <th>21</th>\n",
              "      <th>22</th>\n",
              "      <th>23</th>\n",
              "      <th>24</th>\n",
              "      <th>25</th>\n",
              "      <th>26</th>\n",
              "      <th>27</th>\n",
              "      <th>28</th>\n",
              "      <th>29</th>\n",
              "      <th>30</th>\n",
              "      <th>31</th>\n",
              "      <th>32</th>\n",
              "      <th>33</th>\n",
              "      <th>34</th>\n",
              "      <th>35</th>\n",
              "      <th>36</th>\n",
              "      <th>37</th>\n",
              "      <th>38</th>\n",
              "      <th>39</th>\n",
              "      <th>40</th>\n",
              "      <th>41</th>\n",
              "      <th>42</th>\n",
              "      <th>43</th>\n",
              "      <th>44</th>\n",
              "      <th>45</th>\n",
              "      <th>46</th>\n",
              "      <th>47</th>\n",
              "      <th>48</th>\n",
              "      <th>49</th>\n",
              "      <th>50</th>\n",
              "      <th>51</th>\n",
              "      <th>52</th>\n",
              "      <th>53</th>\n",
              "    </tr>\n",
              "  </thead>\n",
              "  <tbody>\n",
              "    <tr>\n",
              "      <th>0</th>\n",
              "      <td>2596.0</td>\n",
              "      <td>51.0</td>\n",
              "      <td>3.0</td>\n",
              "      <td>258.0</td>\n",
              "      <td>0.0</td>\n",
              "      <td>510.0</td>\n",
              "      <td>221.0</td>\n",
              "      <td>232.0</td>\n",
              "      <td>148.0</td>\n",
              "      <td>6279.0</td>\n",
              "      <td>1.0</td>\n",
              "      <td>0.0</td>\n",
              "      <td>0.0</td>\n",
              "      <td>0.0</td>\n",
              "      <td>0.0</td>\n",
              "      <td>0.0</td>\n",
              "      <td>0.0</td>\n",
              "      <td>0.0</td>\n",
              "      <td>0.0</td>\n",
              "      <td>0.0</td>\n",
              "      <td>0.0</td>\n",
              "      <td>0.0</td>\n",
              "      <td>0.0</td>\n",
              "      <td>0.0</td>\n",
              "      <td>0.0</td>\n",
              "      <td>0.0</td>\n",
              "      <td>0.0</td>\n",
              "      <td>0.0</td>\n",
              "      <td>0.0</td>\n",
              "      <td>0.0</td>\n",
              "      <td>0.0</td>\n",
              "      <td>0.0</td>\n",
              "      <td>0.0</td>\n",
              "      <td>0.0</td>\n",
              "      <td>0.0</td>\n",
              "      <td>0.0</td>\n",
              "      <td>0.0</td>\n",
              "      <td>0.0</td>\n",
              "      <td>0.0</td>\n",
              "      <td>0.0</td>\n",
              "      <td>0.0</td>\n",
              "      <td>0.0</td>\n",
              "      <td>1.0</td>\n",
              "      <td>0.0</td>\n",
              "      <td>0.0</td>\n",
              "      <td>0.0</td>\n",
              "      <td>0.0</td>\n",
              "      <td>0.0</td>\n",
              "      <td>0.0</td>\n",
              "      <td>0.0</td>\n",
              "      <td>0.0</td>\n",
              "      <td>0.0</td>\n",
              "      <td>0.0</td>\n",
              "      <td>0.0</td>\n",
              "    </tr>\n",
              "    <tr>\n",
              "      <th>1</th>\n",
              "      <td>2590.0</td>\n",
              "      <td>56.0</td>\n",
              "      <td>2.0</td>\n",
              "      <td>212.0</td>\n",
              "      <td>-6.0</td>\n",
              "      <td>390.0</td>\n",
              "      <td>220.0</td>\n",
              "      <td>235.0</td>\n",
              "      <td>151.0</td>\n",
              "      <td>6225.0</td>\n",
              "      <td>1.0</td>\n",
              "      <td>0.0</td>\n",
              "      <td>0.0</td>\n",
              "      <td>0.0</td>\n",
              "      <td>0.0</td>\n",
              "      <td>0.0</td>\n",
              "      <td>0.0</td>\n",
              "      <td>0.0</td>\n",
              "      <td>0.0</td>\n",
              "      <td>0.0</td>\n",
              "      <td>0.0</td>\n",
              "      <td>0.0</td>\n",
              "      <td>0.0</td>\n",
              "      <td>0.0</td>\n",
              "      <td>0.0</td>\n",
              "      <td>0.0</td>\n",
              "      <td>0.0</td>\n",
              "      <td>0.0</td>\n",
              "      <td>0.0</td>\n",
              "      <td>0.0</td>\n",
              "      <td>0.0</td>\n",
              "      <td>0.0</td>\n",
              "      <td>0.0</td>\n",
              "      <td>0.0</td>\n",
              "      <td>0.0</td>\n",
              "      <td>0.0</td>\n",
              "      <td>0.0</td>\n",
              "      <td>0.0</td>\n",
              "      <td>0.0</td>\n",
              "      <td>0.0</td>\n",
              "      <td>0.0</td>\n",
              "      <td>0.0</td>\n",
              "      <td>1.0</td>\n",
              "      <td>0.0</td>\n",
              "      <td>0.0</td>\n",
              "      <td>0.0</td>\n",
              "      <td>0.0</td>\n",
              "      <td>0.0</td>\n",
              "      <td>0.0</td>\n",
              "      <td>0.0</td>\n",
              "      <td>0.0</td>\n",
              "      <td>0.0</td>\n",
              "      <td>0.0</td>\n",
              "      <td>0.0</td>\n",
              "    </tr>\n",
              "    <tr>\n",
              "      <th>2</th>\n",
              "      <td>2804.0</td>\n",
              "      <td>139.0</td>\n",
              "      <td>9.0</td>\n",
              "      <td>268.0</td>\n",
              "      <td>65.0</td>\n",
              "      <td>3180.0</td>\n",
              "      <td>234.0</td>\n",
              "      <td>238.0</td>\n",
              "      <td>135.0</td>\n",
              "      <td>6121.0</td>\n",
              "      <td>1.0</td>\n",
              "      <td>0.0</td>\n",
              "      <td>0.0</td>\n",
              "      <td>0.0</td>\n",
              "      <td>0.0</td>\n",
              "      <td>0.0</td>\n",
              "      <td>0.0</td>\n",
              "      <td>0.0</td>\n",
              "      <td>0.0</td>\n",
              "      <td>0.0</td>\n",
              "      <td>0.0</td>\n",
              "      <td>0.0</td>\n",
              "      <td>0.0</td>\n",
              "      <td>0.0</td>\n",
              "      <td>0.0</td>\n",
              "      <td>1.0</td>\n",
              "      <td>0.0</td>\n",
              "      <td>0.0</td>\n",
              "      <td>0.0</td>\n",
              "      <td>0.0</td>\n",
              "      <td>0.0</td>\n",
              "      <td>0.0</td>\n",
              "      <td>0.0</td>\n",
              "      <td>0.0</td>\n",
              "      <td>0.0</td>\n",
              "      <td>0.0</td>\n",
              "      <td>0.0</td>\n",
              "      <td>0.0</td>\n",
              "      <td>0.0</td>\n",
              "      <td>0.0</td>\n",
              "      <td>0.0</td>\n",
              "      <td>0.0</td>\n",
              "      <td>0.0</td>\n",
              "      <td>0.0</td>\n",
              "      <td>0.0</td>\n",
              "      <td>0.0</td>\n",
              "      <td>0.0</td>\n",
              "      <td>0.0</td>\n",
              "      <td>0.0</td>\n",
              "      <td>0.0</td>\n",
              "      <td>0.0</td>\n",
              "      <td>0.0</td>\n",
              "      <td>0.0</td>\n",
              "      <td>0.0</td>\n",
              "    </tr>\n",
              "    <tr>\n",
              "      <th>3</th>\n",
              "      <td>2785.0</td>\n",
              "      <td>155.0</td>\n",
              "      <td>18.0</td>\n",
              "      <td>242.0</td>\n",
              "      <td>118.0</td>\n",
              "      <td>3090.0</td>\n",
              "      <td>238.0</td>\n",
              "      <td>238.0</td>\n",
              "      <td>122.0</td>\n",
              "      <td>6211.0</td>\n",
              "      <td>1.0</td>\n",
              "      <td>0.0</td>\n",
              "      <td>0.0</td>\n",
              "      <td>0.0</td>\n",
              "      <td>0.0</td>\n",
              "      <td>0.0</td>\n",
              "      <td>0.0</td>\n",
              "      <td>0.0</td>\n",
              "      <td>0.0</td>\n",
              "      <td>0.0</td>\n",
              "      <td>0.0</td>\n",
              "      <td>0.0</td>\n",
              "      <td>0.0</td>\n",
              "      <td>0.0</td>\n",
              "      <td>0.0</td>\n",
              "      <td>0.0</td>\n",
              "      <td>0.0</td>\n",
              "      <td>0.0</td>\n",
              "      <td>0.0</td>\n",
              "      <td>0.0</td>\n",
              "      <td>0.0</td>\n",
              "      <td>0.0</td>\n",
              "      <td>0.0</td>\n",
              "      <td>0.0</td>\n",
              "      <td>0.0</td>\n",
              "      <td>0.0</td>\n",
              "      <td>0.0</td>\n",
              "      <td>0.0</td>\n",
              "      <td>0.0</td>\n",
              "      <td>0.0</td>\n",
              "      <td>0.0</td>\n",
              "      <td>0.0</td>\n",
              "      <td>0.0</td>\n",
              "      <td>1.0</td>\n",
              "      <td>0.0</td>\n",
              "      <td>0.0</td>\n",
              "      <td>0.0</td>\n",
              "      <td>0.0</td>\n",
              "      <td>0.0</td>\n",
              "      <td>0.0</td>\n",
              "      <td>0.0</td>\n",
              "      <td>0.0</td>\n",
              "      <td>0.0</td>\n",
              "      <td>0.0</td>\n",
              "    </tr>\n",
              "    <tr>\n",
              "      <th>4</th>\n",
              "      <td>2595.0</td>\n",
              "      <td>45.0</td>\n",
              "      <td>2.0</td>\n",
              "      <td>153.0</td>\n",
              "      <td>-1.0</td>\n",
              "      <td>391.0</td>\n",
              "      <td>220.0</td>\n",
              "      <td>234.0</td>\n",
              "      <td>150.0</td>\n",
              "      <td>6172.0</td>\n",
              "      <td>1.0</td>\n",
              "      <td>0.0</td>\n",
              "      <td>0.0</td>\n",
              "      <td>0.0</td>\n",
              "      <td>0.0</td>\n",
              "      <td>0.0</td>\n",
              "      <td>0.0</td>\n",
              "      <td>0.0</td>\n",
              "      <td>0.0</td>\n",
              "      <td>0.0</td>\n",
              "      <td>0.0</td>\n",
              "      <td>0.0</td>\n",
              "      <td>0.0</td>\n",
              "      <td>0.0</td>\n",
              "      <td>0.0</td>\n",
              "      <td>0.0</td>\n",
              "      <td>0.0</td>\n",
              "      <td>0.0</td>\n",
              "      <td>0.0</td>\n",
              "      <td>0.0</td>\n",
              "      <td>0.0</td>\n",
              "      <td>0.0</td>\n",
              "      <td>0.0</td>\n",
              "      <td>0.0</td>\n",
              "      <td>0.0</td>\n",
              "      <td>0.0</td>\n",
              "      <td>0.0</td>\n",
              "      <td>0.0</td>\n",
              "      <td>0.0</td>\n",
              "      <td>0.0</td>\n",
              "      <td>0.0</td>\n",
              "      <td>0.0</td>\n",
              "      <td>1.0</td>\n",
              "      <td>0.0</td>\n",
              "      <td>0.0</td>\n",
              "      <td>0.0</td>\n",
              "      <td>0.0</td>\n",
              "      <td>0.0</td>\n",
              "      <td>0.0</td>\n",
              "      <td>0.0</td>\n",
              "      <td>0.0</td>\n",
              "      <td>0.0</td>\n",
              "      <td>0.0</td>\n",
              "      <td>0.0</td>\n",
              "    </tr>\n",
              "  </tbody>\n",
              "</table>\n",
              "</div>"
            ],
            "text/plain": [
              "       0      1     2      3      4       5   ...   48   49   50   51   52   53\n",
              "0  2596.0   51.0   3.0  258.0    0.0   510.0  ...  0.0  0.0  0.0  0.0  0.0  0.0\n",
              "1  2590.0   56.0   2.0  212.0   -6.0   390.0  ...  0.0  0.0  0.0  0.0  0.0  0.0\n",
              "2  2804.0  139.0   9.0  268.0   65.0  3180.0  ...  0.0  0.0  0.0  0.0  0.0  0.0\n",
              "3  2785.0  155.0  18.0  242.0  118.0  3090.0  ...  0.0  0.0  0.0  0.0  0.0  0.0\n",
              "4  2595.0   45.0   2.0  153.0   -1.0   391.0  ...  0.0  0.0  0.0  0.0  0.0  0.0\n",
              "\n",
              "[5 rows x 54 columns]"
            ]
          },
          "metadata": {
            "tags": []
          },
          "execution_count": 4
        }
      ]
    },
    {
      "cell_type": "code",
      "metadata": {
        "id": "lxwDcOKGC1rF"
      },
      "source": [
        "Y1.columns=[\"Outcome\"]"
      ],
      "execution_count": null,
      "outputs": []
    },
    {
      "cell_type": "code",
      "metadata": {
        "id": "rWheOfcaC3PW",
        "outputId": "911e9d19-6fbc-48cf-c650-931a9f778ef5",
        "colab": {
          "base_uri": "https://localhost:8080/",
          "height": 941
        }
      },
      "source": [
        "X.isnull().sum()"
      ],
      "execution_count": null,
      "outputs": [
        {
          "output_type": "execute_result",
          "data": {
            "text/plain": [
              "0     0\n",
              "1     0\n",
              "2     0\n",
              "3     0\n",
              "4     0\n",
              "5     0\n",
              "6     0\n",
              "7     0\n",
              "8     0\n",
              "9     0\n",
              "10    0\n",
              "11    0\n",
              "12    0\n",
              "13    0\n",
              "14    0\n",
              "15    0\n",
              "16    0\n",
              "17    0\n",
              "18    0\n",
              "19    0\n",
              "20    0\n",
              "21    0\n",
              "22    0\n",
              "23    0\n",
              "24    0\n",
              "25    0\n",
              "26    0\n",
              "27    0\n",
              "28    0\n",
              "29    0\n",
              "30    0\n",
              "31    0\n",
              "32    0\n",
              "33    0\n",
              "34    0\n",
              "35    0\n",
              "36    0\n",
              "37    0\n",
              "38    0\n",
              "39    0\n",
              "40    0\n",
              "41    0\n",
              "42    0\n",
              "43    0\n",
              "44    0\n",
              "45    0\n",
              "46    0\n",
              "47    0\n",
              "48    0\n",
              "49    0\n",
              "50    0\n",
              "51    0\n",
              "52    0\n",
              "53    0\n",
              "dtype: int64"
            ]
          },
          "metadata": {
            "tags": []
          },
          "execution_count": 6
        }
      ]
    },
    {
      "cell_type": "code",
      "metadata": {
        "id": "IHDz7OHvDqqY",
        "outputId": "e04db7f2-2db0-446b-90e9-d8256e633fee",
        "colab": {
          "base_uri": "https://localhost:8080/",
          "height": 215
        }
      },
      "source": [
        "data = pd.concat([X,Y1], axis=1)\n",
        "data.head()"
      ],
      "execution_count": null,
      "outputs": [
        {
          "output_type": "execute_result",
          "data": {
            "text/html": [
              "<div>\n",
              "<style scoped>\n",
              "    .dataframe tbody tr th:only-of-type {\n",
              "        vertical-align: middle;\n",
              "    }\n",
              "\n",
              "    .dataframe tbody tr th {\n",
              "        vertical-align: top;\n",
              "    }\n",
              "\n",
              "    .dataframe thead th {\n",
              "        text-align: right;\n",
              "    }\n",
              "</style>\n",
              "<table border=\"1\" class=\"dataframe\">\n",
              "  <thead>\n",
              "    <tr style=\"text-align: right;\">\n",
              "      <th></th>\n",
              "      <th>0</th>\n",
              "      <th>1</th>\n",
              "      <th>2</th>\n",
              "      <th>3</th>\n",
              "      <th>4</th>\n",
              "      <th>5</th>\n",
              "      <th>6</th>\n",
              "      <th>7</th>\n",
              "      <th>8</th>\n",
              "      <th>9</th>\n",
              "      <th>10</th>\n",
              "      <th>11</th>\n",
              "      <th>12</th>\n",
              "      <th>13</th>\n",
              "      <th>14</th>\n",
              "      <th>15</th>\n",
              "      <th>16</th>\n",
              "      <th>17</th>\n",
              "      <th>18</th>\n",
              "      <th>19</th>\n",
              "      <th>20</th>\n",
              "      <th>21</th>\n",
              "      <th>22</th>\n",
              "      <th>23</th>\n",
              "      <th>24</th>\n",
              "      <th>25</th>\n",
              "      <th>26</th>\n",
              "      <th>27</th>\n",
              "      <th>28</th>\n",
              "      <th>29</th>\n",
              "      <th>30</th>\n",
              "      <th>31</th>\n",
              "      <th>32</th>\n",
              "      <th>33</th>\n",
              "      <th>34</th>\n",
              "      <th>35</th>\n",
              "      <th>36</th>\n",
              "      <th>37</th>\n",
              "      <th>38</th>\n",
              "      <th>39</th>\n",
              "      <th>40</th>\n",
              "      <th>41</th>\n",
              "      <th>42</th>\n",
              "      <th>43</th>\n",
              "      <th>44</th>\n",
              "      <th>45</th>\n",
              "      <th>46</th>\n",
              "      <th>47</th>\n",
              "      <th>48</th>\n",
              "      <th>49</th>\n",
              "      <th>50</th>\n",
              "      <th>51</th>\n",
              "      <th>52</th>\n",
              "      <th>53</th>\n",
              "      <th>Outcome</th>\n",
              "    </tr>\n",
              "  </thead>\n",
              "  <tbody>\n",
              "    <tr>\n",
              "      <th>0</th>\n",
              "      <td>2596.0</td>\n",
              "      <td>51.0</td>\n",
              "      <td>3.0</td>\n",
              "      <td>258.0</td>\n",
              "      <td>0.0</td>\n",
              "      <td>510.0</td>\n",
              "      <td>221.0</td>\n",
              "      <td>232.0</td>\n",
              "      <td>148.0</td>\n",
              "      <td>6279.0</td>\n",
              "      <td>1.0</td>\n",
              "      <td>0.0</td>\n",
              "      <td>0.0</td>\n",
              "      <td>0.0</td>\n",
              "      <td>0.0</td>\n",
              "      <td>0.0</td>\n",
              "      <td>0.0</td>\n",
              "      <td>0.0</td>\n",
              "      <td>0.0</td>\n",
              "      <td>0.0</td>\n",
              "      <td>0.0</td>\n",
              "      <td>0.0</td>\n",
              "      <td>0.0</td>\n",
              "      <td>0.0</td>\n",
              "      <td>0.0</td>\n",
              "      <td>0.0</td>\n",
              "      <td>0.0</td>\n",
              "      <td>0.0</td>\n",
              "      <td>0.0</td>\n",
              "      <td>0.0</td>\n",
              "      <td>0.0</td>\n",
              "      <td>0.0</td>\n",
              "      <td>0.0</td>\n",
              "      <td>0.0</td>\n",
              "      <td>0.0</td>\n",
              "      <td>0.0</td>\n",
              "      <td>0.0</td>\n",
              "      <td>0.0</td>\n",
              "      <td>0.0</td>\n",
              "      <td>0.0</td>\n",
              "      <td>0.0</td>\n",
              "      <td>0.0</td>\n",
              "      <td>1.0</td>\n",
              "      <td>0.0</td>\n",
              "      <td>0.0</td>\n",
              "      <td>0.0</td>\n",
              "      <td>0.0</td>\n",
              "      <td>0.0</td>\n",
              "      <td>0.0</td>\n",
              "      <td>0.0</td>\n",
              "      <td>0.0</td>\n",
              "      <td>0.0</td>\n",
              "      <td>0.0</td>\n",
              "      <td>0.0</td>\n",
              "      <td>5</td>\n",
              "    </tr>\n",
              "    <tr>\n",
              "      <th>1</th>\n",
              "      <td>2590.0</td>\n",
              "      <td>56.0</td>\n",
              "      <td>2.0</td>\n",
              "      <td>212.0</td>\n",
              "      <td>-6.0</td>\n",
              "      <td>390.0</td>\n",
              "      <td>220.0</td>\n",
              "      <td>235.0</td>\n",
              "      <td>151.0</td>\n",
              "      <td>6225.0</td>\n",
              "      <td>1.0</td>\n",
              "      <td>0.0</td>\n",
              "      <td>0.0</td>\n",
              "      <td>0.0</td>\n",
              "      <td>0.0</td>\n",
              "      <td>0.0</td>\n",
              "      <td>0.0</td>\n",
              "      <td>0.0</td>\n",
              "      <td>0.0</td>\n",
              "      <td>0.0</td>\n",
              "      <td>0.0</td>\n",
              "      <td>0.0</td>\n",
              "      <td>0.0</td>\n",
              "      <td>0.0</td>\n",
              "      <td>0.0</td>\n",
              "      <td>0.0</td>\n",
              "      <td>0.0</td>\n",
              "      <td>0.0</td>\n",
              "      <td>0.0</td>\n",
              "      <td>0.0</td>\n",
              "      <td>0.0</td>\n",
              "      <td>0.0</td>\n",
              "      <td>0.0</td>\n",
              "      <td>0.0</td>\n",
              "      <td>0.0</td>\n",
              "      <td>0.0</td>\n",
              "      <td>0.0</td>\n",
              "      <td>0.0</td>\n",
              "      <td>0.0</td>\n",
              "      <td>0.0</td>\n",
              "      <td>0.0</td>\n",
              "      <td>0.0</td>\n",
              "      <td>1.0</td>\n",
              "      <td>0.0</td>\n",
              "      <td>0.0</td>\n",
              "      <td>0.0</td>\n",
              "      <td>0.0</td>\n",
              "      <td>0.0</td>\n",
              "      <td>0.0</td>\n",
              "      <td>0.0</td>\n",
              "      <td>0.0</td>\n",
              "      <td>0.0</td>\n",
              "      <td>0.0</td>\n",
              "      <td>0.0</td>\n",
              "      <td>5</td>\n",
              "    </tr>\n",
              "    <tr>\n",
              "      <th>2</th>\n",
              "      <td>2804.0</td>\n",
              "      <td>139.0</td>\n",
              "      <td>9.0</td>\n",
              "      <td>268.0</td>\n",
              "      <td>65.0</td>\n",
              "      <td>3180.0</td>\n",
              "      <td>234.0</td>\n",
              "      <td>238.0</td>\n",
              "      <td>135.0</td>\n",
              "      <td>6121.0</td>\n",
              "      <td>1.0</td>\n",
              "      <td>0.0</td>\n",
              "      <td>0.0</td>\n",
              "      <td>0.0</td>\n",
              "      <td>0.0</td>\n",
              "      <td>0.0</td>\n",
              "      <td>0.0</td>\n",
              "      <td>0.0</td>\n",
              "      <td>0.0</td>\n",
              "      <td>0.0</td>\n",
              "      <td>0.0</td>\n",
              "      <td>0.0</td>\n",
              "      <td>0.0</td>\n",
              "      <td>0.0</td>\n",
              "      <td>0.0</td>\n",
              "      <td>1.0</td>\n",
              "      <td>0.0</td>\n",
              "      <td>0.0</td>\n",
              "      <td>0.0</td>\n",
              "      <td>0.0</td>\n",
              "      <td>0.0</td>\n",
              "      <td>0.0</td>\n",
              "      <td>0.0</td>\n",
              "      <td>0.0</td>\n",
              "      <td>0.0</td>\n",
              "      <td>0.0</td>\n",
              "      <td>0.0</td>\n",
              "      <td>0.0</td>\n",
              "      <td>0.0</td>\n",
              "      <td>0.0</td>\n",
              "      <td>0.0</td>\n",
              "      <td>0.0</td>\n",
              "      <td>0.0</td>\n",
              "      <td>0.0</td>\n",
              "      <td>0.0</td>\n",
              "      <td>0.0</td>\n",
              "      <td>0.0</td>\n",
              "      <td>0.0</td>\n",
              "      <td>0.0</td>\n",
              "      <td>0.0</td>\n",
              "      <td>0.0</td>\n",
              "      <td>0.0</td>\n",
              "      <td>0.0</td>\n",
              "      <td>0.0</td>\n",
              "      <td>2</td>\n",
              "    </tr>\n",
              "    <tr>\n",
              "      <th>3</th>\n",
              "      <td>2785.0</td>\n",
              "      <td>155.0</td>\n",
              "      <td>18.0</td>\n",
              "      <td>242.0</td>\n",
              "      <td>118.0</td>\n",
              "      <td>3090.0</td>\n",
              "      <td>238.0</td>\n",
              "      <td>238.0</td>\n",
              "      <td>122.0</td>\n",
              "      <td>6211.0</td>\n",
              "      <td>1.0</td>\n",
              "      <td>0.0</td>\n",
              "      <td>0.0</td>\n",
              "      <td>0.0</td>\n",
              "      <td>0.0</td>\n",
              "      <td>0.0</td>\n",
              "      <td>0.0</td>\n",
              "      <td>0.0</td>\n",
              "      <td>0.0</td>\n",
              "      <td>0.0</td>\n",
              "      <td>0.0</td>\n",
              "      <td>0.0</td>\n",
              "      <td>0.0</td>\n",
              "      <td>0.0</td>\n",
              "      <td>0.0</td>\n",
              "      <td>0.0</td>\n",
              "      <td>0.0</td>\n",
              "      <td>0.0</td>\n",
              "      <td>0.0</td>\n",
              "      <td>0.0</td>\n",
              "      <td>0.0</td>\n",
              "      <td>0.0</td>\n",
              "      <td>0.0</td>\n",
              "      <td>0.0</td>\n",
              "      <td>0.0</td>\n",
              "      <td>0.0</td>\n",
              "      <td>0.0</td>\n",
              "      <td>0.0</td>\n",
              "      <td>0.0</td>\n",
              "      <td>0.0</td>\n",
              "      <td>0.0</td>\n",
              "      <td>0.0</td>\n",
              "      <td>0.0</td>\n",
              "      <td>1.0</td>\n",
              "      <td>0.0</td>\n",
              "      <td>0.0</td>\n",
              "      <td>0.0</td>\n",
              "      <td>0.0</td>\n",
              "      <td>0.0</td>\n",
              "      <td>0.0</td>\n",
              "      <td>0.0</td>\n",
              "      <td>0.0</td>\n",
              "      <td>0.0</td>\n",
              "      <td>0.0</td>\n",
              "      <td>2</td>\n",
              "    </tr>\n",
              "    <tr>\n",
              "      <th>4</th>\n",
              "      <td>2595.0</td>\n",
              "      <td>45.0</td>\n",
              "      <td>2.0</td>\n",
              "      <td>153.0</td>\n",
              "      <td>-1.0</td>\n",
              "      <td>391.0</td>\n",
              "      <td>220.0</td>\n",
              "      <td>234.0</td>\n",
              "      <td>150.0</td>\n",
              "      <td>6172.0</td>\n",
              "      <td>1.0</td>\n",
              "      <td>0.0</td>\n",
              "      <td>0.0</td>\n",
              "      <td>0.0</td>\n",
              "      <td>0.0</td>\n",
              "      <td>0.0</td>\n",
              "      <td>0.0</td>\n",
              "      <td>0.0</td>\n",
              "      <td>0.0</td>\n",
              "      <td>0.0</td>\n",
              "      <td>0.0</td>\n",
              "      <td>0.0</td>\n",
              "      <td>0.0</td>\n",
              "      <td>0.0</td>\n",
              "      <td>0.0</td>\n",
              "      <td>0.0</td>\n",
              "      <td>0.0</td>\n",
              "      <td>0.0</td>\n",
              "      <td>0.0</td>\n",
              "      <td>0.0</td>\n",
              "      <td>0.0</td>\n",
              "      <td>0.0</td>\n",
              "      <td>0.0</td>\n",
              "      <td>0.0</td>\n",
              "      <td>0.0</td>\n",
              "      <td>0.0</td>\n",
              "      <td>0.0</td>\n",
              "      <td>0.0</td>\n",
              "      <td>0.0</td>\n",
              "      <td>0.0</td>\n",
              "      <td>0.0</td>\n",
              "      <td>0.0</td>\n",
              "      <td>1.0</td>\n",
              "      <td>0.0</td>\n",
              "      <td>0.0</td>\n",
              "      <td>0.0</td>\n",
              "      <td>0.0</td>\n",
              "      <td>0.0</td>\n",
              "      <td>0.0</td>\n",
              "      <td>0.0</td>\n",
              "      <td>0.0</td>\n",
              "      <td>0.0</td>\n",
              "      <td>0.0</td>\n",
              "      <td>0.0</td>\n",
              "      <td>5</td>\n",
              "    </tr>\n",
              "  </tbody>\n",
              "</table>\n",
              "</div>"
            ],
            "text/plain": [
              "        0      1     2      3      4       5  ...   49   50   51   52   53  Outcome\n",
              "0  2596.0   51.0   3.0  258.0    0.0   510.0  ...  0.0  0.0  0.0  0.0  0.0        5\n",
              "1  2590.0   56.0   2.0  212.0   -6.0   390.0  ...  0.0  0.0  0.0  0.0  0.0        5\n",
              "2  2804.0  139.0   9.0  268.0   65.0  3180.0  ...  0.0  0.0  0.0  0.0  0.0        2\n",
              "3  2785.0  155.0  18.0  242.0  118.0  3090.0  ...  0.0  0.0  0.0  0.0  0.0        2\n",
              "4  2595.0   45.0   2.0  153.0   -1.0   391.0  ...  0.0  0.0  0.0  0.0  0.0        5\n",
              "\n",
              "[5 rows x 55 columns]"
            ]
          },
          "metadata": {
            "tags": []
          },
          "execution_count": 7
        }
      ]
    },
    {
      "cell_type": "code",
      "metadata": {
        "id": "2YytDAIcDQaq",
        "outputId": "6c730b75-22c9-4be3-b2a0-0ba9f4bc6daf",
        "colab": {
          "base_uri": "https://localhost:8080/",
          "height": 636
        }
      },
      "source": [
        "import seaborn as sns\n",
        "import matplotlib.pyplot as plt\n",
        "corr=data.corr()\n",
        "fig= plt.subplots(figsize = [10,10])\n",
        "ax = sns.heatmap(\n",
        "    corr, \n",
        "    square=True\n",
        ")\n",
        "plt.show()"
      ],
      "execution_count": null,
      "outputs": [
        {
          "output_type": "stream",
          "text": [
            "/usr/local/lib/python3.6/dist-packages/statsmodels/tools/_testing.py:19: FutureWarning: pandas.util.testing is deprecated. Use the functions in the public API at pandas.testing instead.\n",
            "  import pandas.util.testing as tm\n"
          ],
          "name": "stderr"
        },
        {
          "output_type": "display_data",
          "data": {
            "image/png": "[encoded data removed]",
            "text/plain": [
              "<Figure size 720x720 with 2 Axes>"
            ]
          },
          "metadata": {
            "tags": [],
            "needs_background": "light"
          }
        }
      ]
    },
    {
      "cell_type": "code",
      "metadata": {
        "id": "DGtMJ91nDkBe"
      },
      "source": [
        "from sklearn.preprocessing import StandardScaler\n",
        "scaler=StandardScaler()\n",
        "X_stand=scaler.fit_transform(data)"
      ],
      "execution_count": null,
      "outputs": []
    },
    {
      "cell_type": "code",
      "metadata": {
        "id": "8e1D9V03LL96",
        "outputId": "edbe0313-3a21-47fd-aa41-2b1d514b9ad3",
        "colab": {
          "base_uri": "https://localhost:8080/",
          "height": 215
        }
      },
      "source": [
        "df=pd.DataFrame(X_stand)\n",
        "df.head()"
      ],
      "execution_count": null,
      "outputs": [
        {
          "output_type": "execute_result",
          "data": {
            "text/html": [
              "<div>\n",
              "<style scoped>\n",
              "    .dataframe tbody tr th:only-of-type {\n",
              "        vertical-align: middle;\n",
              "    }\n",
              "\n",
              "    .dataframe tbody tr th {\n",
              "        vertical-align: top;\n",
              "    }\n",
              "\n",
              "    .dataframe thead th {\n",
              "        text-align: right;\n",
              "    }\n",
              "</style>\n",
              "<table border=\"1\" class=\"dataframe\">\n",
              "  <thead>\n",
              "    <tr style=\"text-align: right;\">\n",
              "      <th></th>\n",
              "      <th>0</th>\n",
              "      <th>1</th>\n",
              "      <th>2</th>\n",
              "      <th>3</th>\n",
              "      <th>4</th>\n",
              "      <th>5</th>\n",
              "      <th>6</th>\n",
              "      <th>7</th>\n",
              "      <th>8</th>\n",
              "      <th>9</th>\n",
              "      <th>10</th>\n",
              "      <th>11</th>\n",
              "      <th>12</th>\n",
              "      <th>13</th>\n",
              "      <th>14</th>\n",
              "      <th>15</th>\n",
              "      <th>16</th>\n",
              "      <th>17</th>\n",
              "      <th>18</th>\n",
              "      <th>19</th>\n",
              "      <th>20</th>\n",
              "      <th>21</th>\n",
              "      <th>22</th>\n",
              "      <th>23</th>\n",
              "      <th>24</th>\n",
              "      <th>25</th>\n",
              "      <th>26</th>\n",
              "      <th>27</th>\n",
              "      <th>28</th>\n",
              "      <th>29</th>\n",
              "      <th>30</th>\n",
              "      <th>31</th>\n",
              "      <th>32</th>\n",
              "      <th>33</th>\n",
              "      <th>34</th>\n",
              "      <th>35</th>\n",
              "      <th>36</th>\n",
              "      <th>37</th>\n",
              "      <th>38</th>\n",
              "      <th>39</th>\n",
              "      <th>40</th>\n",
              "      <th>41</th>\n",
              "      <th>42</th>\n",
              "      <th>43</th>\n",
              "      <th>44</th>\n",
              "      <th>45</th>\n",
              "      <th>46</th>\n",
              "      <th>47</th>\n",
              "      <th>48</th>\n",
              "      <th>49</th>\n",
              "      <th>50</th>\n",
              "      <th>51</th>\n",
              "      <th>52</th>\n",
              "      <th>53</th>\n",
              "      <th>54</th>\n",
              "    </tr>\n",
              "  </thead>\n",
              "  <tbody>\n",
              "    <tr>\n",
              "      <th>0</th>\n",
              "      <td>-1.297805</td>\n",
              "      <td>-0.935157</td>\n",
              "      <td>-1.482820</td>\n",
              "      <td>-0.053767</td>\n",
              "      <td>-0.796273</td>\n",
              "      <td>-1.180146</td>\n",
              "      <td>0.330743</td>\n",
              "      <td>0.439143</td>\n",
              "      <td>0.142960</td>\n",
              "      <td>3.246283</td>\n",
              "      <td>1.10808</td>\n",
              "      <td>-0.232859</td>\n",
              "      <td>-0.879364</td>\n",
              "      <td>-0.260673</td>\n",
              "      <td>-0.072416</td>\n",
              "      <td>-0.114549</td>\n",
              "      <td>-0.091491</td>\n",
              "      <td>-0.147649</td>\n",
              "      <td>-0.0525</td>\n",
              "      <td>-0.106986</td>\n",
              "      <td>-0.013444</td>\n",
              "      <td>-0.017555</td>\n",
              "      <td>-0.044475</td>\n",
              "      <td>-0.243947</td>\n",
              "      <td>-0.147734</td>\n",
              "      <td>-0.233216</td>\n",
              "      <td>-0.175866</td>\n",
              "      <td>-0.032125</td>\n",
              "      <td>-0.002272</td>\n",
              "      <td>-0.070148</td>\n",
              "      <td>-0.076972</td>\n",
              "      <td>-0.057264</td>\n",
              "      <td>-0.08348</td>\n",
              "      <td>-0.127256</td>\n",
              "      <td>-0.038005</td>\n",
              "      <td>-0.24686</td>\n",
              "      <td>-0.332219</td>\n",
              "      <td>-0.194973</td>\n",
              "      <td>-0.028574</td>\n",
              "      <td>-0.066903</td>\n",
              "      <td>-0.043274</td>\n",
              "      <td>-0.040384</td>\n",
              "      <td>2.010336</td>\n",
              "      <td>-0.234031</td>\n",
              "      <td>-0.21498</td>\n",
              "      <td>-0.315238</td>\n",
              "      <td>-0.290284</td>\n",
              "      <td>-0.05273</td>\n",
              "      <td>-0.057143</td>\n",
              "      <td>-0.014313</td>\n",
              "      <td>-0.022653</td>\n",
              "      <td>-0.165956</td>\n",
              "      <td>-0.156014</td>\n",
              "      <td>-0.123654</td>\n",
              "      <td>2.111366</td>\n",
              "    </tr>\n",
              "    <tr>\n",
              "      <th>1</th>\n",
              "      <td>-1.319235</td>\n",
              "      <td>-0.890480</td>\n",
              "      <td>-1.616363</td>\n",
              "      <td>-0.270188</td>\n",
              "      <td>-0.899197</td>\n",
              "      <td>-1.257106</td>\n",
              "      <td>0.293388</td>\n",
              "      <td>0.590899</td>\n",
              "      <td>0.221342</td>\n",
              "      <td>3.205504</td>\n",
              "      <td>1.10808</td>\n",
              "      <td>-0.232859</td>\n",
              "      <td>-0.879364</td>\n",
              "      <td>-0.260673</td>\n",
              "      <td>-0.072416</td>\n",
              "      <td>-0.114549</td>\n",
              "      <td>-0.091491</td>\n",
              "      <td>-0.147649</td>\n",
              "      <td>-0.0525</td>\n",
              "      <td>-0.106986</td>\n",
              "      <td>-0.013444</td>\n",
              "      <td>-0.017555</td>\n",
              "      <td>-0.044475</td>\n",
              "      <td>-0.243947</td>\n",
              "      <td>-0.147734</td>\n",
              "      <td>-0.233216</td>\n",
              "      <td>-0.175866</td>\n",
              "      <td>-0.032125</td>\n",
              "      <td>-0.002272</td>\n",
              "      <td>-0.070148</td>\n",
              "      <td>-0.076972</td>\n",
              "      <td>-0.057264</td>\n",
              "      <td>-0.08348</td>\n",
              "      <td>-0.127256</td>\n",
              "      <td>-0.038005</td>\n",
              "      <td>-0.24686</td>\n",
              "      <td>-0.332219</td>\n",
              "      <td>-0.194973</td>\n",
              "      <td>-0.028574</td>\n",
              "      <td>-0.066903</td>\n",
              "      <td>-0.043274</td>\n",
              "      <td>-0.040384</td>\n",
              "      <td>2.010336</td>\n",
              "      <td>-0.234031</td>\n",
              "      <td>-0.21498</td>\n",
              "      <td>-0.315238</td>\n",
              "      <td>-0.290284</td>\n",
              "      <td>-0.05273</td>\n",
              "      <td>-0.057143</td>\n",
              "      <td>-0.014313</td>\n",
              "      <td>-0.022653</td>\n",
              "      <td>-0.165956</td>\n",
              "      <td>-0.156014</td>\n",
              "      <td>-0.123654</td>\n",
              "      <td>2.111366</td>\n",
              "    </tr>\n",
              "    <tr>\n",
              "      <th>2</th>\n",
              "      <td>-0.554907</td>\n",
              "      <td>-0.148836</td>\n",
              "      <td>-0.681563</td>\n",
              "      <td>-0.006719</td>\n",
              "      <td>0.318742</td>\n",
              "      <td>0.532212</td>\n",
              "      <td>0.816364</td>\n",
              "      <td>0.742654</td>\n",
              "      <td>-0.196691</td>\n",
              "      <td>3.126965</td>\n",
              "      <td>1.10808</td>\n",
              "      <td>-0.232859</td>\n",
              "      <td>-0.879364</td>\n",
              "      <td>-0.260673</td>\n",
              "      <td>-0.072416</td>\n",
              "      <td>-0.114549</td>\n",
              "      <td>-0.091491</td>\n",
              "      <td>-0.147649</td>\n",
              "      <td>-0.0525</td>\n",
              "      <td>-0.106986</td>\n",
              "      <td>-0.013444</td>\n",
              "      <td>-0.017555</td>\n",
              "      <td>-0.044475</td>\n",
              "      <td>-0.243947</td>\n",
              "      <td>-0.147734</td>\n",
              "      <td>4.287867</td>\n",
              "      <td>-0.175866</td>\n",
              "      <td>-0.032125</td>\n",
              "      <td>-0.002272</td>\n",
              "      <td>-0.070148</td>\n",
              "      <td>-0.076972</td>\n",
              "      <td>-0.057264</td>\n",
              "      <td>-0.08348</td>\n",
              "      <td>-0.127256</td>\n",
              "      <td>-0.038005</td>\n",
              "      <td>-0.24686</td>\n",
              "      <td>-0.332219</td>\n",
              "      <td>-0.194973</td>\n",
              "      <td>-0.028574</td>\n",
              "      <td>-0.066903</td>\n",
              "      <td>-0.043274</td>\n",
              "      <td>-0.040384</td>\n",
              "      <td>-0.497429</td>\n",
              "      <td>-0.234031</td>\n",
              "      <td>-0.21498</td>\n",
              "      <td>-0.315238</td>\n",
              "      <td>-0.290284</td>\n",
              "      <td>-0.05273</td>\n",
              "      <td>-0.057143</td>\n",
              "      <td>-0.014313</td>\n",
              "      <td>-0.022653</td>\n",
              "      <td>-0.165956</td>\n",
              "      <td>-0.156014</td>\n",
              "      <td>-0.123654</td>\n",
              "      <td>-0.036857</td>\n",
              "    </tr>\n",
              "    <tr>\n",
              "      <th>3</th>\n",
              "      <td>-0.622768</td>\n",
              "      <td>-0.005869</td>\n",
              "      <td>0.520322</td>\n",
              "      <td>-0.129044</td>\n",
              "      <td>1.227908</td>\n",
              "      <td>0.474492</td>\n",
              "      <td>0.965786</td>\n",
              "      <td>0.742654</td>\n",
              "      <td>-0.536343</td>\n",
              "      <td>3.194931</td>\n",
              "      <td>1.10808</td>\n",
              "      <td>-0.232859</td>\n",
              "      <td>-0.879364</td>\n",
              "      <td>-0.260673</td>\n",
              "      <td>-0.072416</td>\n",
              "      <td>-0.114549</td>\n",
              "      <td>-0.091491</td>\n",
              "      <td>-0.147649</td>\n",
              "      <td>-0.0525</td>\n",
              "      <td>-0.106986</td>\n",
              "      <td>-0.013444</td>\n",
              "      <td>-0.017555</td>\n",
              "      <td>-0.044475</td>\n",
              "      <td>-0.243947</td>\n",
              "      <td>-0.147734</td>\n",
              "      <td>-0.233216</td>\n",
              "      <td>-0.175866</td>\n",
              "      <td>-0.032125</td>\n",
              "      <td>-0.002272</td>\n",
              "      <td>-0.070148</td>\n",
              "      <td>-0.076972</td>\n",
              "      <td>-0.057264</td>\n",
              "      <td>-0.08348</td>\n",
              "      <td>-0.127256</td>\n",
              "      <td>-0.038005</td>\n",
              "      <td>-0.24686</td>\n",
              "      <td>-0.332219</td>\n",
              "      <td>-0.194973</td>\n",
              "      <td>-0.028574</td>\n",
              "      <td>-0.066903</td>\n",
              "      <td>-0.043274</td>\n",
              "      <td>-0.040384</td>\n",
              "      <td>-0.497429</td>\n",
              "      <td>4.272931</td>\n",
              "      <td>-0.21498</td>\n",
              "      <td>-0.315238</td>\n",
              "      <td>-0.290284</td>\n",
              "      <td>-0.05273</td>\n",
              "      <td>-0.057143</td>\n",
              "      <td>-0.014313</td>\n",
              "      <td>-0.022653</td>\n",
              "      <td>-0.165956</td>\n",
              "      <td>-0.156014</td>\n",
              "      <td>-0.123654</td>\n",
              "      <td>-0.036857</td>\n",
              "    </tr>\n",
              "    <tr>\n",
              "      <th>4</th>\n",
              "      <td>-1.301377</td>\n",
              "      <td>-0.988770</td>\n",
              "      <td>-1.616363</td>\n",
              "      <td>-0.547771</td>\n",
              "      <td>-0.813427</td>\n",
              "      <td>-1.256464</td>\n",
              "      <td>0.293388</td>\n",
              "      <td>0.540313</td>\n",
              "      <td>0.195215</td>\n",
              "      <td>3.165479</td>\n",
              "      <td>1.10808</td>\n",
              "      <td>-0.232859</td>\n",
              "      <td>-0.879364</td>\n",
              "      <td>-0.260673</td>\n",
              "      <td>-0.072416</td>\n",
              "      <td>-0.114549</td>\n",
              "      <td>-0.091491</td>\n",
              "      <td>-0.147649</td>\n",
              "      <td>-0.0525</td>\n",
              "      <td>-0.106986</td>\n",
              "      <td>-0.013444</td>\n",
              "      <td>-0.017555</td>\n",
              "      <td>-0.044475</td>\n",
              "      <td>-0.243947</td>\n",
              "      <td>-0.147734</td>\n",
              "      <td>-0.233216</td>\n",
              "      <td>-0.175866</td>\n",
              "      <td>-0.032125</td>\n",
              "      <td>-0.002272</td>\n",
              "      <td>-0.070148</td>\n",
              "      <td>-0.076972</td>\n",
              "      <td>-0.057264</td>\n",
              "      <td>-0.08348</td>\n",
              "      <td>-0.127256</td>\n",
              "      <td>-0.038005</td>\n",
              "      <td>-0.24686</td>\n",
              "      <td>-0.332219</td>\n",
              "      <td>-0.194973</td>\n",
              "      <td>-0.028574</td>\n",
              "      <td>-0.066903</td>\n",
              "      <td>-0.043274</td>\n",
              "      <td>-0.040384</td>\n",
              "      <td>2.010336</td>\n",
              "      <td>-0.234031</td>\n",
              "      <td>-0.21498</td>\n",
              "      <td>-0.315238</td>\n",
              "      <td>-0.290284</td>\n",
              "      <td>-0.05273</td>\n",
              "      <td>-0.057143</td>\n",
              "      <td>-0.014313</td>\n",
              "      <td>-0.022653</td>\n",
              "      <td>-0.165956</td>\n",
              "      <td>-0.156014</td>\n",
              "      <td>-0.123654</td>\n",
              "      <td>2.111366</td>\n",
              "    </tr>\n",
              "  </tbody>\n",
              "</table>\n",
              "</div>"
            ],
            "text/plain": [
              "         0         1         2   ...        52        53        54\n",
              "0 -1.297805 -0.935157 -1.482820  ... -0.156014 -0.123654  2.111366\n",
              "1 -1.319235 -0.890480 -1.616363  ... -0.156014 -0.123654  2.111366\n",
              "2 -0.554907 -0.148836 -0.681563  ... -0.156014 -0.123654 -0.036857\n",
              "3 -0.622768 -0.005869  0.520322  ... -0.156014 -0.123654 -0.036857\n",
              "4 -1.301377 -0.988770 -1.616363  ... -0.156014 -0.123654  2.111366\n",
              "\n",
              "[5 rows x 55 columns]"
            ]
          },
          "metadata": {
            "tags": []
          },
          "execution_count": 10
        }
      ]
    },
    {
      "cell_type": "code",
      "metadata": {
        "id": "IFElpWDQG1Va",
        "outputId": "a32c87ba-a11f-4ff7-9d56-dd00cf6dcb82",
        "colab": {
          "base_uri": "https://localhost:8080/",
          "height": 402
        }
      },
      "source": [
        "Y = pd.get_dummies(Y1['Outcome'])\n",
        "Y"
      ],
      "execution_count": null,
      "outputs": [
        {
          "output_type": "execute_result",
          "data": {
            "text/html": [
              "<div>\n",
              "<style scoped>\n",
              "    .dataframe tbody tr th:only-of-type {\n",
              "        vertical-align: middle;\n",
              "    }\n",
              "\n",
              "    .dataframe tbody tr th {\n",
              "        vertical-align: top;\n",
              "    }\n",
              "\n",
              "    .dataframe thead th {\n",
              "        text-align: right;\n",
              "    }\n",
              "</style>\n",
              "<table border=\"1\" class=\"dataframe\">\n",
              "  <thead>\n",
              "    <tr style=\"text-align: right;\">\n",
              "      <th></th>\n",
              "      <th>1</th>\n",
              "      <th>2</th>\n",
              "      <th>3</th>\n",
              "      <th>4</th>\n",
              "      <th>5</th>\n",
              "      <th>6</th>\n",
              "      <th>7</th>\n",
              "    </tr>\n",
              "  </thead>\n",
              "  <tbody>\n",
              "    <tr>\n",
              "      <th>0</th>\n",
              "      <td>0</td>\n",
              "      <td>0</td>\n",
              "      <td>0</td>\n",
              "      <td>0</td>\n",
              "      <td>1</td>\n",
              "      <td>0</td>\n",
              "      <td>0</td>\n",
              "    </tr>\n",
              "    <tr>\n",
              "      <th>1</th>\n",
              "      <td>0</td>\n",
              "      <td>0</td>\n",
              "      <td>0</td>\n",
              "      <td>0</td>\n",
              "      <td>1</td>\n",
              "      <td>0</td>\n",
              "      <td>0</td>\n",
              "    </tr>\n",
              "    <tr>\n",
              "      <th>2</th>\n",
              "      <td>0</td>\n",
              "      <td>1</td>\n",
              "      <td>0</td>\n",
              "      <td>0</td>\n",
              "      <td>0</td>\n",
              "      <td>0</td>\n",
              "      <td>0</td>\n",
              "    </tr>\n",
              "    <tr>\n",
              "      <th>3</th>\n",
              "      <td>0</td>\n",
              "      <td>1</td>\n",
              "      <td>0</td>\n",
              "      <td>0</td>\n",
              "      <td>0</td>\n",
              "      <td>0</td>\n",
              "      <td>0</td>\n",
              "    </tr>\n",
              "    <tr>\n",
              "      <th>4</th>\n",
              "      <td>0</td>\n",
              "      <td>0</td>\n",
              "      <td>0</td>\n",
              "      <td>0</td>\n",
              "      <td>1</td>\n",
              "      <td>0</td>\n",
              "      <td>0</td>\n",
              "    </tr>\n",
              "    <tr>\n",
              "      <th>...</th>\n",
              "      <td>...</td>\n",
              "      <td>...</td>\n",
              "      <td>...</td>\n",
              "      <td>...</td>\n",
              "      <td>...</td>\n",
              "      <td>...</td>\n",
              "      <td>...</td>\n",
              "    </tr>\n",
              "    <tr>\n",
              "      <th>581007</th>\n",
              "      <td>0</td>\n",
              "      <td>0</td>\n",
              "      <td>1</td>\n",
              "      <td>0</td>\n",
              "      <td>0</td>\n",
              "      <td>0</td>\n",
              "      <td>0</td>\n",
              "    </tr>\n",
              "    <tr>\n",
              "      <th>581008</th>\n",
              "      <td>0</td>\n",
              "      <td>0</td>\n",
              "      <td>1</td>\n",
              "      <td>0</td>\n",
              "      <td>0</td>\n",
              "      <td>0</td>\n",
              "      <td>0</td>\n",
              "    </tr>\n",
              "    <tr>\n",
              "      <th>581009</th>\n",
              "      <td>0</td>\n",
              "      <td>0</td>\n",
              "      <td>1</td>\n",
              "      <td>0</td>\n",
              "      <td>0</td>\n",
              "      <td>0</td>\n",
              "      <td>0</td>\n",
              "    </tr>\n",
              "    <tr>\n",
              "      <th>581010</th>\n",
              "      <td>0</td>\n",
              "      <td>0</td>\n",
              "      <td>1</td>\n",
              "      <td>0</td>\n",
              "      <td>0</td>\n",
              "      <td>0</td>\n",
              "      <td>0</td>\n",
              "    </tr>\n",
              "    <tr>\n",
              "      <th>581011</th>\n",
              "      <td>0</td>\n",
              "      <td>0</td>\n",
              "      <td>1</td>\n",
              "      <td>0</td>\n",
              "      <td>0</td>\n",
              "      <td>0</td>\n",
              "      <td>0</td>\n",
              "    </tr>\n",
              "  </tbody>\n",
              "</table>\n",
              "<p>581012 rows × 7 columns</p>\n",
              "</div>"
            ],
            "text/plain": [
              "        1  2  3  4  5  6  7\n",
              "0       0  0  0  0  1  0  0\n",
              "1       0  0  0  0  1  0  0\n",
              "2       0  1  0  0  0  0  0\n",
              "3       0  1  0  0  0  0  0\n",
              "4       0  0  0  0  1  0  0\n",
              "...    .. .. .. .. .. .. ..\n",
              "581007  0  0  1  0  0  0  0\n",
              "581008  0  0  1  0  0  0  0\n",
              "581009  0  0  1  0  0  0  0\n",
              "581010  0  0  1  0  0  0  0\n",
              "581011  0  0  1  0  0  0  0\n",
              "\n",
              "[581012 rows x 7 columns]"
            ]
          },
          "metadata": {
            "tags": []
          },
          "execution_count": 11
        }
      ]
    },
    {
      "cell_type": "code",
      "metadata": {
        "id": "h7GJXaxNHA0Z"
      },
      "source": [
        "from sklearn.model_selection import train_test_split\n",
        "seed = 8\n",
        "test_size = 0.2\n",
        "X_train, X_test, y_train, y_test = train_test_split(X_stand, Y, test_size=test_size, random_state=seed)"
      ],
      "execution_count": null,
      "outputs": []
    },
    {
      "cell_type": "code",
      "metadata": {
        "id": "-OpbM0UPHWa7"
      },
      "source": [
        "from keras import models\n",
        "from keras import layers"
      ],
      "execution_count": null,
      "outputs": []
    },
    {
      "cell_type": "code",
      "metadata": {
        "id": "aqRSLSlYJhxY",
        "outputId": "049d9897-ee19-4a7f-9131-de73826bc62d",
        "colab": {
          "base_uri": "https://localhost:8080/",
          "height": 84
        }
      },
      "source": [
        "print('X_train: ',X_train.shape)\n",
        "print('y_train: ',y_train.shape)\n",
        "print('X_test: ',X_test.shape)\n",
        "print('Y_test: ',y_test.shape)"
      ],
      "execution_count": null,
      "outputs": [
        {
          "output_type": "stream",
          "text": [
            "X_train:  (464809, 55)\n",
            "y_train:  (464809, 7)\n",
            "X_test:  (116203, 55)\n",
            "Y_test:  (116203, 7)\n"
          ],
          "name": "stdout"
        }
      ]
    },
    {
      "cell_type": "code",
      "metadata": {
        "id": "wkgobOGzJqlO"
      },
      "source": [
        "nn = models.Sequential()\n",
        "nn.add(layers.Dense(128, activation= 'relu', input_dim= (55))) \n",
        "nn.add(layers.Dense(56, activation= 'relu'))\n",
        "nn.add(layers.Dense(7, activation= 'softmax'))"
      ],
      "execution_count": null,
      "outputs": []
    },
    {
      "cell_type": "code",
      "metadata": {
        "id": "FtjGx5XlKOvR",
        "outputId": "e473f055-53ec-44ef-89e5-4f60d0984bc2",
        "colab": {
          "base_uri": "https://localhost:8080/",
          "height": 252
        }
      },
      "source": [
        "nn.summary()"
      ],
      "execution_count": null,
      "outputs": [
        {
          "output_type": "stream",
          "text": [
            "Model: \"sequential\"\n",
            "_________________________________________________________________\n",
            "Layer (type)                 Output Shape              Param #   \n",
            "=================================================================\n",
            "dense (Dense)                (None, 128)               7168      \n",
            "_________________________________________________________________\n",
            "dense_1 (Dense)              (None, 56)                7224      \n",
            "_________________________________________________________________\n",
            "dense_2 (Dense)              (None, 7)                 399       \n",
            "=================================================================\n",
            "Total params: 14,791\n",
            "Trainable params: 14,791\n",
            "Non-trainable params: 0\n",
            "_________________________________________________________________\n"
          ],
          "name": "stdout"
        }
      ]
    },
    {
      "cell_type": "code",
      "metadata": {
        "id": "Rrjh6BkVTmwe"
      },
      "source": [
        "nn.compile(optimizer= 'adam', loss= ['categorical_crossentropy'], metrics= 'accuracy')"
      ],
      "execution_count": null,
      "outputs": []
    },
    {
      "cell_type": "code",
      "metadata": {
        "id": "zaZ-LiY0TztD",
        "outputId": "e79e87b8-d460-4eae-e5a3-05f3d9da9455",
        "colab": {
          "base_uri": "https://localhost:8080/",
          "height": 353
        }
      },
      "source": [
        "hist = nn.fit(X_train,y_train, epochs= 10, validation_split= 0.25)"
      ],
      "execution_count": null,
      "outputs": [
        {
          "output_type": "stream",
          "text": [
            "Epoch 1/10\n",
            "10894/10894 [==============================] - 16s 1ms/step - loss: 0.0254 - accuracy: 0.9929 - val_loss: 3.7783e-04 - val_accuracy: 0.9999\n",
            "Epoch 2/10\n",
            "10894/10894 [==============================] - 16s 1ms/step - loss: 0.0019 - accuracy: 0.9995 - val_loss: 0.0075 - val_accuracy: 0.9979\n",
            "Epoch 3/10\n",
            "10894/10894 [==============================] - 16s 1ms/step - loss: 0.0011 - accuracy: 0.9997 - val_loss: 4.1475e-05 - val_accuracy: 1.0000\n",
            "Epoch 4/10\n",
            "10894/10894 [==============================] - 16s 1ms/step - loss: 9.4190e-04 - accuracy: 0.9998 - val_loss: 3.8969e-04 - val_accuracy: 0.9999\n",
            "Epoch 5/10\n",
            "10894/10894 [==============================] - 16s 1ms/step - loss: 5.7326e-04 - accuracy: 0.9999 - val_loss: 2.4915e-04 - val_accuracy: 1.0000\n",
            "Epoch 6/10\n",
            "10894/10894 [==============================] - 16s 1ms/step - loss: 5.7376e-04 - accuracy: 0.9999 - val_loss: 7.3597e-05 - val_accuracy: 1.0000\n",
            "Epoch 7/10\n",
            "10894/10894 [==============================] - 16s 1ms/step - loss: 7.6010e-04 - accuracy: 0.9999 - val_loss: 1.9535e-04 - val_accuracy: 1.0000\n",
            "Epoch 8/10\n",
            "10894/10894 [==============================] - 16s 1ms/step - loss: 7.2675e-04 - accuracy: 0.9998 - val_loss: 1.5688e-05 - val_accuracy: 1.0000\n",
            "Epoch 9/10\n",
            "10894/10894 [==============================] - 16s 1ms/step - loss: 0.0014 - accuracy: 0.9999 - val_loss: 1.6203e-06 - val_accuracy: 1.0000\n",
            "Epoch 10/10\n",
            "10894/10894 [==============================] - 16s 1ms/step - loss: 7.2452e-04 - accuracy: 0.9999 - val_loss: 0.0023 - val_accuracy: 0.9997\n"
          ],
          "name": "stdout"
        }
      ]
    },
    {
      "cell_type": "code",
      "metadata": {
        "id": "ehns4kafUBCi",
        "outputId": "d8d8399f-1a05-4f98-a97d-55b90efb8c0e",
        "colab": {
          "base_uri": "https://localhost:8080/",
          "height": 50
        }
      },
      "source": [
        "nn.evaluate(X_test,y_test)"
      ],
      "execution_count": null,
      "outputs": [
        {
          "output_type": "stream",
          "text": [
            "3632/3632 [==============================] - 3s 871us/step - loss: 0.0034 - accuracy: 0.9995\n"
          ],
          "name": "stdout"
        },
        {
          "output_type": "execute_result",
          "data": {
            "text/plain": [
              "[0.003413921222090721, 0.9994836449623108]"
            ]
          },
          "metadata": {
            "tags": []
          },
          "execution_count": 19
        }
      ]
    },
    {
      "cell_type": "code",
      "metadata": {
        "id": "uRIpg3WaVWw_",
        "outputId": "2db1a800-ce88-4ab4-9395-2125f6ec56dd",
        "colab": {
          "base_uri": "https://localhost:8080/",
          "height": 295
        }
      },
      "source": [
        "import matplotlib.pyplot as plt\n",
        "\n",
        "plt.plot(hist.history['accuracy'])\n",
        "plt.plot(hist.history['val_accuracy'])\n",
        "plt.title(\"Model\")\n",
        "plt.ylabel(\"Accuracy\")\n",
        "plt.xlabel(\"Epochs\")\n",
        "plt.legend(['Train','Validation'], loc=\"lower right\")\n",
        "plt.show()\n"
      ],
      "execution_count": null,
      "outputs": [
        {
          "output_type": "display_data",
          "data": {
            "image/png": "[encoded data removed]",
            "text/plain": [
              "<Figure size 432x288 with 1 Axes>"
            ]
          },
          "metadata": {
            "tags": [],
            "needs_background": "light"
          }
        }
      ]
    },
    {
      "cell_type": "code",
      "metadata": {
        "id": "SYe2nLntVtMb"
      },
      "source": [
        ""
      ],
      "execution_count": null,
      "outputs": []
    },
    {
      "cell_type": "markdown",
      "metadata": {
        "id": "B_eLG3Q-U7ZQ"
      },
      "source": [
        "Breast cancer dataset"
      ]
    },
    {
      "cell_type": "code",
      "metadata": {
        "id": "TQxxMfuSVDZg"
      },
      "source": [
        "from sklearn.datasets import load_breast_cancer\n",
        "#Dataset Link: https://scikit-learn.org/stable/modules/generated/sklearn.datasets.load_breast_cancer.html"
      ],
      "execution_count": null,
      "outputs": []
    },
    {
      "cell_type": "code",
      "metadata": {
        "id": "oMTq8tLOYqxO"
      },
      "source": [
        "cancer = load_breast_cancer()\n",
        "x_bc = cancer.data\n",
        "y_bc = cancer.target"
      ],
      "execution_count": null,
      "outputs": []
    },
    {
      "cell_type": "code",
      "metadata": {
        "id": "8Gj6Xp-tZDp1",
        "outputId": "ed78a745-e5f4-41d3-bf80-211f0e7b2fb6",
        "colab": {
          "base_uri": "https://localhost:8080/",
          "height": 215
        }
      },
      "source": [
        "X=pd.DataFrame(x_bc)\n",
        "Y=pd.DataFrame(y_bc)\n",
        "X.head()"
      ],
      "execution_count": null,
      "outputs": [
        {
          "output_type": "execute_result",
          "data": {
            "text/html": [
              "<div>\n",
              "<style scoped>\n",
              "    .dataframe tbody tr th:only-of-type {\n",
              "        vertical-align: middle;\n",
              "    }\n",
              "\n",
              "    .dataframe tbody tr th {\n",
              "        vertical-align: top;\n",
              "    }\n",
              "\n",
              "    .dataframe thead th {\n",
              "        text-align: right;\n",
              "    }\n",
              "</style>\n",
              "<table border=\"1\" class=\"dataframe\">\n",
              "  <thead>\n",
              "    <tr style=\"text-align: right;\">\n",
              "      <th></th>\n",
              "      <th>0</th>\n",
              "      <th>1</th>\n",
              "      <th>2</th>\n",
              "      <th>3</th>\n",
              "      <th>4</th>\n",
              "      <th>5</th>\n",
              "      <th>6</th>\n",
              "      <th>7</th>\n",
              "      <th>8</th>\n",
              "      <th>9</th>\n",
              "      <th>10</th>\n",
              "      <th>11</th>\n",
              "      <th>12</th>\n",
              "      <th>13</th>\n",
              "      <th>14</th>\n",
              "      <th>15</th>\n",
              "      <th>16</th>\n",
              "      <th>17</th>\n",
              "      <th>18</th>\n",
              "      <th>19</th>\n",
              "      <th>20</th>\n",
              "      <th>21</th>\n",
              "      <th>22</th>\n",
              "      <th>23</th>\n",
              "      <th>24</th>\n",
              "      <th>25</th>\n",
              "      <th>26</th>\n",
              "      <th>27</th>\n",
              "      <th>28</th>\n",
              "      <th>29</th>\n",
              "    </tr>\n",
              "  </thead>\n",
              "  <tbody>\n",
              "    <tr>\n",
              "      <th>0</th>\n",
              "      <td>17.99</td>\n",
              "      <td>10.38</td>\n",
              "      <td>122.80</td>\n",
              "      <td>1001.0</td>\n",
              "      <td>0.11840</td>\n",
              "      <td>0.27760</td>\n",
              "      <td>0.3001</td>\n",
              "      <td>0.14710</td>\n",
              "      <td>0.2419</td>\n",
              "      <td>0.07871</td>\n",
              "      <td>1.0950</td>\n",
              "      <td>0.9053</td>\n",
              "      <td>8.589</td>\n",
              "      <td>153.40</td>\n",
              "      <td>0.006399</td>\n",
              "      <td>0.04904</td>\n",
              "      <td>0.05373</td>\n",
              "      <td>0.01587</td>\n",
              "      <td>0.03003</td>\n",
              "      <td>0.006193</td>\n",
              "      <td>25.38</td>\n",
              "      <td>17.33</td>\n",
              "      <td>184.60</td>\n",
              "      <td>2019.0</td>\n",
              "      <td>0.1622</td>\n",
              "      <td>0.6656</td>\n",
              "      <td>0.7119</td>\n",
              "      <td>0.2654</td>\n",
              "      <td>0.4601</td>\n",
              "      <td>0.11890</td>\n",
              "    </tr>\n",
              "    <tr>\n",
              "      <th>1</th>\n",
              "      <td>20.57</td>\n",
              "      <td>17.77</td>\n",
              "      <td>132.90</td>\n",
              "      <td>1326.0</td>\n",
              "      <td>0.08474</td>\n",
              "      <td>0.07864</td>\n",
              "      <td>0.0869</td>\n",
              "      <td>0.07017</td>\n",
              "      <td>0.1812</td>\n",
              "      <td>0.05667</td>\n",
              "      <td>0.5435</td>\n",
              "      <td>0.7339</td>\n",
              "      <td>3.398</td>\n",
              "      <td>74.08</td>\n",
              "      <td>0.005225</td>\n",
              "      <td>0.01308</td>\n",
              "      <td>0.01860</td>\n",
              "      <td>0.01340</td>\n",
              "      <td>0.01389</td>\n",
              "      <td>0.003532</td>\n",
              "      <td>24.99</td>\n",
              "      <td>23.41</td>\n",
              "      <td>158.80</td>\n",
              "      <td>1956.0</td>\n",
              "      <td>0.1238</td>\n",
              "      <td>0.1866</td>\n",
              "      <td>0.2416</td>\n",
              "      <td>0.1860</td>\n",
              "      <td>0.2750</td>\n",
              "      <td>0.08902</td>\n",
              "    </tr>\n",
              "    <tr>\n",
              "      <th>2</th>\n",
              "      <td>19.69</td>\n",
              "      <td>21.25</td>\n",
              "      <td>130.00</td>\n",
              "      <td>1203.0</td>\n",
              "      <td>0.10960</td>\n",
              "      <td>0.15990</td>\n",
              "      <td>0.1974</td>\n",
              "      <td>0.12790</td>\n",
              "      <td>0.2069</td>\n",
              "      <td>0.05999</td>\n",
              "      <td>0.7456</td>\n",
              "      <td>0.7869</td>\n",
              "      <td>4.585</td>\n",
              "      <td>94.03</td>\n",
              "      <td>0.006150</td>\n",
              "      <td>0.04006</td>\n",
              "      <td>0.03832</td>\n",
              "      <td>0.02058</td>\n",
              "      <td>0.02250</td>\n",
              "      <td>0.004571</td>\n",
              "      <td>23.57</td>\n",
              "      <td>25.53</td>\n",
              "      <td>152.50</td>\n",
              "      <td>1709.0</td>\n",
              "      <td>0.1444</td>\n",
              "      <td>0.4245</td>\n",
              "      <td>0.4504</td>\n",
              "      <td>0.2430</td>\n",
              "      <td>0.3613</td>\n",
              "      <td>0.08758</td>\n",
              "    </tr>\n",
              "    <tr>\n",
              "      <th>3</th>\n",
              "      <td>11.42</td>\n",
              "      <td>20.38</td>\n",
              "      <td>77.58</td>\n",
              "      <td>386.1</td>\n",
              "      <td>0.14250</td>\n",
              "      <td>0.28390</td>\n",
              "      <td>0.2414</td>\n",
              "      <td>0.10520</td>\n",
              "      <td>0.2597</td>\n",
              "      <td>0.09744</td>\n",
              "      <td>0.4956</td>\n",
              "      <td>1.1560</td>\n",
              "      <td>3.445</td>\n",
              "      <td>27.23</td>\n",
              "      <td>0.009110</td>\n",
              "      <td>0.07458</td>\n",
              "      <td>0.05661</td>\n",
              "      <td>0.01867</td>\n",
              "      <td>0.05963</td>\n",
              "      <td>0.009208</td>\n",
              "      <td>14.91</td>\n",
              "      <td>26.50</td>\n",
              "      <td>98.87</td>\n",
              "      <td>567.7</td>\n",
              "      <td>0.2098</td>\n",
              "      <td>0.8663</td>\n",
              "      <td>0.6869</td>\n",
              "      <td>0.2575</td>\n",
              "      <td>0.6638</td>\n",
              "      <td>0.17300</td>\n",
              "    </tr>\n",
              "    <tr>\n",
              "      <th>4</th>\n",
              "      <td>20.29</td>\n",
              "      <td>14.34</td>\n",
              "      <td>135.10</td>\n",
              "      <td>1297.0</td>\n",
              "      <td>0.10030</td>\n",
              "      <td>0.13280</td>\n",
              "      <td>0.1980</td>\n",
              "      <td>0.10430</td>\n",
              "      <td>0.1809</td>\n",
              "      <td>0.05883</td>\n",
              "      <td>0.7572</td>\n",
              "      <td>0.7813</td>\n",
              "      <td>5.438</td>\n",
              "      <td>94.44</td>\n",
              "      <td>0.011490</td>\n",
              "      <td>0.02461</td>\n",
              "      <td>0.05688</td>\n",
              "      <td>0.01885</td>\n",
              "      <td>0.01756</td>\n",
              "      <td>0.005115</td>\n",
              "      <td>22.54</td>\n",
              "      <td>16.67</td>\n",
              "      <td>152.20</td>\n",
              "      <td>1575.0</td>\n",
              "      <td>0.1374</td>\n",
              "      <td>0.2050</td>\n",
              "      <td>0.4000</td>\n",
              "      <td>0.1625</td>\n",
              "      <td>0.2364</td>\n",
              "      <td>0.07678</td>\n",
              "    </tr>\n",
              "  </tbody>\n",
              "</table>\n",
              "</div>"
            ],
            "text/plain": [
              "      0      1       2       3   ...      26      27      28       29\n",
              "0  17.99  10.38  122.80  1001.0  ...  0.7119  0.2654  0.4601  0.11890\n",
              "1  20.57  17.77  132.90  1326.0  ...  0.2416  0.1860  0.2750  0.08902\n",
              "2  19.69  21.25  130.00  1203.0  ...  0.4504  0.2430  0.3613  0.08758\n",
              "3  11.42  20.38   77.58   386.1  ...  0.6869  0.2575  0.6638  0.17300\n",
              "4  20.29  14.34  135.10  1297.0  ...  0.4000  0.1625  0.2364  0.07678\n",
              "\n",
              "[5 rows x 30 columns]"
            ]
          },
          "metadata": {
            "tags": []
          },
          "execution_count": 23
        }
      ]
    },
    {
      "cell_type": "code",
      "metadata": {
        "id": "xmizJnvHeOFW"
      },
      "source": [
        "Y.columns=[\"Outcome\"]"
      ],
      "execution_count": null,
      "outputs": []
    },
    {
      "cell_type": "code",
      "metadata": {
        "id": "UlDkUBLJZOEF",
        "outputId": "49cf24e5-894d-491c-cb4d-083dc3fe6c80",
        "colab": {
          "base_uri": "https://localhost:8080/",
          "height": 34
        }
      },
      "source": [
        "Y['Outcome'].nunique()"
      ],
      "execution_count": null,
      "outputs": [
        {
          "output_type": "execute_result",
          "data": {
            "text/plain": [
              "2"
            ]
          },
          "metadata": {
            "tags": []
          },
          "execution_count": 25
        }
      ]
    },
    {
      "cell_type": "code",
      "metadata": {
        "id": "npraZEd0ZmcV",
        "outputId": "94cd3a45-cc7e-4349-ab19-4e557db1e047",
        "colab": {
          "base_uri": "https://localhost:8080/",
          "height": 538
        }
      },
      "source": [
        "X.isnull().sum()"
      ],
      "execution_count": null,
      "outputs": [
        {
          "output_type": "execute_result",
          "data": {
            "text/plain": [
              "0     0\n",
              "1     0\n",
              "2     0\n",
              "3     0\n",
              "4     0\n",
              "5     0\n",
              "6     0\n",
              "7     0\n",
              "8     0\n",
              "9     0\n",
              "10    0\n",
              "11    0\n",
              "12    0\n",
              "13    0\n",
              "14    0\n",
              "15    0\n",
              "16    0\n",
              "17    0\n",
              "18    0\n",
              "19    0\n",
              "20    0\n",
              "21    0\n",
              "22    0\n",
              "23    0\n",
              "24    0\n",
              "25    0\n",
              "26    0\n",
              "27    0\n",
              "28    0\n",
              "29    0\n",
              "dtype: int64"
            ]
          },
          "metadata": {
            "tags": []
          },
          "execution_count": 26
        }
      ]
    },
    {
      "cell_type": "code",
      "metadata": {
        "id": "WZV4jZPoba3F"
      },
      "source": [
        "from sklearn.preprocessing import StandardScaler\n",
        "sc=StandardScaler()\n",
        "x=sc.fit_transform(X)"
      ],
      "execution_count": null,
      "outputs": []
    },
    {
      "cell_type": "code",
      "metadata": {
        "id": "2aJO99_gbEBp"
      },
      "source": [
        "from sklearn.model_selection import train_test_split\n",
        "X_train, X_test, y_train, y_test = train_test_split(x, Y, test_size=0.2, random_state=8)"
      ],
      "execution_count": null,
      "outputs": []
    },
    {
      "cell_type": "code",
      "metadata": {
        "id": "5Gt6pgoqkhgc",
        "outputId": "0bddbd9a-d016-4d58-deaa-a6040ed9921f",
        "colab": {
          "base_uri": "https://localhost:8080/",
          "height": 84
        }
      },
      "source": [
        "print('X_train shape: ',X_train.shape)\n",
        "print('Y_train shape: ',y_train.shape)\n",
        "print('X_test shape: ',X_test.shape)\n",
        "print('Y_test shape: ',y_test.shape)"
      ],
      "execution_count": null,
      "outputs": [
        {
          "output_type": "stream",
          "text": [
            "X_train shape:  (455, 30)\n",
            "Y_train shape:  (455, 1)\n",
            "X_test shape:  (114, 30)\n",
            "Y_test shape:  (114, 1)\n"
          ],
          "name": "stdout"
        }
      ]
    },
    {
      "cell_type": "code",
      "metadata": {
        "id": "lWwZZcdPkvG3"
      },
      "source": [
        "from keras import models\n",
        "from keras import layers\n",
        "from keras.utils import to_categorical"
      ],
      "execution_count": null,
      "outputs": []
    },
    {
      "cell_type": "code",
      "metadata": {
        "id": "ElqOxi1TphFJ"
      },
      "source": [
        "Y_train= to_categorical(y_train)\n",
        "y_test= to_categorical(y_test)"
      ],
      "execution_count": null,
      "outputs": []
    },
    {
      "cell_type": "code",
      "metadata": {
        "id": "3CLa6oFqr0Jl",
        "outputId": "fcb8b2ca-01b6-454b-c29e-199232cb7a4c",
        "colab": {
          "base_uri": "https://localhost:8080/",
          "height": 34
        }
      },
      "source": [
        "y_test.shape"
      ],
      "execution_count": null,
      "outputs": [
        {
          "output_type": "execute_result",
          "data": {
            "text/plain": [
              "(114, 2)"
            ]
          },
          "metadata": {
            "tags": []
          },
          "execution_count": 32
        }
      ]
    },
    {
      "cell_type": "code",
      "metadata": {
        "id": "T2BpiS6kpiJv",
        "outputId": "70f2a0d9-c83c-4946-e55a-961d9495b207",
        "colab": {
          "base_uri": "https://localhost:8080/",
          "height": 286
        }
      },
      "source": [
        "nn1= models.Sequential()\n",
        "\n",
        "nn1.add(layers.Dense(1024, activation= 'relu', input_dim= (30)))\n",
        "nn1.add(layers.Dense(512, activation= 'tanh'))\n",
        "nn1.add(layers.Dense(256, activation= 'relu'))\n",
        "nn1.add(layers.Dense(2, activation= 'sigmoid'))\n",
        "\n",
        "nn1.summary()"
      ],
      "execution_count": null,
      "outputs": [
        {
          "output_type": "stream",
          "text": [
            "Model: \"sequential_1\"\n",
            "_________________________________________________________________\n",
            "Layer (type)                 Output Shape              Param #   \n",
            "=================================================================\n",
            "dense_3 (Dense)              (None, 1024)              31744     \n",
            "_________________________________________________________________\n",
            "dense_4 (Dense)              (None, 512)               524800    \n",
            "_________________________________________________________________\n",
            "dense_5 (Dense)              (None, 256)               131328    \n",
            "_________________________________________________________________\n",
            "dense_6 (Dense)              (None, 2)                 514       \n",
            "=================================================================\n",
            "Total params: 688,386\n",
            "Trainable params: 688,386\n",
            "Non-trainable params: 0\n",
            "_________________________________________________________________\n"
          ],
          "name": "stdout"
        }
      ]
    },
    {
      "cell_type": "code",
      "metadata": {
        "id": "9Q2pkFAcpwFG"
      },
      "source": [
        "nn1.compile(optimizer= 'adam', loss= 'binary_crossentropy', metrics= 'accuracy')"
      ],
      "execution_count": null,
      "outputs": []
    },
    {
      "cell_type": "code",
      "metadata": {
        "id": "X-imw_8Tp36S",
        "outputId": "04504e63-2f56-48d5-e561-e3b49c8dcaa3",
        "colab": {
          "base_uri": "https://localhost:8080/",
          "height": 1000
        }
      },
      "source": [
        "hist1= nn1.fit(X_train,Y_train, epochs= 50, validation_split= 0.25)"
      ],
      "execution_count": null,
      "outputs": [
        {
          "output_type": "stream",
          "text": [
            "Epoch 1/50\n",
            "11/11 [==============================] - 0s 22ms/step - loss: 0.2012 - accuracy: 0.9062 - val_loss: 0.1241 - val_accuracy: 0.9649\n",
            "Epoch 2/50\n",
            "11/11 [==============================] - 0s 12ms/step - loss: 0.0645 - accuracy: 0.9795 - val_loss: 0.1257 - val_accuracy: 0.9649\n",
            "Epoch 3/50\n",
            "11/11 [==============================] - 0s 12ms/step - loss: 0.0455 - accuracy: 0.9912 - val_loss: 0.1194 - val_accuracy: 0.9649\n",
            "Epoch 4/50\n",
            "11/11 [==============================] - 0s 13ms/step - loss: 0.0298 - accuracy: 0.9853 - val_loss: 0.1378 - val_accuracy: 0.9649\n",
            "Epoch 5/50\n",
            "11/11 [==============================] - 0s 12ms/step - loss: 0.0258 - accuracy: 0.9883 - val_loss: 0.1245 - val_accuracy: 0.9649\n",
            "Epoch 6/50\n",
            "11/11 [==============================] - 0s 13ms/step - loss: 0.0205 - accuracy: 0.9941 - val_loss: 0.1228 - val_accuracy: 0.9649\n",
            "Epoch 7/50\n",
            "11/11 [==============================] - 0s 12ms/step - loss: 0.0082 - accuracy: 1.0000 - val_loss: 0.1338 - val_accuracy: 0.9649\n",
            "Epoch 8/50\n",
            "11/11 [==============================] - 0s 13ms/step - loss: 0.0040 - accuracy: 1.0000 - val_loss: 0.1553 - val_accuracy: 0.9737\n",
            "Epoch 9/50\n",
            "11/11 [==============================] - 0s 12ms/step - loss: 0.0033 - accuracy: 1.0000 - val_loss: 0.1682 - val_accuracy: 0.9649\n",
            "Epoch 10/50\n",
            "11/11 [==============================] - 0s 11ms/step - loss: 0.0019 - accuracy: 1.0000 - val_loss: 0.1685 - val_accuracy: 0.9737\n",
            "Epoch 11/50\n",
            "11/11 [==============================] - 0s 12ms/step - loss: 0.0010 - accuracy: 1.0000 - val_loss: 0.1695 - val_accuracy: 0.9737\n",
            "Epoch 12/50\n",
            "11/11 [==============================] - 0s 12ms/step - loss: 6.2082e-04 - accuracy: 1.0000 - val_loss: 0.1762 - val_accuracy: 0.9737\n",
            "Epoch 13/50\n",
            "11/11 [==============================] - 0s 11ms/step - loss: 4.9130e-04 - accuracy: 1.0000 - val_loss: 0.1845 - val_accuracy: 0.9737\n",
            "Epoch 14/50\n",
            "11/11 [==============================] - 0s 12ms/step - loss: 4.1872e-04 - accuracy: 1.0000 - val_loss: 0.1912 - val_accuracy: 0.9737\n",
            "Epoch 15/50\n",
            "11/11 [==============================] - 0s 13ms/step - loss: 3.6063e-04 - accuracy: 1.0000 - val_loss: 0.1968 - val_accuracy: 0.9737\n",
            "Epoch 16/50\n",
            "11/11 [==============================] - 0s 12ms/step - loss: 2.9786e-04 - accuracy: 1.0000 - val_loss: 0.2050 - val_accuracy: 0.9737\n",
            "Epoch 17/50\n",
            "11/11 [==============================] - 0s 12ms/step - loss: 2.5520e-04 - accuracy: 1.0000 - val_loss: 0.2093 - val_accuracy: 0.9737\n",
            "Epoch 18/50\n",
            "11/11 [==============================] - 0s 12ms/step - loss: 2.1503e-04 - accuracy: 1.0000 - val_loss: 0.2113 - val_accuracy: 0.9737\n",
            "Epoch 19/50\n",
            "11/11 [==============================] - 0s 13ms/step - loss: 1.8846e-04 - accuracy: 1.0000 - val_loss: 0.2149 - val_accuracy: 0.9649\n",
            "Epoch 20/50\n",
            "11/11 [==============================] - 0s 12ms/step - loss: 1.7088e-04 - accuracy: 1.0000 - val_loss: 0.2177 - val_accuracy: 0.9649\n",
            "Epoch 21/50\n",
            "11/11 [==============================] - 0s 12ms/step - loss: 1.5717e-04 - accuracy: 1.0000 - val_loss: 0.2208 - val_accuracy: 0.9649\n",
            "Epoch 22/50\n",
            "11/11 [==============================] - 0s 11ms/step - loss: 1.3801e-04 - accuracy: 1.0000 - val_loss: 0.2239 - val_accuracy: 0.9649\n",
            "Epoch 23/50\n",
            "11/11 [==============================] - 0s 13ms/step - loss: 1.2738e-04 - accuracy: 1.0000 - val_loss: 0.2261 - val_accuracy: 0.9649\n",
            "Epoch 24/50\n",
            "11/11 [==============================] - 0s 12ms/step - loss: 1.1680e-04 - accuracy: 1.0000 - val_loss: 0.2295 - val_accuracy: 0.9649\n",
            "Epoch 25/50\n",
            "11/11 [==============================] - 0s 12ms/step - loss: 1.0613e-04 - accuracy: 1.0000 - val_loss: 0.2310 - val_accuracy: 0.9649\n",
            "Epoch 26/50\n",
            "11/11 [==============================] - 0s 13ms/step - loss: 1.0057e-04 - accuracy: 1.0000 - val_loss: 0.2334 - val_accuracy: 0.9649\n",
            "Epoch 27/50\n",
            "11/11 [==============================] - 0s 14ms/step - loss: 9.0927e-05 - accuracy: 1.0000 - val_loss: 0.2357 - val_accuracy: 0.9649\n",
            "Epoch 28/50\n",
            "11/11 [==============================] - 0s 13ms/step - loss: 8.5469e-05 - accuracy: 1.0000 - val_loss: 0.2380 - val_accuracy: 0.9649\n",
            "Epoch 29/50\n",
            "11/11 [==============================] - 0s 12ms/step - loss: 7.7967e-05 - accuracy: 1.0000 - val_loss: 0.2394 - val_accuracy: 0.9649\n",
            "Epoch 30/50\n",
            "11/11 [==============================] - 0s 12ms/step - loss: 7.3249e-05 - accuracy: 1.0000 - val_loss: 0.2413 - val_accuracy: 0.9649\n",
            "Epoch 31/50\n",
            "11/11 [==============================] - 0s 12ms/step - loss: 6.9581e-05 - accuracy: 1.0000 - val_loss: 0.2431 - val_accuracy: 0.9649\n",
            "Epoch 32/50\n",
            "11/11 [==============================] - 0s 12ms/step - loss: 6.4714e-05 - accuracy: 1.0000 - val_loss: 0.2455 - val_accuracy: 0.9649\n",
            "Epoch 33/50\n",
            "11/11 [==============================] - 0s 13ms/step - loss: 6.1792e-05 - accuracy: 1.0000 - val_loss: 0.2470 - val_accuracy: 0.9649\n",
            "Epoch 34/50\n",
            "11/11 [==============================] - 0s 12ms/step - loss: 5.7611e-05 - accuracy: 1.0000 - val_loss: 0.2490 - val_accuracy: 0.9649\n",
            "Epoch 35/50\n",
            "11/11 [==============================] - 0s 12ms/step - loss: 5.4905e-05 - accuracy: 1.0000 - val_loss: 0.2512 - val_accuracy: 0.9649\n",
            "Epoch 36/50\n",
            "11/11 [==============================] - 0s 13ms/step - loss: 5.0517e-05 - accuracy: 1.0000 - val_loss: 0.2529 - val_accuracy: 0.9649\n",
            "Epoch 37/50\n",
            "11/11 [==============================] - 0s 12ms/step - loss: 4.7504e-05 - accuracy: 1.0000 - val_loss: 0.2550 - val_accuracy: 0.9649\n",
            "Epoch 38/50\n",
            "11/11 [==============================] - 0s 12ms/step - loss: 4.5007e-05 - accuracy: 1.0000 - val_loss: 0.2565 - val_accuracy: 0.9649\n",
            "Epoch 39/50\n",
            "11/11 [==============================] - 0s 12ms/step - loss: 4.2286e-05 - accuracy: 1.0000 - val_loss: 0.2582 - val_accuracy: 0.9649\n",
            "Epoch 40/50\n",
            "11/11 [==============================] - 0s 12ms/step - loss: 4.0416e-05 - accuracy: 1.0000 - val_loss: 0.2605 - val_accuracy: 0.9649\n",
            "Epoch 41/50\n",
            "11/11 [==============================] - 0s 12ms/step - loss: 3.8787e-05 - accuracy: 1.0000 - val_loss: 0.2614 - val_accuracy: 0.9649\n",
            "Epoch 42/50\n",
            "11/11 [==============================] - 0s 11ms/step - loss: 3.6327e-05 - accuracy: 1.0000 - val_loss: 0.2636 - val_accuracy: 0.9649\n",
            "Epoch 43/50\n",
            "11/11 [==============================] - 0s 13ms/step - loss: 3.4469e-05 - accuracy: 1.0000 - val_loss: 0.2646 - val_accuracy: 0.9649\n",
            "Epoch 44/50\n",
            "11/11 [==============================] - 0s 12ms/step - loss: 3.3330e-05 - accuracy: 1.0000 - val_loss: 0.2663 - val_accuracy: 0.9649\n",
            "Epoch 45/50\n",
            "11/11 [==============================] - 0s 12ms/step - loss: 3.1394e-05 - accuracy: 1.0000 - val_loss: 0.2681 - val_accuracy: 0.9649\n",
            "Epoch 46/50\n",
            "11/11 [==============================] - 0s 13ms/step - loss: 3.0390e-05 - accuracy: 1.0000 - val_loss: 0.2696 - val_accuracy: 0.9649\n",
            "Epoch 47/50\n",
            "11/11 [==============================] - 0s 13ms/step - loss: 2.8506e-05 - accuracy: 1.0000 - val_loss: 0.2710 - val_accuracy: 0.9649\n",
            "Epoch 48/50\n",
            "11/11 [==============================] - 0s 13ms/step - loss: 2.7460e-05 - accuracy: 1.0000 - val_loss: 0.2724 - val_accuracy: 0.9649\n",
            "Epoch 49/50\n",
            "11/11 [==============================] - 0s 13ms/step - loss: 2.6066e-05 - accuracy: 1.0000 - val_loss: 0.2740 - val_accuracy: 0.9649\n",
            "Epoch 50/50\n",
            "11/11 [==============================] - 0s 13ms/step - loss: 2.4895e-05 - accuracy: 1.0000 - val_loss: 0.2752 - val_accuracy: 0.9649\n"
          ],
          "name": "stdout"
        }
      ]
    },
    {
      "cell_type": "code",
      "metadata": {
        "id": "xbf9-OVhqMsS",
        "outputId": "e50371aa-1c46-41b7-a262-a77da379b949",
        "colab": {
          "base_uri": "https://localhost:8080/",
          "height": 50
        }
      },
      "source": [
        "nn1.evaluate(X_test,y_test)"
      ],
      "execution_count": null,
      "outputs": [
        {
          "output_type": "stream",
          "text": [
            "4/4 [==============================] - 0s 3ms/step - loss: 0.1550 - accuracy: 0.9825\n"
          ],
          "name": "stdout"
        },
        {
          "output_type": "execute_result",
          "data": {
            "text/plain": [
              "[0.1549985557794571, 0.9824561476707458]"
            ]
          },
          "metadata": {
            "tags": []
          },
          "execution_count": 36
        }
      ]
    },
    {
      "cell_type": "code",
      "metadata": {
        "id": "SzQLbaoQsdY7",
        "outputId": "e55f199a-6fb9-4646-f68d-a9f9eb79cf9c",
        "colab": {
          "base_uri": "https://localhost:8080/",
          "height": 50
        }
      },
      "source": [
        "nn1.evaluate(X_train,Y_train)"
      ],
      "execution_count": null,
      "outputs": [
        {
          "output_type": "stream",
          "text": [
            "15/15 [==============================] - 0s 3ms/step - loss: 0.0690 - accuracy: 0.9912\n"
          ],
          "name": "stdout"
        },
        {
          "output_type": "execute_result",
          "data": {
            "text/plain": [
              "[0.06896568089723587, 0.9912087917327881]"
            ]
          },
          "metadata": {
            "tags": []
          },
          "execution_count": 37
        }
      ]
    },
    {
      "cell_type": "code",
      "metadata": {
        "id": "hVGIFC_zsv_D",
        "outputId": "46fedc76-b4f7-4149-81a5-62c87152a124",
        "colab": {
          "base_uri": "https://localhost:8080/",
          "height": 295
        }
      },
      "source": [
        "plt.plot(hist1.history['accuracy'])\n",
        "plt.plot(hist1.history['val_accuracy'])\n",
        "plt.title(\"Model\")\n",
        "plt.ylabel(\"Accuracy\")\n",
        "plt.xlabel(\"Epochs\")\n",
        "plt.legend(['Train','Validation'], loc=\"lower right\")\n",
        "plt.show()"
      ],
      "execution_count": null,
      "outputs": [
        {
          "output_type": "display_data",
          "data": {
            "image/png": "[encoded data removed]",
            "text/plain": [
              "<Figure size 432x288 with 1 Axes>"
            ]
          },
          "metadata": {
            "tags": [],
            "needs_background": "light"
          }
        }
      ]
    },
    {
      "cell_type": "markdown",
      "metadata": {
        "id": "a4efxyFNtTC9"
      },
      "source": [
        "kddcup99()\n"
      ]
    },
    {
      "cell_type": "code",
      "metadata": {
        "id": "VnaFsGfrw17B"
      },
      "source": [
        "from sklearn import datasets\n",
        "kc= datasets.fetch_kddcup99()"
      ],
      "execution_count": null,
      "outputs": []
    },
    {
      "cell_type": "code",
      "metadata": {
        "id": "ijI689Oi60dg",
        "outputId": "a579d330-0fd4-496d-fa78-c7402756d243",
        "colab": {
          "base_uri": "https://localhost:8080/",
          "height": 205
        }
      },
      "source": [
        "kc"
      ],
      "execution_count": null,
      "outputs": [
        {
          "output_type": "execute_result",
          "data": {
            "text/plain": [
              "{'DESCR': \".. _kddcup99_dataset:\\n\\nKddcup 99 dataset\\n-----------------\\n\\nThe KDD Cup '99 dataset was created by processing the tcpdump portions\\nof the 1998 DARPA Intrusion Detection System (IDS) Evaluation dataset,\\ncreated by MIT Lincoln Lab [1]. The artificial data (described on the `dataset's\\nhomepage <https://kdd.ics.uci.edu/databases/kddcup99/kddcup99.html>`_) was\\ngenerated using a closed network and hand-injected attacks to produce a\\nlarge number of different types of attack with normal activity in the\\nbackground. As the initial goal was to produce a large training set for\\nsupervised learning algorithms, there is a large proportion (80.1%) of\\nabnormal data which is unrealistic in real world, and inappropriate for\\nunsupervised anomaly detection which aims at detecting 'abnormal' data, ie\\n\\n1) qualitatively different from normal data\\n\\n2) in large minority among the observations.\\n\\nWe thus transform the KDD Data set into two different data sets: SA and SF.\\n\\n-SA is obtained by simply selecting all the normal data, and a small\\nproportion of abnormal data to gives an anomaly proportion of 1%.\\n\\n-SF is obtained as in [2]\\nby simply picking up the data whose attribute logged_in is positive, thus\\nfocusing on the intrusion attack, which gives a proportion of 0.3% of\\nattack.\\n\\n-http and smtp are two subsets of SF corresponding with third feature\\nequal to 'http' (resp. to 'smtp')\\n\\nGeneral KDD structure :\\n\\n    ================      ==========================================\\n    Samples total         4898431\\n    Dimensionality        41\\n    Features              discrete (int) or continuous (float)\\n    Targets               str, 'normal.' or name of the anomaly type\\n    ================      ==========================================\\n\\n    SA structure :\\n\\n    ================      ==========================================\\n    Samples total         976158\\n    Dimensionality        41\\n    Features              discrete (int) or continuous (float)\\n    Targets               str, 'normal.' or name of the anomaly type\\n    ================      ==========================================\\n\\n    SF structure :\\n\\n    ================      ==========================================\\n    Samples total         699691\\n    Dimensionality        4\\n    Features              discrete (int) or continuous (float)\\n    Targets               str, 'normal.' or name of the anomaly type\\n    ================      ==========================================\\n\\n    http structure :\\n\\n    ================      ==========================================\\n    Samples total         619052\\n    Dimensionality        3\\n    Features              discrete (int) or continuous (float)\\n    Targets               str, 'normal.' or name of the anomaly type\\n    ================      ==========================================\\n\\n    smtp structure :\\n\\n    ================      ==========================================\\n    Samples total         95373\\n    Dimensionality        3\\n    Features              discrete (int) or continuous (float)\\n    Targets               str, 'normal.' or name of the anomaly type\\n    ================      ==========================================\\n\\n:func:`sklearn.datasets.fetch_kddcup99` will load the kddcup99 dataset; it\\nreturns a dictionary-like object with the feature matrix in the ``data`` member\\nand the target values in ``target``. The dataset will be downloaded from the\\nweb if necessary.\\n\\n.. topic: References\\n\\n    .. [1] Analysis and Results of the 1999 DARPA Off-Line Intrusion\\n           Detection Evaluation Richard Lippmann, Joshua W. Haines,\\n           David J. Fried, Jonathan Korba, Kumar Das\\n\\n    .. [2] K. Yamanishi, J.-I. Takeuchi, G. Williams, and P. Milne. Online\\n           unsupervised outlier detection using finite mixtures with\\n           discounting learning algorithms. In Proceedings of the sixth\\n           ACM SIGKDD international conference on Knowledge discovery\\n           and data mining, pages 320-324. ACM Press, 2000.\\n\\n\",\n",
              " 'data': array([[0, b'tcp', b'http', ..., 0.0, 0.0, 0.0],\n",
              "        [0, b'tcp', b'http', ..., 0.0, 0.0, 0.0],\n",
              "        [0, b'tcp', b'http', ..., 0.0, 0.0, 0.0],\n",
              "        ...,\n",
              "        [0, b'tcp', b'http', ..., 0.01, 0.0, 0.0],\n",
              "        [0, b'tcp', b'http', ..., 0.01, 0.0, 0.0],\n",
              "        [0, b'tcp', b'http', ..., 0.01, 0.0, 0.0]], dtype=object),\n",
              " 'target': array([b'normal.', b'normal.', b'normal.', ..., b'normal.', b'normal.',\n",
              "        b'normal.'], dtype=object)}"
            ]
          },
          "metadata": {
            "tags": []
          },
          "execution_count": 70
        }
      ]
    },
    {
      "cell_type": "code",
      "metadata": {
        "id": "jdPTA_3z66MY",
        "outputId": "a79038ab-9fcf-4940-d70f-22bf3ac9b64d",
        "colab": {
          "base_uri": "https://localhost:8080/",
          "height": 120
        }
      },
      "source": [
        "kc['DESCR']"
      ],
      "execution_count": null,
      "outputs": [
        {
          "output_type": "execute_result",
          "data": {
            "application/vnd.google.colaboratory.intrinsic+json": {
              "type": "string"
            },
            "text/plain": [
              "\".. _kddcup99_dataset:\\n\\nKddcup 99 dataset\\n-----------------\\n\\nThe KDD Cup '99 dataset was created by processing the tcpdump portions\\nof the 1998 DARPA Intrusion Detection System (IDS) Evaluation dataset,\\ncreated by MIT Lincoln Lab [1]. The artificial data (described on the `dataset's\\nhomepage <https://kdd.ics.uci.edu/databases/kddcup99/kddcup99.html>`_) was\\ngenerated using a closed network and hand-injected attacks to produce a\\nlarge number of different types of attack with normal activity in the\\nbackground. As the initial goal was to produce a large training set for\\nsupervised learning algorithms, there is a large proportion (80.1%) of\\nabnormal data which is unrealistic in real world, and inappropriate for\\nunsupervised anomaly detection which aims at detecting 'abnormal' data, ie\\n\\n1) qualitatively different from normal data\\n\\n2) in large minority among the observations.\\n\\nWe thus transform the KDD Data set into two different data sets: SA and SF.\\n\\n-SA is obtained by simply selecting all the normal data, and a small\\nproportion of abnormal data to gives an anomaly proportion of 1%.\\n\\n-SF is obtained as in [2]\\nby simply picking up the data whose attribute logged_in is positive, thus\\nfocusing on the intrusion attack, which gives a proportion of 0.3% of\\nattack.\\n\\n-http and smtp are two subsets of SF corresponding with third feature\\nequal to 'http' (resp. to 'smtp')\\n\\nGeneral KDD structure :\\n\\n    ================      ==========================================\\n    Samples total         4898431\\n    Dimensionality        41\\n    Features              discrete (int) or continuous (float)\\n    Targets               str, 'normal.' or name of the anomaly type\\n    ================      ==========================================\\n\\n    SA structure :\\n\\n    ================      ==========================================\\n    Samples total         976158\\n    Dimensionality        41\\n    Features              discrete (int) or continuous (float)\\n    Targets               str, 'normal.' or name of the anomaly type\\n    ================      ==========================================\\n\\n    SF structure :\\n\\n    ================      ==========================================\\n    Samples total         699691\\n    Dimensionality        4\\n    Features              discrete (int) or continuous (float)\\n    Targets               str, 'normal.' or name of the anomaly type\\n    ================      ==========================================\\n\\n    http structure :\\n\\n    ================      ==========================================\\n    Samples total         619052\\n    Dimensionality        3\\n    Features              discrete (int) or continuous (float)\\n    Targets               str, 'normal.' or name of the anomaly type\\n    ================      ==========================================\\n\\n    smtp structure :\\n\\n    ================      ==========================================\\n    Samples total         95373\\n    Dimensionality        3\\n    Features              discrete (int) or continuous (float)\\n    Targets               str, 'normal.' or name of the anomaly type\\n    ================      ==========================================\\n\\n:func:`sklearn.datasets.fetch_kddcup99` will load the kddcup99 dataset; it\\nreturns a dictionary-like object with the feature matrix in the ``data`` member\\nand the target values in ``target``. The dataset will be downloaded from the\\nweb if necessary.\\n\\n.. topic: References\\n\\n    .. [1] Analysis and Results of the 1999 DARPA Off-Line Intrusion\\n           Detection Evaluation Richard Lippmann, Joshua W. Haines,\\n           David J. Fried, Jonathan Korba, Kumar Das\\n\\n    .. [2] K. Yamanishi, J.-I. Takeuchi, G. Williams, and P. Milne. Online\\n           unsupervised outlier detection using finite mixtures with\\n           discounting learning algorithms. In Proceedings of the sixth\\n           ACM SIGKDD international conference on Knowledge discovery\\n           and data mining, pages 320-324. ACM Press, 2000.\\n\\n\""
            ]
          },
          "metadata": {
            "tags": []
          },
          "execution_count": 71
        }
      ]
    },
    {
      "cell_type": "code",
      "metadata": {
        "id": "fFXTvov_6-ZZ",
        "outputId": "0bc4f5e5-ea31-4dc6-94c9-e39bcdea5a90",
        "colab": {
          "base_uri": "https://localhost:8080/",
          "height": 50
        }
      },
      "source": [
        "kc['target']"
      ],
      "execution_count": null,
      "outputs": [
        {
          "output_type": "execute_result",
          "data": {
            "text/plain": [
              "array([b'normal.', b'normal.', b'normal.', ..., b'normal.', b'normal.',\n",
              "       b'normal.'], dtype=object)"
            ]
          },
          "metadata": {
            "tags": []
          },
          "execution_count": 72
        }
      ]
    },
    {
      "cell_type": "code",
      "metadata": {
        "id": "aCy6HyDy7I-4"
      },
      "source": [
        "df= pd.DataFrame(data= kc['data']) "
      ],
      "execution_count": null,
      "outputs": []
    },
    {
      "cell_type": "code",
      "metadata": {
        "id": "xN-xz_DJ5RW0"
      },
      "source": [
        "y3= pd.DataFrame(kc['target'])"
      ],
      "execution_count": null,
      "outputs": []
    },
    {
      "cell_type": "code",
      "metadata": {
        "id": "DVCBWlpm5uJq",
        "outputId": "394692db-86b0-4cc9-e398-b42245bf06d4",
        "colab": {
          "base_uri": "https://localhost:8080/",
          "height": 722
        }
      },
      "source": [
        "df.isnull().sum()"
      ],
      "execution_count": null,
      "outputs": [
        {
          "output_type": "execute_result",
          "data": {
            "text/plain": [
              "0     0\n",
              "1     0\n",
              "2     0\n",
              "3     0\n",
              "4     0\n",
              "5     0\n",
              "6     0\n",
              "7     0\n",
              "8     0\n",
              "9     0\n",
              "10    0\n",
              "11    0\n",
              "12    0\n",
              "13    0\n",
              "14    0\n",
              "15    0\n",
              "16    0\n",
              "17    0\n",
              "18    0\n",
              "19    0\n",
              "20    0\n",
              "21    0\n",
              "22    0\n",
              "23    0\n",
              "24    0\n",
              "25    0\n",
              "26    0\n",
              "27    0\n",
              "28    0\n",
              "29    0\n",
              "30    0\n",
              "31    0\n",
              "32    0\n",
              "33    0\n",
              "34    0\n",
              "35    0\n",
              "36    0\n",
              "37    0\n",
              "38    0\n",
              "39    0\n",
              "40    0\n",
              "dtype: int64"
            ]
          },
          "metadata": {
            "tags": []
          },
          "execution_count": 75
        }
      ]
    },
    {
      "cell_type": "code",
      "metadata": {
        "id": "CrKgqj2W6Fhi"
      },
      "source": [
        "from sklearn.preprocessing import StandardScaler, LabelEncoder\n",
        "sc=StandardScaler()\n",
        "le=LabelEncoder()"
      ],
      "execution_count": null,
      "outputs": []
    },
    {
      "cell_type": "code",
      "metadata": {
        "id": "qF5K35eFAnyN",
        "outputId": "f68f6c1c-9162-4e3b-de2b-b4bda90cc6ff",
        "colab": {
          "base_uri": "https://localhost:8080/",
          "height": 34
        }
      },
      "source": [
        "df.shape"
      ],
      "execution_count": null,
      "outputs": [
        {
          "output_type": "execute_result",
          "data": {
            "text/plain": [
              "(494021, 41)"
            ]
          },
          "metadata": {
            "tags": []
          },
          "execution_count": 77
        }
      ]
    },
    {
      "cell_type": "code",
      "metadata": {
        "id": "51VuT6Wp6X2c"
      },
      "source": [
        "for i in range(1,4):\n",
        "  df[i]=le.fit_transform(df[i])\n",
        "for j in range (6,22):\n",
        "  df[j]=le.fit_transform(df[j])"
      ],
      "execution_count": null,
      "outputs": []
    },
    {
      "cell_type": "code",
      "metadata": {
        "id": "75KR4BkwBDea",
        "outputId": "b47929cc-bad9-4568-ad31-26650c16e05a",
        "colab": {
          "base_uri": "https://localhost:8080/",
          "height": 823
        }
      },
      "source": [
        "df.info()"
      ],
      "execution_count": null,
      "outputs": [
        {
          "output_type": "stream",
          "text": [
            "<class 'pandas.core.frame.DataFrame'>\n",
            "RangeIndex: 494021 entries, 0 to 494020\n",
            "Data columns (total 41 columns):\n",
            " #   Column  Non-Null Count   Dtype \n",
            "---  ------  --------------   ----- \n",
            " 0   0       494021 non-null  object\n",
            " 1   1       494021 non-null  int64 \n",
            " 2   2       494021 non-null  int64 \n",
            " 3   3       494021 non-null  int64 \n",
            " 4   4       494021 non-null  object\n",
            " 5   5       494021 non-null  object\n",
            " 6   6       494021 non-null  int64 \n",
            " 7   7       494021 non-null  int64 \n",
            " 8   8       494021 non-null  int64 \n",
            " 9   9       494021 non-null  int64 \n",
            " 10  10      494021 non-null  int64 \n",
            " 11  11      494021 non-null  int64 \n",
            " 12  12      494021 non-null  int64 \n",
            " 13  13      494021 non-null  int64 \n",
            " 14  14      494021 non-null  int64 \n",
            " 15  15      494021 non-null  int64 \n",
            " 16  16      494021 non-null  int64 \n",
            " 17  17      494021 non-null  int64 \n",
            " 18  18      494021 non-null  int64 \n",
            " 19  19      494021 non-null  int64 \n",
            " 20  20      494021 non-null  int64 \n",
            " 21  21      494021 non-null  int64 \n",
            " 22  22      494021 non-null  object\n",
            " 23  23      494021 non-null  object\n",
            " 24  24      494021 non-null  object\n",
            " 25  25      494021 non-null  object\n",
            " 26  26      494021 non-null  object\n",
            " 27  27      494021 non-null  object\n",
            " 28  28      494021 non-null  object\n",
            " 29  29      494021 non-null  object\n",
            " 30  30      494021 non-null  object\n",
            " 31  31      494021 non-null  object\n",
            " 32  32      494021 non-null  object\n",
            " 33  33      494021 non-null  object\n",
            " 34  34      494021 non-null  object\n",
            " 35  35      494021 non-null  object\n",
            " 36  36      494021 non-null  object\n",
            " 37  37      494021 non-null  object\n",
            " 38  38      494021 non-null  object\n",
            " 39  39      494021 non-null  object\n",
            " 40  40      494021 non-null  object\n",
            "dtypes: int64(19), object(22)\n",
            "memory usage: 154.5+ MB\n"
          ],
          "name": "stdout"
        }
      ]
    },
    {
      "cell_type": "code",
      "metadata": {
        "id": "oBhYfvcSHwP0"
      },
      "source": [
        "y3=pd.get_dummies(y3)"
      ],
      "execution_count": null,
      "outputs": []
    },
    {
      "cell_type": "code",
      "metadata": {
        "id": "HXah4d88IPkl",
        "outputId": "9fc176a2-8260-45a1-e21c-1028e27ee7f7",
        "colab": {
          "base_uri": "https://localhost:8080/",
          "height": 34
        }
      },
      "source": [
        "y3.shape"
      ],
      "execution_count": null,
      "outputs": [
        {
          "output_type": "execute_result",
          "data": {
            "text/plain": [
              "(494021, 23)"
            ]
          },
          "metadata": {
            "tags": []
          },
          "execution_count": 81
        }
      ]
    },
    {
      "cell_type": "code",
      "metadata": {
        "id": "SxCyoALeIYyU",
        "outputId": "f5618cca-059d-449a-f15d-0a319aa26bc4",
        "colab": {
          "base_uri": "https://localhost:8080/",
          "height": 867
        }
      },
      "source": [
        "import seaborn as sns\n",
        "import matplotlib.pyplot as plt\n",
        "cor=df.corr()\n",
        "fig=plt.subplots(figsize=[15,15])\n",
        "ax=sns.heatmap(data= cor, fmt= '.2g', cmap= 'viridis', annot= True)\n",
        "plt.show()"
      ],
      "execution_count": null,
      "outputs": [
        {
          "output_type": "display_data",
          "data": {
            "image/png": "[encoded data removed]",
            "text/plain": [
              "<Figure size 1080x1080 with 2 Axes>"
            ]
          },
          "metadata": {
            "tags": [],
            "needs_background": "light"
          }
        }
      ]
    },
    {
      "cell_type": "code",
      "metadata": {
        "id": "3kHoZZpDMfyw"
      },
      "source": [
        "from sklearn.model_selection import train_test_split"
      ],
      "execution_count": null,
      "outputs": []
    },
    {
      "cell_type": "code",
      "metadata": {
        "id": "_QFQXraCMr1O"
      },
      "source": [
        "xtr,xte,ytr,yte=train_test_split(df,y3,test_size=0.2)"
      ],
      "execution_count": null,
      "outputs": []
    },
    {
      "cell_type": "code",
      "metadata": {
        "id": "y61wufJ5OMEh",
        "outputId": "0fec3cec-0c00-4149-87fd-fb40e096bbb2",
        "colab": {
          "base_uri": "https://localhost:8080/",
          "height": 84
        }
      },
      "source": [
        "print('X_train shape',xtr.shape)\n",
        "print('y_train shape',ytr.shape)\n",
        "print('X_test shape',xte.shape)\n",
        "print('y_test shape',yte.shape)"
      ],
      "execution_count": null,
      "outputs": [
        {
          "output_type": "stream",
          "text": [
            "X_train shape (395216, 41)\n",
            "y_train shape (395216, 23)\n",
            "X_test shape (98805, 41)\n",
            "y_test shape (98805, 23)\n"
          ],
          "name": "stdout"
        }
      ]
    },
    {
      "cell_type": "code",
      "metadata": {
        "id": "wUltM7dtKW8j"
      },
      "source": [
        "xtr=np.array(xtr).astype(np.float32)\n",
        "xte=np.array(xte).astype(np.float32)\n",
        "ytr=np.array(ytr).astype(np.float32)\n",
        "yte=np.array(yte).astype(np.float32)"
      ],
      "execution_count": null,
      "outputs": []
    },
    {
      "cell_type": "code",
      "metadata": {
        "id": "wK-xH07vZpjO"
      },
      "source": [
        "X_train.dtype\n",
        "X_test=np.array(X_test).astype(np.float32)\n",
        "y_train=np.array(y_train).astype(np.float32)\n",
        "y_test=np.array(y_test).astype(np.float32)v"
      ],
      "execution_count": null,
      "outputs": []
    },
    {
      "cell_type": "code",
      "metadata": {
        "id": "UteLX4ZHOh4U"
      },
      "source": [
        "import keras\n",
        "from keras import models\n",
        "from keras import layers"
      ],
      "execution_count": null,
      "outputs": []
    },
    {
      "cell_type": "code",
      "metadata": {
        "id": "4ztlvW_zrR8k"
      },
      "source": [
        "nn2=models.Sequential()\n",
        "\n",
        "nn2.add(layers.Dense(100,activation='relu',input_dim=(41)))\n",
        "nn2.add(layers.Dense(50,activation='relu'))\n",
        "nn2.add(layers.Dense(23,activation='softmax'))"
      ],
      "execution_count": null,
      "outputs": []
    },
    {
      "cell_type": "code",
      "metadata": {
        "id": "VGIav6nsumm6",
        "outputId": "c218a83f-2cce-4568-e2bb-6d615790fd0b",
        "colab": {
          "base_uri": "https://localhost:8080/",
          "height": 252
        }
      },
      "source": [
        "nn2.summary()"
      ],
      "execution_count": null,
      "outputs": [
        {
          "output_type": "stream",
          "text": [
            "Model: \"sequential_4\"\n",
            "_________________________________________________________________\n",
            "Layer (type)                 Output Shape              Param #   \n",
            "=================================================================\n",
            "dense_13 (Dense)             (None, 100)               4200      \n",
            "_________________________________________________________________\n",
            "dense_14 (Dense)             (None, 50)                5050      \n",
            "_________________________________________________________________\n",
            "dense_15 (Dense)             (None, 23)                1173      \n",
            "=================================================================\n",
            "Total params: 10,423\n",
            "Trainable params: 10,423\n",
            "Non-trainable params: 0\n",
            "_________________________________________________________________\n"
          ],
          "name": "stdout"
        }
      ]
    },
    {
      "cell_type": "code",
      "metadata": {
        "id": "BEC7glYRv0gx"
      },
      "source": [
        "nn2.compile(optimizer='adam',loss=['categorical_crossentropy'],metrics='accuracy')"
      ],
      "execution_count": null,
      "outputs": []
    },
    {
      "cell_type": "code",
      "metadata": {
        "id": "QMesH7s9aG41",
        "outputId": "b8b6906a-c1a1-4ecc-c033-331e1ed9989d",
        "colab": {
          "base_uri": "https://localhost:8080/",
          "height": 1000
        }
      },
      "source": [
        "hist2=nn2.fit(xtr,ytr,batch_size=28,epochs=50,validation_split=0.25)"
      ],
      "execution_count": null,
      "outputs": [
        {
          "output_type": "stream",
          "text": [
            "Epoch 1/50\n",
            "10587/10587 [==============================] - 16s 2ms/step - loss: 76.1196 - accuracy: 0.9791 - val_loss: 165.2963 - val_accuracy: 0.9849\n",
            "Epoch 2/50\n",
            "10587/10587 [==============================] - 16s 2ms/step - loss: 98.5407 - accuracy: 0.9889 - val_loss: 33.6436 - val_accuracy: 0.9934\n",
            "Epoch 3/50\n",
            "10587/10587 [==============================] - 16s 2ms/step - loss: 67.9390 - accuracy: 0.9916 - val_loss: 50.5869 - val_accuracy: 0.9956\n",
            "Epoch 4/50\n",
            "10587/10587 [==============================] - 18s 2ms/step - loss: 26.8663 - accuracy: 0.9930 - val_loss: 48.4940 - val_accuracy: 0.9955\n",
            "Epoch 5/50\n",
            "10587/10587 [==============================] - 16s 2ms/step - loss: 25.9804 - accuracy: 0.9941 - val_loss: 32.3830 - val_accuracy: 0.9939\n",
            "Epoch 6/50\n",
            "10587/10587 [==============================] - 16s 2ms/step - loss: 18.7758 - accuracy: 0.9944 - val_loss: 20.4787 - val_accuracy: 0.9965\n",
            "Epoch 7/50\n",
            "10587/10587 [==============================] - 16s 2ms/step - loss: 15.4875 - accuracy: 0.9950 - val_loss: 13.8554 - val_accuracy: 0.9952\n",
            "Epoch 8/50\n",
            "10587/10587 [==============================] - 18s 2ms/step - loss: 9.3801 - accuracy: 0.9958 - val_loss: 33.1293 - val_accuracy: 0.9942\n",
            "Epoch 9/50\n",
            "10587/10587 [==============================] - 16s 2ms/step - loss: 12.6255 - accuracy: 0.9957 - val_loss: 7.7546 - val_accuracy: 0.9974\n",
            "Epoch 10/50\n",
            "10587/10587 [==============================] - 16s 2ms/step - loss: 13.7279 - accuracy: 0.9956 - val_loss: 44.8025 - val_accuracy: 0.9965\n",
            "Epoch 11/50\n",
            "10587/10587 [==============================] - 16s 2ms/step - loss: 17.9370 - accuracy: 0.9959 - val_loss: 4.5966 - val_accuracy: 0.9970\n",
            "Epoch 12/50\n",
            "10587/10587 [==============================] - 16s 2ms/step - loss: 14.6403 - accuracy: 0.9953 - val_loss: 17.9981 - val_accuracy: 0.9946\n",
            "Epoch 13/50\n",
            "10587/10587 [==============================] - 16s 2ms/step - loss: 10.6054 - accuracy: 0.9954 - val_loss: 14.5735 - val_accuracy: 0.9952\n",
            "Epoch 14/50\n",
            "10587/10587 [==============================] - 16s 2ms/step - loss: 18.0473 - accuracy: 0.9953 - val_loss: 30.2100 - val_accuracy: 0.9928\n",
            "Epoch 15/50\n",
            "10587/10587 [==============================] - 16s 2ms/step - loss: 22.0199 - accuracy: 0.9947 - val_loss: 7.0143 - val_accuracy: 0.9968\n",
            "Epoch 16/50\n",
            "10587/10587 [==============================] - 16s 2ms/step - loss: 12.2822 - accuracy: 0.9952 - val_loss: 0.0492 - val_accuracy: 0.9971\n",
            "Epoch 17/50\n",
            "10587/10587 [==============================] - 16s 2ms/step - loss: 9.0555 - accuracy: 0.9932 - val_loss: 1.4890 - val_accuracy: 0.9919\n",
            "Epoch 18/50\n",
            "10587/10587 [==============================] - 16s 2ms/step - loss: 20.7798 - accuracy: 0.9917 - val_loss: 51.9593 - val_accuracy: 0.9889\n",
            "Epoch 19/50\n",
            "10587/10587 [==============================] - 16s 2ms/step - loss: 11.3636 - accuracy: 0.9911 - val_loss: 1.6884 - val_accuracy: 0.9908\n",
            "Epoch 20/50\n",
            "10587/10587 [==============================] - 16s 2ms/step - loss: 15.9084 - accuracy: 0.9909 - val_loss: 33.9835 - val_accuracy: 0.9912\n",
            "Epoch 21/50\n",
            "10587/10587 [==============================] - 16s 2ms/step - loss: 19.5891 - accuracy: 0.9905 - val_loss: 0.7746 - val_accuracy: 0.9909\n",
            "Epoch 22/50\n",
            "10587/10587 [==============================] - 16s 2ms/step - loss: 14.0515 - accuracy: 0.9898 - val_loss: 2.3796 - val_accuracy: 0.9911\n",
            "Epoch 23/50\n",
            "10587/10587 [==============================] - 17s 2ms/step - loss: 13.6280 - accuracy: 0.9887 - val_loss: 8.8295 - val_accuracy: 0.9875\n",
            "Epoch 24/50\n",
            "10587/10587 [==============================] - 16s 2ms/step - loss: 9.2836 - accuracy: 0.9893 - val_loss: 0.1191 - val_accuracy: 0.9888\n",
            "Epoch 25/50\n",
            "10587/10587 [==============================] - 16s 2ms/step - loss: 2.6161 - accuracy: 0.9898 - val_loss: 1.8601 - val_accuracy: 0.9906\n",
            "Epoch 26/50\n",
            "10587/10587 [==============================] - 16s 2ms/step - loss: 0.0654 - accuracy: 0.9903 - val_loss: 0.0483 - val_accuracy: 0.9909\n",
            "Epoch 27/50\n",
            "10587/10587 [==============================] - 20s 2ms/step - loss: 0.0441 - accuracy: 0.9904 - val_loss: 0.0526 - val_accuracy: 0.9893\n",
            "Epoch 28/50\n",
            "10587/10587 [==============================] - 16s 2ms/step - loss: 1.0567 - accuracy: 0.9895 - val_loss: 0.0804 - val_accuracy: 0.9860\n",
            "Epoch 29/50\n",
            "10587/10587 [==============================] - 16s 2ms/step - loss: 0.0560 - accuracy: 0.9879 - val_loss: 0.0577 - val_accuracy: 0.9890\n",
            "Epoch 30/50\n",
            "10587/10587 [==============================] - 16s 2ms/step - loss: 0.0527 - accuracy: 0.9881 - val_loss: 0.0586 - val_accuracy: 0.9877\n",
            "Epoch 31/50\n",
            "10587/10587 [==============================] - 16s 2ms/step - loss: 0.0751 - accuracy: 0.9894 - val_loss: 0.0523 - val_accuracy: 0.9891\n",
            "Epoch 32/50\n",
            "10587/10587 [==============================] - 16s 2ms/step - loss: 0.3514 - accuracy: 0.9890 - val_loss: 0.0564 - val_accuracy: 0.9893\n",
            "Epoch 33/50\n",
            "10587/10587 [==============================] - 16s 2ms/step - loss: 0.1723 - accuracy: 0.9889 - val_loss: 0.0481 - val_accuracy: 0.9902\n",
            "Epoch 34/50\n",
            "10587/10587 [==============================] - 16s 2ms/step - loss: 0.3506 - accuracy: 0.9889 - val_loss: 0.0477 - val_accuracy: 0.9895\n",
            "Epoch 35/50\n",
            "10587/10587 [==============================] - 16s 2ms/step - loss: 0.0628 - accuracy: 0.9887 - val_loss: 0.0498 - val_accuracy: 0.9884\n",
            "Epoch 36/50\n",
            "10587/10587 [==============================] - 16s 2ms/step - loss: 0.0595 - accuracy: 0.9885 - val_loss: 0.0499 - val_accuracy: 0.9895\n",
            "Epoch 37/50\n",
            "10587/10587 [==============================] - 16s 2ms/step - loss: 0.2243 - accuracy: 0.9894 - val_loss: 0.0494 - val_accuracy: 0.9907\n",
            "Epoch 38/50\n",
            "10587/10587 [==============================] - 16s 2ms/step - loss: 0.9165 - accuracy: 0.9894 - val_loss: 0.0497 - val_accuracy: 0.9908\n",
            "Epoch 39/50\n",
            "10587/10587 [==============================] - 16s 2ms/step - loss: 0.0519 - accuracy: 0.9896 - val_loss: 0.0498 - val_accuracy: 0.9906\n",
            "Epoch 40/50\n",
            "10587/10587 [==============================] - 16s 2ms/step - loss: 0.0494 - accuracy: 0.9897 - val_loss: 0.0552 - val_accuracy: 0.9895\n",
            "Epoch 41/50\n",
            "10587/10587 [==============================] - 16s 2ms/step - loss: 0.0474 - accuracy: 0.9898 - val_loss: 0.4759 - val_accuracy: 0.9894\n",
            "Epoch 42/50\n",
            "10587/10587 [==============================] - 17s 2ms/step - loss: 0.1735 - accuracy: 0.9897 - val_loss: 0.0529 - val_accuracy: 0.9879\n",
            "Epoch 43/50\n",
            "10587/10587 [==============================] - 16s 2ms/step - loss: 0.0654 - accuracy: 0.9898 - val_loss: 0.0500 - val_accuracy: 0.9895\n",
            "Epoch 44/50\n",
            "10587/10587 [==============================] - 16s 2ms/step - loss: 0.0515 - accuracy: 0.9901 - val_loss: 0.0811 - val_accuracy: 0.9910\n",
            "Epoch 45/50\n",
            "10587/10587 [==============================] - 16s 2ms/step - loss: 0.1328 - accuracy: 0.9899 - val_loss: 0.0534 - val_accuracy: 0.9905\n",
            "Epoch 46/50\n",
            "10587/10587 [==============================] - 18s 2ms/step - loss: 0.0759 - accuracy: 0.9900 - val_loss: 0.0583 - val_accuracy: 0.9888\n",
            "Epoch 47/50\n",
            "10587/10587 [==============================] - 16s 2ms/step - loss: 0.0583 - accuracy: 0.9898 - val_loss: 0.0536 - val_accuracy: 0.9881\n",
            "Epoch 48/50\n",
            "10587/10587 [==============================] - 16s 2ms/step - loss: 0.0609 - accuracy: 0.9898 - val_loss: 0.0539 - val_accuracy: 0.9880\n",
            "Epoch 49/50\n",
            "10587/10587 [==============================] - 16s 2ms/step - loss: 0.1192 - accuracy: 0.9900 - val_loss: 0.0513 - val_accuracy: 0.9903\n",
            "Epoch 50/50\n",
            "10587/10587 [==============================] - 16s 2ms/step - loss: 0.0486 - accuracy: 0.9901 - val_loss: 0.0494 - val_accuracy: 0.9908\n"
          ],
          "name": "stdout"
        }
      ]
    },
    {
      "cell_type": "code",
      "metadata": {
        "id": "eurtfdBAdmb_",
        "outputId": "e70e0b34-e70d-44b9-ba53-1f788f2015ce",
        "colab": {
          "base_uri": "https://localhost:8080/",
          "height": 295
        }
      },
      "source": [
        "plt.plot(hist2.history['accuracy'])\n",
        "plt.plot(hist2.history['val_accuracy'])\n",
        "plt.title(\"model\")\n",
        "plt.xlabel(\"epochs\")\n",
        "plt.xlabel(\"accuracy\")\n",
        "plt.legend(['Train','Validation'],loc=\"lower right\")\n",
        "plt.show()"
      ],
      "execution_count": null,
      "outputs": [
        {
          "output_type": "display_data",
          "data": {
            "image/png": "[encoded data removed]",
            "text/plain": [
              "<Figure size 432x288 with 1 Axes>"
            ]
          },
          "metadata": {
            "tags": [],
            "needs_background": "light"
          }
        }
      ]
    },
    {
      "cell_type": "markdown",
      "metadata": {
        "id": "RV8gZUl9wFoP"
      },
      "source": [
        "Not working\n",
        "hist2=nn2.fit(xtr,ytr,batch_size=28,epochs=50,validation_split=0.25)"
      ]
    },
    {
      "cell_type": "markdown",
      "metadata": {
        "id": "eBorVsT8OnlJ"
      },
      "source": [
        "Wine dataset"
      ]
    },
    {
      "cell_type": "code",
      "metadata": {
        "id": "kcNYza0VOm3y"
      },
      "source": [
        "wine= datasets.load_wine()"
      ],
      "execution_count": null,
      "outputs": []
    },
    {
      "cell_type": "code",
      "metadata": {
        "id": "DCbkFVx1RGyQ",
        "outputId": "90c8322c-4e0a-4451-fdfe-0c21b634fe85",
        "colab": {
          "base_uri": "https://localhost:8080/",
          "height": 235
        }
      },
      "source": [
        "wine.feature_names"
      ],
      "execution_count": null,
      "outputs": [
        {
          "output_type": "execute_result",
          "data": {
            "text/plain": [
              "['alcohol',\n",
              " 'malic_acid',\n",
              " 'ash',\n",
              " 'alcalinity_of_ash',\n",
              " 'magnesium',\n",
              " 'total_phenols',\n",
              " 'flavanoids',\n",
              " 'nonflavanoid_phenols',\n",
              " 'proanthocyanins',\n",
              " 'color_intensity',\n",
              " 'hue',\n",
              " 'od280/od315_of_diluted_wines',\n",
              " 'proline']"
            ]
          },
          "metadata": {
            "tags": []
          },
          "execution_count": 101
        }
      ]
    },
    {
      "cell_type": "code",
      "metadata": {
        "id": "99-tTyYjRIOr",
        "outputId": "fef4d9f2-17c2-4eb3-bf05-c17bbffdd468",
        "colab": {
          "base_uri": "https://localhost:8080/",
          "height": 34
        }
      },
      "source": [
        "wine.target_names"
      ],
      "execution_count": null,
      "outputs": [
        {
          "output_type": "execute_result",
          "data": {
            "text/plain": [
              "array(['class_0', 'class_1', 'class_2'], dtype='<U7')"
            ]
          },
          "metadata": {
            "tags": []
          },
          "execution_count": 102
        }
      ]
    },
    {
      "cell_type": "code",
      "metadata": {
        "id": "j-wWYBFdRSz_",
        "outputId": "c9c2699b-bf6b-4f2b-f7f8-b57a6dde8cc4",
        "colab": {
          "base_uri": "https://localhost:8080/",
          "height": 168
        }
      },
      "source": [
        "wine.target"
      ],
      "execution_count": null,
      "outputs": [
        {
          "output_type": "execute_result",
          "data": {
            "text/plain": [
              "array([0, 0, 0, 0, 0, 0, 0, 0, 0, 0, 0, 0, 0, 0, 0, 0, 0, 0, 0, 0, 0, 0,\n",
              "       0, 0, 0, 0, 0, 0, 0, 0, 0, 0, 0, 0, 0, 0, 0, 0, 0, 0, 0, 0, 0, 0,\n",
              "       0, 0, 0, 0, 0, 0, 0, 0, 0, 0, 0, 0, 0, 0, 0, 1, 1, 1, 1, 1, 1, 1,\n",
              "       1, 1, 1, 1, 1, 1, 1, 1, 1, 1, 1, 1, 1, 1, 1, 1, 1, 1, 1, 1, 1, 1,\n",
              "       1, 1, 1, 1, 1, 1, 1, 1, 1, 1, 1, 1, 1, 1, 1, 1, 1, 1, 1, 1, 1, 1,\n",
              "       1, 1, 1, 1, 1, 1, 1, 1, 1, 1, 1, 1, 1, 1, 1, 1, 1, 1, 1, 1, 2, 2,\n",
              "       2, 2, 2, 2, 2, 2, 2, 2, 2, 2, 2, 2, 2, 2, 2, 2, 2, 2, 2, 2, 2, 2,\n",
              "       2, 2, 2, 2, 2, 2, 2, 2, 2, 2, 2, 2, 2, 2, 2, 2, 2, 2, 2, 2, 2, 2,\n",
              "       2, 2])"
            ]
          },
          "metadata": {
            "tags": []
          },
          "execution_count": 103
        }
      ]
    },
    {
      "cell_type": "code",
      "metadata": {
        "id": "ON9DLCCsf0L1"
      },
      "source": [
        "x_wine=wine.data"
      ],
      "execution_count": null,
      "outputs": []
    },
    {
      "cell_type": "code",
      "metadata": {
        "id": "88sEnDSpsejU"
      },
      "source": [
        "y_wine=wine.target"
      ],
      "execution_count": null,
      "outputs": []
    }
  ]
}